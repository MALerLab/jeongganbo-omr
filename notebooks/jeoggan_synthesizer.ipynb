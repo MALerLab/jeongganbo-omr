{
 "cells": [
  {
   "cell_type": "code",
   "execution_count": 2,
   "metadata": {},
   "outputs": [
    {
     "name": "stdout",
     "output_type": "stream",
     "text": [
      "/home/dongmin/23FW-NCG/jeongganbo-omr\n"
     ]
    }
   ],
   "source": [
    "%cd /home/dongmin/23FW-NCG/jeongganbo-omr\n",
    "%load_ext autoreload\n",
    "%autoreload 2"
   ]
  },
  {
   "cell_type": "code",
   "execution_count": 3,
   "metadata": {},
   "outputs": [],
   "source": [
    "import re\n",
    "import glob\n",
    "from random import randint, choice\n",
    "from tqdm import tqdm\n",
    "\n",
    "import cv2\n",
    "import numpy as np\n",
    "import matplotlib.pyplot as plt\n",
    "\n",
    "from exp_utils import JeongganProcessor"
   ]
  },
  {
   "cell_type": "markdown",
   "metadata": {},
   "source": [
    "# Jng Synthesizer"
   ]
  },
  {
   "cell_type": "markdown",
   "metadata": {},
   "source": [
    "## PATHS"
   ]
  },
  {
   "cell_type": "code",
   "execution_count": 4,
   "metadata": {},
   "outputs": [
    {
     "name": "stdout",
     "output_type": "stream",
     "text": [
      "['conti_001', 'conti_002', 'ee', 'ee_dd', 'eung', 'eung_d', 'go', 'go_d', 'go_u', 'hwang', 'hwang_d', 'hwang_d_ot', 'hwang_dd_ot', 'hwang_ot', 'hwang_u', 'hwang_u_ot', 'hwang_uu', 'hyeop', 'hyeop_d', 'hyeop_dd', 'hyeop_u', 'joong', 'joong_d', 'joong_dd', 'joong_u', 'lim', 'lim_d', 'lim_dd', 'lim_ddd', 'lim_u', 'mu', 'mu_d', 'mu_dd', 'mu_u', 'nam', 'nam_d', 'nam_dd', 'nam_u', 'pause', 'tae', 'tae_d', 'tae_dd', 'tae_u']\n"
     ]
    }
   ],
   "source": [
    "img_path_base = 'test/synth/src/'\n",
    "img_path_sub = ['notes/']\n",
    "img_ext = '.png'\n",
    "\n",
    "img_paths = { \n",
    "  subpath[:-1]: {\n",
    "    path.replace(f'{img_path_base}{subpath}', '').replace(img_ext, ''): path \\\n",
    "    for path in glob.glob(f'{img_path_base}{subpath}*{img_ext}')\n",
    "  } for subpath in img_path_sub \n",
    "}\n",
    "\n",
    "# print([ name for name in img_paths['notations'].keys() ])\n",
    "print(sorted([ name for name in img_paths['notes'].keys() ]))\n",
    "\n",
    "note_paths = {}\n",
    "\n",
    "for name, path in sorted(img_paths['notes'].items(), key=lambda x: x[0]):\n",
    "  name = re.sub(r'(_\\d\\d\\d)|(_ot)', '', name)\n",
    "  \n",
    "  if note_paths.get(name, False):\n",
    "    note_paths[name].append(path)\n",
    "  else:\n",
    "    note_paths[name] = [path]\n",
    "\n",
    "for name, paths in note_paths.items():\n",
    "  if len(paths) < 2:\n",
    "    note_paths[name] = paths[0]"
   ]
  },
  {
   "cell_type": "markdown",
   "metadata": {},
   "source": [
    "## CONSTS"
   ]
  },
  {
   "cell_type": "markdown",
   "metadata": {},
   "source": [
    "**memo**\n",
    "\n",
    "* width\n",
    "    * init width: 100\n",
    "    * width noise: -10 ~ 13\n",
    "\n",
    "* ratio\n",
    "    * init ratio: 1.4\n",
    "    * ratio noise: -0.7 ~ 1.0"
   ]
  },
  {
   "cell_type": "code",
   "execution_count": 28,
   "metadata": {},
   "outputs": [],
   "source": [
    "INIT_WIDTH = 100\n",
    "WIDTH_NOISE_SIG = 3.34\n",
    "WIDTH_NOISE_MIN = -10\n",
    "WIDTH_NOISE_MAX = 13\n",
    "\n",
    "INIT_RATIO = 1.4\n",
    "RATIO_NOISE_SIG = 0.3\n",
    "RATIO_NOISE_MIN = -0.7\n",
    "RATIO_NOISE_MAX = 1.0\n",
    "\n",
    "# pitch order: 황, 대, 태, 협, 고, 중, 유, 임, 이, 남, 무, 응\n",
    "# PITCH_ORDER = ['hwang', 'dae', 'tae', 'hyeop', 'go', 'joong', 'yoo', 'lim', 'ee', 'nam', 'mu', 'eung']\n",
    "OCTAVE_WIDTH = 10\n",
    "OCTAVE_RANGE = 6\n",
    "\n",
    "PITCH_ORDER = [\n",
    "                                                         'lim_ddd', None,     None,       None,     None,\n",
    "  'hwang_dd', 'tae_dd', 'hyeop_dd',  None,   'joong_dd', 'lim_dd',  'ee_dd',  'nam_dd',   'mu_dd',  None,\n",
    "  'hwang_d',  'tae_d',  'hyeop_d',  'go_d',  'joong_d',  'lim_d',   None,     'nam_d',    'mu_d',   'eung_d',\n",
    "  'hwang',    'tae',    'hyeop',    'go',    'joong',    'lim',     'ee',     'nam',      'mu',     'eung',\n",
    "  'hwang_u',  'tae_u',  'hyeop_u',  'go_u',  'joong_u',  'lim_u',   None,     'nam_u',    'mu_u',   None,\n",
    "  'hwang_uu'\n",
    "]\n",
    "\n",
    "MARK_HEIGHT = 27\n",
    "MARK_WIDTHS = {\n",
    "  'conti': 21,\n",
    "  'pause': 27\n",
    "}"
   ]
  },
  {
   "cell_type": "markdown",
   "metadata": {},
   "source": [
    "## label generator"
   ]
  },
  {
   "cell_type": "code",
   "execution_count": 6,
   "metadata": {},
   "outputs": [
    {
     "name": "stdout",
     "output_type": "stream",
     "text": [
      "['tae_u', 'hyeop_u', 'go_u', 'joong_u', 'lim_u', 'nam_u', 'mu_u']\n",
      "{'row_div': 1, 'rows': [{'col_div': 1, 'cols': ['pause']}]}\n"
     ]
    }
   ],
   "source": [
    "def get_pitch_range(): # len 5 ~ 8\n",
    "  num_pitch = len(PITCH_ORDER)\n",
    "  \n",
    "  center = randint(0, num_pitch)\n",
    "  offset = bool(randint(0, 1)) # True: center is octave_width//2 / False: center is octave_width//2 + 1\n",
    "  \n",
    "  min_idx = 4 if offset else 5\n",
    "  max_idx = 5 if offset else 4\n",
    "  \n",
    "  res = []\n",
    "  \n",
    "  if center < min_idx:\n",
    "    res = PITCH_ORDER[:OCTAVE_WIDTH]\n",
    "    \n",
    "  elif center > num_pitch - max_idx:\n",
    "    res = PITCH_ORDER[num_pitch-OCTAVE_WIDTH:]\n",
    "  \n",
    "  else:\n",
    "    res = PITCH_ORDER[center-min_idx:center+max_idx]\n",
    "  \n",
    "  return list(filter(None, res))\n",
    "\n",
    "def get_jng_dict(plist, div=None):\n",
    "  plist = ['conti', 'pause'] + plist\n",
    "  \n",
    "  row_div = div if div else randint(1, 3)\n",
    "  \n",
    "  res = {\n",
    "    'row_div': row_div,\n",
    "    'rows': []\n",
    "  }\n",
    "  \n",
    "  for _ in range(row_div):\n",
    "    col_div = randint(1, 2) if row_div > 1 else 1\n",
    "    cols = []\n",
    "    \n",
    "    for _ in range(col_div):\n",
    "      cur = choice(plist)\n",
    "      \n",
    "      cols.append(cur)\n",
    "    \n",
    "    res['rows'].append({\n",
    "      'col_div': col_div,\n",
    "      'cols': cols\n",
    "    })\n",
    "  \n",
    "  return res\n",
    "\n",
    "print(pitch_range := get_pitch_range())\n",
    "print(get_jng_dict(pitch_range))"
   ]
  },
  {
   "cell_type": "markdown",
   "metadata": {},
   "source": [
    "## image generator"
   ]
  },
  {
   "cell_type": "markdown",
   "metadata": {},
   "source": [
    "### get_size()"
   ]
  },
  {
   "cell_type": "code",
   "execution_count": 7,
   "metadata": {},
   "outputs": [
    {
     "data": {
      "text/plain": [
       "(101, 131)"
      ]
     },
     "execution_count": 7,
     "metadata": {},
     "output_type": "execute_result"
    }
   ],
   "source": [
    "def clamp(val, _min, _max):\n",
    "  return min(_max, max(_min, val))\n",
    "\n",
    "def get_width():\n",
    "  noise = clamp( round(np.random.normal(0, WIDTH_NOISE_SIG)), WIDTH_NOISE_MIN, WIDTH_NOISE_MAX )\n",
    "  return INIT_WIDTH + noise\n",
    "\n",
    "def get_ratio(): \n",
    "  noise = round( clamp( np.random.normal(0, RATIO_NOISE_SIG), RATIO_NOISE_MIN, RATIO_NOISE_MAX ), 1 )\n",
    "  return INIT_RATIO + noise \n",
    "\n",
    "def get_size():\n",
    "  width = get_width()\n",
    "  ratio = get_ratio()\n",
    "  \n",
    "  return width, round(width * ratio)\n",
    "\n",
    "get_size()"
   ]
  },
  {
   "cell_type": "code",
   "execution_count": 8,
   "metadata": {},
   "outputs": [
    {
     "data": {
      "text/plain": [
       "<matplotlib.image.AxesImage at 0x7f297c1f29d0>"
      ]
     },
     "execution_count": 8,
     "metadata": {},
     "output_type": "execute_result"
    },
    {
     "data": {
      "image/png": "[encoded data removed]",
      "text/plain": [
       "<Figure size 640x480 with 1 Axes>"
      ]
     },
     "metadata": {},
     "output_type": "display_data"
    }
   ],
   "source": [
    "def remove_background(img, crop=True):\n",
    "  img = cv2.cvtColor(img, cv2.COLOR_RGB2RGBA)\n",
    "  \n",
    "  img_grey = cv2.cvtColor(img, cv2.COLOR_RGBA2GRAY)\n",
    "  \n",
    "  y, x = np.where(img_grey > 250)\n",
    "  \n",
    "  img_cp = img.copy()\n",
    "  \n",
    "  img_cp[y, x] = np.full(4, 0, dtype=np.uint8)\n",
    "  \n",
    "  return img_cp\n",
    "\n",
    "def get_blank(width, height, bg='white'):\n",
    "  blank = np.zeros((height, width, 4), dtype=np.uint8)\n",
    "  \n",
    "  if bg == 'white':\n",
    "    blank[:, :] = np.array([255, 255, 255, 255], dtype=np.uint8)\n",
    "  elif bg == 'black':\n",
    "    blank[:, :] = np.array([0, 0, 0, 255], dtype=np.uint8)\n",
    "  \n",
    "  return blank\n",
    "\n",
    "def insert_img(src, insert, x, y):\n",
    "  h, w = insert.shape[:2]\n",
    "\n",
    "  # normalize alpha to 0 ~ 1\n",
    "  src_alpha = src[y:y+h, x:x+w, 3] / 255.0\n",
    "  ins_alpha = insert[:, :, 3] / 255.0\n",
    "\n",
    "  # blend src and insert channel by channel\n",
    "  for ch in range(0, 3):\n",
    "    src[y:y+h, x:x+w, ch] = ins_alpha * insert[:, :, ch] + \\\n",
    "                            src_alpha * src[y:y+h, x:x+w, ch] * (1 - ins_alpha)\n",
    "\n",
    "  # denoramlize alpha to 0 ~ 255\n",
    "  src[y:y+h, x:x+w, 3] = (1 - (1 - ins_alpha) * (1 - src_alpha)) * 255\n",
    "  \n",
    "  return src\n",
    "\n",
    "def resize_img_by_height(img, target_height):\n",
    "  og_h, og_w = img.shape[:2]\n",
    "  \n",
    "  resize_ratio = target_height / og_h\n",
    "  resize_width = round(og_w * resize_ratio)\n",
    "  \n",
    "  return cv2.resize(img, dsize=(resize_width, target_height), interpolation=None)\n",
    "\n",
    "insert_paths = [note_paths['nam_d'], note_paths['lim_u']]\n",
    "positions = [ (30, 30), (30, 80) ]\n",
    "\n",
    "img = get_blank(100, 140)\n",
    "\n",
    "target_height = 37\n",
    "\n",
    "for idx, ins_path in enumerate(insert_paths):\n",
    "  ins = cv2.imread(ins_path, cv2.IMREAD_UNCHANGED)\n",
    "  \n",
    "  ins_re = resize_img_by_height(ins, target_height)\n",
    "  ins_re = remove_background(ins_re)\n",
    "  \n",
    "  ins_x, ins_y = positions[idx]\n",
    "  \n",
    "  img = insert_img(img, ins_re, ins_x, ins_y)\n",
    "\n",
    "plt.imshow(img, interpolation='none')"
   ]
  },
  {
   "cell_type": "code",
   "execution_count": 99,
   "metadata": {},
   "outputs": [
    {
     "data": {
      "text/plain": [
       "(27, 27, 4)"
      ]
     },
     "execution_count": 99,
     "metadata": {},
     "output_type": "execute_result"
    },
    {
     "data": {
      "image/png": "[encoded data removed]",
      "text/plain": [
       "<Figure size 640x480 with 1 Axes>"
      ]
     },
     "metadata": {},
     "output_type": "display_data"
    }
   ],
   "source": [
    "def make_mark(img, name):\n",
    "  width = MARK_WIDTHS[name]\n",
    "  img_rs = cv2.resize(img, dsize=( width, round(img.shape[0]/img.shape[1] * width) ))\n",
    "  \n",
    "  bg = get_blank(width, MARK_HEIGHT)\n",
    "  \n",
    "  return insert_img(bg, img_rs, 0, MARK_HEIGHT//2 - img_rs.shape[0]//2)\n",
    "\n",
    "mark_name = 'pause'\n",
    "mark_img = cv2.imread(note_paths[mark_name], cv2.IMREAD_UNCHANGED)\n",
    "\n",
    "plt.imshow(mark_img)\n",
    "\n",
    "make_mark(mark_img, mark_name).shape"
   ]
  },
  {
   "cell_type": "code",
   "execution_count": 144,
   "metadata": {},
   "outputs": [
    {
     "name": "stdout",
     "output_type": "stream",
     "text": [
      "청임:5\n"
     ]
    },
    {
     "data": {
      "text/plain": [
       "<matplotlib.image.AxesImage at 0x7f2972836c40>"
      ]
     },
     "execution_count": 144,
     "metadata": {},
     "output_type": "execute_result"
    },
    {
     "data": {
      "image/png": "[encoded data removed]",
      "text/plain": [
       "<Figure size 640x480 with 1 Axes>"
      ]
     },
     "metadata": {},
     "output_type": "display_data"
    }
   ],
   "source": [
    "img_w, img_h = get_size()\n",
    "img = get_blank(img_w, img_h)\n",
    "\n",
    "pitch_range = get_pitch_range()\n",
    "jng_dict = get_jng_dict( pitch_range, div=( 2 if img_h/img_w < 1.0 else None ) )\n",
    "\n",
    "# label format\n",
    "jng_dict_format = {\n",
    "  'row_div': jng_dict['row_div'],\n",
    "  'rows': [ { 'col_div': row['col_div'], 'cols': [ (0, 0, 0, 0, col) for col in row['cols'] ]} for row in jng_dict['rows'] ]\n",
    "}\n",
    "\n",
    "print(JeongganProcessor.get_label( jng_dict_format ))\n",
    "\n",
    "# image generation\n",
    "row_div = jng_dict['row_div']\n",
    "\n",
    "note_height = 40 if row_div == 1 else 36\n",
    "\n",
    "row_heights = []\n",
    "for row in jng_dict['rows']:\n",
    "  if row['col_div'] == 1 and row['cols'][0] == 'conti':\n",
    "    row_heights.append(mark_height)\n",
    "    continue\n",
    "  \n",
    "  row_heights.append(note_height)\n",
    "\n",
    "gap = (img_h - sum(row_heights)) // (row_div + 1)\n",
    "\n",
    "row_template = [ gap + idx * (row_heights[idx - 1 if idx > 0 else idx] + gap) for idx in range(row_div) ]\n",
    "\n",
    "for row_idx, row in enumerate(jng_dict['rows']):\n",
    "  col_div = row['col_div']\n",
    "  \n",
    "  notes = [] \n",
    "  for note_name in row['cols']:\n",
    "    note_img_path = note_paths[note_name]\n",
    "    \n",
    "    if isinstance(note_img_path, list):\n",
    "      note_img_path = choice(note_img_path)\n",
    "    \n",
    "    note_img = cv2.imread(note_img_path, cv2.IMREAD_UNCHANGED)\n",
    "    \n",
    "    if note_name in ('conti', 'pause'):\n",
    "      note_img = make_mark(note_img, note_name)\n",
    "    else:\n",
    "      note_img = resize_img_by_height(note_img, note_height)\n",
    "    \n",
    "    note_img = remove_background(note_img)\n",
    "    \n",
    "    notes.append((note_img, note_name))\n",
    "  \n",
    "  gap = ( img_w - sum( [ note[0].shape[1] for note in notes ] ) ) // (col_div + 1)\n",
    "  col_template = [ gap + idx * (notes[idx - 1 if idx > 0 else idx][0].shape[1] + gap) for idx in range(col_div) ] if col_div > 1 else [ round(img_w / 2) - round(notes[0][0].shape[1] / 2) ]\n",
    "  \n",
    "  for col_idx, note_tuple in enumerate(notes):\n",
    "    note, note_name = note_tuple\n",
    "    \n",
    "    pos_x = col_template[col_idx]\n",
    "    pos_y = row_template[row_idx]\n",
    "    \n",
    "    if note_name == 'conti':\n",
    "      pos_y += (note_height - note.shape[0]) // 2\n",
    "  \n",
    "    img = insert_img(img, note, pos_x, pos_y)\n",
    "\n",
    "plt.imshow(img, interpolation=None)"
   ]
  }
 ],
 "metadata": {
  "kernelspec": {
   "display_name": "jeongganbo-omr-ftFKYzOH",
   "language": "python",
   "name": "python3"
  },
  "language_info": {
   "codemirror_mode": {
    "name": "ipython",
    "version": 3
   },
   "file_extension": ".py",
   "mimetype": "text/x-python",
   "name": "python",
   "nbconvert_exporter": "python",
   "pygments_lexer": "ipython3",
   "version": "3.8.10"
  }
 },
 "nbformat": 4,
 "nbformat_minor": 2
}
