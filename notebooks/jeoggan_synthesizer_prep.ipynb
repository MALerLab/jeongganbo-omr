{
 "cells": [
  {
   "cell_type": "code",
   "execution_count": 2,
   "metadata": {},
   "outputs": [
    {
     "name": "stdout",
     "output_type": "stream",
     "text": [
      "/home/dongmin/23FW-NCG/jeongganbo-omr\n"
     ]
    }
   ],
   "source": [
    "%cd /home/dongmin/23FW-NCG/jeongganbo-omr\n",
    "%load_ext autoreload\n",
    "%autoreload 2"
   ]
  },
  {
   "cell_type": "code",
   "execution_count": 4,
   "metadata": {},
   "outputs": [],
   "source": [
    "from pathlib import Path\n",
    "import glob\n",
    "import cv2\n",
    "\n",
    "from tqdm import tqdm\n",
    "import matplotlib.pyplot as plt\n",
    "\n",
    "import numpy as np\n",
    "\n",
    "from omr_cnn import get_img_paths"
   ]
  },
  {
   "cell_type": "markdown",
   "metadata": {},
   "source": [
    "# Load ext files and paths"
   ]
  },
  {
   "cell_type": "code",
   "execution_count": 7,
   "metadata": {},
   "outputs": [
    {
     "name": "stdout",
     "output_type": "stream",
     "text": [
      "['neuni-reu_001', 'nora', 'ignore_001', 'naneuna_001', 'ri', 'neuna', 'neuneneu', 'nina-dur', 'neuronireu', 'nanireunonireu', 'rep-flow_001', 'naniro', 'noniro', 'flow_002', 'nirena', 'repeat_002', 'vib_001', 'no', 'ignore_003', 'flow_001', 'len-twice', 'ignore_002', 'niro', 'none', 'ro', 'short', 'niru-ni', 'repeat_001', 'noraneuni', 'nerone', 'nire', 'nerona', 'nanina', 'push', 'rep-flow_003', 'roll', 'nineurani', 'neunanina', 'norino', 'len-half', 'ni', 'nina', 'fermata_001', 'neonye', 'rep-flow_002', 'neunareunani', 'repeat_003', 'accent', 'vib-long', 'neuni', 'neuni-reu_002', 'nirona']\n"
     ]
    }
   ],
   "source": [
    "img_sub_path = 'symbols'\n",
    "\n",
    "img_path_base = Path('test/synth/raw/')\n",
    "img_raw_ext = '.png'\n",
    "\n",
    "img_path = img_path_base / img_sub_path\n",
    "\n",
    "img_path_dict = { \n",
    "  str(path).split('/')[-1].replace('.png', ''): str(path) \\\n",
    "  for path in img_path.glob('*.png')\n",
    "}\n",
    "\n",
    "print([ name for name in img_path_dict.keys() ])"
   ]
  },
  {
   "cell_type": "code",
   "execution_count": 8,
   "metadata": {},
   "outputs": [
    {
     "data": {
      "text/plain": [
       "'test/synth/raw/symbols/noniro.png'"
      ]
     },
     "execution_count": 8,
     "metadata": {},
     "output_type": "execute_result"
    }
   ],
   "source": [
    "img_path_dict['noniro']"
   ]
  },
  {
   "cell_type": "code",
   "execution_count": 9,
   "metadata": {},
   "outputs": [
    {
     "data": {
      "text/plain": [
       "<matplotlib.image.AxesImage at 0x7f87cef01d90>"
      ]
     },
     "execution_count": 9,
     "metadata": {},
     "output_type": "execute_result"
    },
    {
     "data": {
      "image/png": "[encoded data removed]",
      "text/plain": [
       "<Figure size 640x480 with 1 Axes>"
      ]
     },
     "metadata": {},
     "output_type": "display_data"
    }
   ],
   "source": [
    "img = cv2.imread(img_path_dict['noniro'], cv2.IMREAD_UNCHANGED)\n",
    "\n",
    "plt.imshow(img)"
   ]
  },
  {
   "cell_type": "markdown",
   "metadata": {},
   "source": [
    "# pre-process imgs"
   ]
  },
  {
   "cell_type": "markdown",
   "metadata": {},
   "source": [
    "## test: removing background\n",
    "- 1st attempt: using threshold\n",
    "- current attempt: by pixel color value"
   ]
  },
  {
   "cell_type": "code",
   "execution_count": 10,
   "metadata": {},
   "outputs": [
    {
     "data": {
      "image/png": "[encoded data removed]",
      "text/plain": [
       "<Figure size 2000x1000 with 2 Axes>"
      ]
     },
     "metadata": {},
     "output_type": "display_data"
    }
   ],
   "source": [
    "def crop_image(img):\n",
    "  img = cv2.cvtColor(img, cv2.COLOR_RGB2RGBA)\n",
    "  \n",
    "  img_grey = 255 - cv2.cvtColor(img, cv2.COLOR_RGBA2GRAY)\n",
    "  \n",
    "  slice_idxs = []\n",
    "  \n",
    "  for iter_num in range(4):\n",
    "    target = np.transpose(img_grey, axes=(1, 0)) if iter_num > 1 else img_grey\n",
    "      \n",
    "    rng = range(len(target)) if iter_num % 2 == 0 else range(len(target) - 1, 0, -1)\n",
    "    \n",
    "    for idx in rng:\n",
    "      arr = target[idx]\n",
    "      p_sum = sum(arr)\n",
    "      \n",
    "      if p_sum > 10:\n",
    "        slice_idxs.append(idx)\n",
    "        break\n",
    "  \n",
    "  row_st, row_ed, col_st, col_ed = slice_idxs\n",
    "  \n",
    "  return img.copy()[row_st:row_ed+1, col_st:col_ed+1, :]\n",
    "\n",
    "\n",
    "img = cv2.imread(img_path_dict['noniro'], cv2.IMREAD_UNCHANGED)\n",
    "img_cp = crop_image(img)\n",
    "\n",
    "plt.figure(figsize=(20, 10))\n",
    "\n",
    "plt.subplot(1, 2, 1)\n",
    "plt.imshow(img)\n",
    "\n",
    "plt.subplot(1, 2, 2, facecolor=\"0\")\n",
    "plt.imshow(img_cp, interpolation='none')\n",
    "\n",
    "plt.show()"
   ]
  },
  {
   "cell_type": "markdown",
   "metadata": {},
   "source": [
    "## remove background from all pitch char imgs (Done)"
   ]
  },
  {
   "cell_type": "code",
   "execution_count": 19,
   "metadata": {},
   "outputs": [],
   "source": [
    "base_path = Path('test/synth/src/symbols')\n",
    "\n",
    "def crop_image_and_save(name, p, base):\n",
    "  img = cv2.imread(p, cv2.IMREAD_UNCHANGED)\n",
    "  img_crop = crop_image(img)\n",
    "  cv2.imwrite(str(base / f'{name}.png'), img_crop)\n",
    "\n",
    "for note_name, path in img_path_dict.items():\n",
    "  crop_image_and_save(note_name, path, base_path)"
   ]
  },
  {
   "cell_type": "code",
   "execution_count": 11,
   "metadata": {},
   "outputs": [
    {
     "data": {
      "text/plain": [
       "True"
      ]
     },
     "execution_count": 11,
     "metadata": {},
     "output_type": "execute_result"
    }
   ],
   "source": [
    "name = 'neuni-reu_001'\n",
    "\n",
    "p = f'test/synth/raw/symbols/{name}.png'\n",
    "\n",
    "img = cv2.imread(p, cv2.IMREAD_UNCHANGED)\n",
    "img_crop = crop_image(img)\n",
    "cv2.imwrite(f'test/synth/src/symbols/{name}.png', img_crop)"
   ]
  },
  {
   "cell_type": "markdown",
   "metadata": {},
   "source": [
    "# Jng Size Stats"
   ]
  },
  {
   "cell_type": "markdown",
   "metadata": {},
   "source": [
    "## Jng ratio histogram"
   ]
  },
  {
   "cell_type": "code",
   "execution_count": 6,
   "metadata": {},
   "outputs": [
    {
     "name": "stderr",
     "output_type": "stream",
     "text": [
      "                                                          \r"
     ]
    }
   ],
   "source": [
    "jng_img_dir = 'test/split_pngs'\n",
    "jng_img_paths = sorted(glob.glob(f'{jng_img_dir}/*.png'))\n",
    "\n",
    "width = []\n",
    "height = []\n",
    "\n",
    "for path in tqdm(jng_img_paths, leave=False):\n",
    "  h, w, _ = cv2.imread(path).shape\n",
    "  width.append(w)\n",
    "  height.append(h)\n",
    "\n",
    "ratio = [ round(h/w, 1) for w, h in zip(width, height)]"
   ]
  },
  {
   "cell_type": "code",
   "execution_count": 8,
   "metadata": {},
   "outputs": [
    {
     "data": {
      "text/plain": [
       "<BarContainer object of 15 artists>"
      ]
     },
     "execution_count": 8,
     "metadata": {},
     "output_type": "execute_result"
    },
    {
     "data": {
      "image/png": "[encoded data removed]",
      "text/plain": [
       "<Figure size 1000x3000 with 1 Axes>"
      ]
     },
     "metadata": {},
     "output_type": "display_data"
    }
   ],
   "source": [
    "from collections import Counter\n",
    "\n",
    "ratios = (ratio)\n",
    "widths = Counter(width)\n",
    "\n",
    "plt.figure(figsize=(10, 30))\n",
    "\n",
    "plt.subplot(2, 1, 1)\n",
    "plt.bar(ratios.keys(), ratios.values(), 0.06)"
   ]
  },
  {
   "cell_type": "code",
   "execution_count": 10,
   "metadata": {},
   "outputs": [
    {
     "data": {
      "text/plain": [
       "[(2.4, 46),\n",
       " (2.3, 95),\n",
       " (2.2, 11),\n",
       " (1.8, 8),\n",
       " (1.7, 945),\n",
       " (1.6, 268),\n",
       " (1.5, 852),\n",
       " (1.4, 42542),\n",
       " (1.3, 16963),\n",
       " (1.2, 36281),\n",
       " (1.1, 10659),\n",
       " (1.0, 4627),\n",
       " (0.9, 28200),\n",
       " (0.8, 224),\n",
       " (0.7, 17)]"
      ]
     },
     "execution_count": 10,
     "metadata": {},
     "output_type": "execute_result"
    }
   ],
   "source": [
    "ratio_tups = [ (r, c) for r, c in ratios.items() ]\n",
    "\n",
    "ratio_tups.sort(key = lambda x: x[0], reverse=True)\n",
    "\n",
    "ratio_tups"
   ]
  },
  {
   "cell_type": "markdown",
   "metadata": {},
   "source": [
    "## Jng width histogram"
   ]
  },
  {
   "cell_type": "code",
   "execution_count": 9,
   "metadata": {},
   "outputs": [
    {
     "data": {
      "text/plain": [
       "<BarContainer object of 18 artists>"
      ]
     },
     "execution_count": 9,
     "metadata": {},
     "output_type": "execute_result"
    },
    {
     "data": {
      "image/png": "[encoded data removed]",
      "text/plain": [
       "<Figure size 1000x1000 with 1 Axes>"
      ]
     },
     "metadata": {},
     "output_type": "display_data"
    }
   ],
   "source": [
    "plt.figure(figsize=(10, 10))\n",
    "\n",
    "plt.subplot(2, 1, 1)\n",
    "plt.bar(widths.keys(), widths.values(), 0.5)"
   ]
  },
  {
   "cell_type": "code",
   "execution_count": 27,
   "metadata": {},
   "outputs": [
    {
     "data": {
      "text/plain": [
       "([(113, 24),\n",
       "  (112, 48),\n",
       "  (107, 1361),\n",
       "  (106, 7332),\n",
       "  (105, 59),\n",
       "  (104, 125),\n",
       "  (103, 96),\n",
       "  (102, 70787),\n",
       "  (101, 49007),\n",
       "  (100, 102),\n",
       "  (99, 11),\n",
       "  (98, 2034),\n",
       "  (97, 4464),\n",
       "  (96, 1546),\n",
       "  (95, 941),\n",
       "  (94, 1989),\n",
       "  (93, 1680),\n",
       "  (91, 132)],\n",
       " 100.88888888888889)"
      ]
     },
     "execution_count": 27,
     "metadata": {},
     "output_type": "execute_result"
    }
   ],
   "source": [
    "width_tups = [ (w, c) for w, c, in widths.items() ]\n",
    "width_tups.sort(key=lambda x: x[0], reverse=True)\n",
    "\n",
    "width_tups, sum([ w for w, _ in width_tups])/len(width_tups)"
   ]
  },
  {
   "cell_type": "markdown",
   "metadata": {},
   "source": [
    "## Jeonggan Width/Height histogram"
   ]
  },
  {
   "cell_type": "code",
   "execution_count": 4,
   "metadata": {},
   "outputs": [
    {
     "name": "stderr",
     "output_type": "stream",
     "text": [
      "                                                          \r"
     ]
    }
   ],
   "source": [
    "jng_img_dir = 'test/split_pngs'\n",
    "jng_img_paths = sorted(glob.glob(f'{jng_img_dir}/*.png'))\n",
    "\n",
    "size_list = []\n",
    "\n",
    "for path in tqdm(jng_img_paths, leave=False):\n",
    "  h, w, _ = cv2.imread(path).shape\n",
    "  size_list.append((w, h))"
   ]
  },
  {
   "cell_type": "code",
   "execution_count": 22,
   "metadata": {},
   "outputs": [
    {
     "data": {
      "text/plain": [
       "141738"
      ]
     },
     "execution_count": 22,
     "metadata": {},
     "output_type": "execute_result"
    }
   ],
   "source": [
    "len(jng_img_paths)"
   ]
  },
  {
   "cell_type": "code",
   "execution_count": 24,
   "metadata": {},
   "outputs": [
    {
     "data": {
      "text/plain": [
       "[((102, 139), 13698),\n",
       " ((102, 138), 12128),\n",
       " ((102, 91), 8147),\n",
       " ((101, 138), 6831),\n",
       " ((101, 91), 6688),\n",
       " ((102, 119), 6674),\n",
       " ((101, 139), 6626),\n",
       " ((101, 119), 6549),\n",
       " ((102, 120), 6536),\n",
       " ((101, 120), 5206),\n",
       " ((102, 137), 4929),\n",
       " ((102, 92), 4034),\n",
       " ((101, 92), 3180),\n",
       " ((102, 118), 3064),\n",
       " ((102, 108), 2955),\n",
       " ((106, 139), 2867),\n",
       " ((101, 108), 2859),\n",
       " ((101, 118), 2722),\n",
       " ((101, 137), 2078),\n",
       " ((106, 140), 1862),\n",
       " ((102, 107), 1604),\n",
       " ((102, 109), 1582),\n",
       " ((101, 109), 1124),\n",
       " ((106, 138), 1073),\n",
       " ((93, 91), 1004),\n",
       " ((97, 87), 943),\n",
       " ((101, 133), 930),\n",
       " ((97, 91), 869),\n",
       " ((106, 143), 850),\n",
       " ((96, 91), 775),\n",
       " ((102, 133), 760),\n",
       " ((101, 107), 740),\n",
       " ((98, 87), 632),\n",
       " ((107, 139), 630),\n",
       " ((97, 116), 627),\n",
       " ((97, 115), 589),\n",
       " ((102, 93), 542),\n",
       " ((102, 146), 498),\n",
       " ((94, 108), 478),\n",
       " ((93, 92), 478),\n",
       " ((94, 91), 459),\n",
       " ((102, 127), 441),\n",
       " ((97, 88), 430),\n",
       " ((97, 92), 413),\n",
       " ((107, 140), 390),\n",
       " ((102, 90), 382),\n",
       " ((101, 170), 360),\n",
       " ((102, 125), 344),\n",
       " ((101, 153), 343),\n",
       " ((106, 142), 342),\n",
       " ((96, 92), 337),\n",
       " ((98, 116), 327),\n",
       " ((98, 115), 309),\n",
       " ((95, 108), 305),\n",
       " ((101, 132), 296),\n",
       " ((98, 88), 289),\n",
       " ((102, 147), 285),\n",
       " ((102, 126), 264),\n",
       " ((101, 93), 263),\n",
       " ((101, 169), 263),\n",
       " ((97, 114), 254),\n",
       " ((102, 124), 235),\n",
       " ((102, 123), 225),\n",
       " ((102, 132), 225),\n",
       " ((101, 154), 222),\n",
       " ((107, 138), 215),\n",
       " ((94, 119), 214),\n",
       " ((94, 92), 212),\n",
       " ((101, 125), 209),\n",
       " ((101, 127), 177),\n",
       " ((95, 119), 176),\n",
       " ((94, 107), 166),\n",
       " ((102, 145), 160),\n",
       " ((101, 152), 132),\n",
       " ((94, 109), 123),\n",
       " ((101, 126), 122),\n",
       " ((102, 128), 120),\n",
       " ((95, 107), 120),\n",
       " ((98, 114), 119),\n",
       " ((101, 128), 119),\n",
       " ((96, 116), 108),\n",
       " ((97, 122), 104),\n",
       " ((94, 155), 102),\n",
       " ((106, 130), 101),\n",
       " ((96, 115), 99),\n",
       " ((94, 118), 99),\n",
       " ((102, 170), 95),\n",
       " ((98, 122), 93),\n",
       " ((101, 90), 91),\n",
       " ((106, 144), 91),\n",
       " ((101, 131), 88),\n",
       " ((98, 121), 88),\n",
       " ((95, 109), 84),\n",
       " ((91, 87), 82),\n",
       " ((102, 153), 77),\n",
       " ((96, 87), 77),\n",
       " ((101, 124), 75),\n",
       " ((101, 123), 75),\n",
       " ((93, 87), 75),\n",
       " ((95, 118), 75),\n",
       " ((102, 129), 73),\n",
       " ((107, 143), 69),\n",
       " ((101, 122), 64),\n",
       " ((95, 91), 64),\n",
       " ((97, 121), 60),\n",
       " ((106, 131), 57),\n",
       " ((98, 89), 57),\n",
       " ((101, 168), 56),\n",
       " ((102, 131), 56),\n",
       " ((102, 238), 55),\n",
       " ((102, 169), 54),\n",
       " ((101, 140), 54),\n",
       " ((104, 120), 54),\n",
       " ((94, 156), 53),\n",
       " ((98, 86), 49),\n",
       " ((101, 110), 48),\n",
       " ((101, 134), 47),\n",
       " ((95, 155), 46),\n",
       " ((97, 86), 44),\n",
       " ((97, 89), 44),\n",
       " ((102, 140), 44),\n",
       " ((112, 186), 42),\n",
       " ((104, 119), 42),\n",
       " ((91, 88), 42),\n",
       " ((96, 93), 41),\n",
       " ((102, 239), 39),\n",
       " ((101, 121), 39),\n",
       " ((102, 154), 39),\n",
       " ((93, 93), 38),\n",
       " ((93, 88), 38),\n",
       " ((102, 134), 37),\n",
       " ((102, 122), 37),\n",
       " ((102, 152), 37),\n",
       " ((103, 120), 37),\n",
       " ((96, 114), 36),\n",
       " ((106, 134), 35),\n",
       " ((105, 139), 33),\n",
       " ((100, 119), 32),\n",
       " ((95, 92), 32),\n",
       " ((96, 88), 32),\n",
       " ((100, 118), 31),\n",
       " ((97, 93), 31),\n",
       " ((103, 119), 28),\n",
       " ((102, 80), 28),\n",
       " ((107, 130), 24),\n",
       " ((104, 118), 24),\n",
       " ((101, 129), 23),\n",
       " ((106, 126), 22),\n",
       " ((113, 186), 22),\n",
       " ((100, 120), 22),\n",
       " ((95, 156), 22),\n",
       " ((102, 110), 21),\n",
       " ((107, 142), 21),\n",
       " ((101, 106), 20),\n",
       " ((102, 98), 20),\n",
       " ((94, 93), 20),\n",
       " ((98, 123), 20),\n",
       " ((101, 82), 18),\n",
       " ((102, 79), 18),\n",
       " ((94, 154), 18),\n",
       " ((101, 96), 17),\n",
       " ((101, 238), 17),\n",
       " ((102, 81), 17),\n",
       " ((101, 80), 16),\n",
       " ((101, 79), 16),\n",
       " ((101, 239), 16),\n",
       " ((102, 168), 16),\n",
       " ((103, 118), 16),\n",
       " ((101, 111), 14),\n",
       " ((102, 97), 13),\n",
       " ((101, 171), 13),\n",
       " ((94, 116), 12),\n",
       " ((93, 86), 12),\n",
       " ((94, 117), 12),\n",
       " ((101, 98), 11),\n",
       " ((102, 77), 11),\n",
       " ((101, 130), 11),\n",
       " ((102, 105), 10),\n",
       " ((101, 78), 10),\n",
       " ((101, 81), 10),\n",
       " ((101, 161), 10),\n",
       " ((102, 106), 10),\n",
       " ((102, 96), 10),\n",
       " ((102, 83), 10),\n",
       " ((97, 90), 10),\n",
       " ((101, 99), 9),\n",
       " ((101, 100), 9),\n",
       " ((102, 240), 9),\n",
       " ((101, 160), 9),\n",
       " ((98, 135), 9),\n",
       " ((102, 111), 9),\n",
       " ((95, 154), 9),\n",
       " ((102, 130), 8),\n",
       " ((105, 138), 8),\n",
       " ((102, 121), 8),\n",
       " ((96, 89), 8),\n",
       " ((100, 91), 8),\n",
       " ((94, 115), 7),\n",
       " ((103, 138), 7),\n",
       " ((101, 144), 7),\n",
       " ((102, 94), 7),\n",
       " ((105, 143), 7),\n",
       " ((106, 141), 7),\n",
       " ((97, 83), 7),\n",
       " ((93, 90), 7),\n",
       " ((101, 75), 6),\n",
       " ((103, 139), 6),\n",
       " ((106, 129), 6),\n",
       " ((98, 134), 6),\n",
       " ((99, 135), 6),\n",
       " ((102, 116), 6),\n",
       " ((93, 81), 6),\n",
       " ((102, 115), 6),\n",
       " ((102, 78), 6),\n",
       " ((101, 77), 6),\n",
       " ((96, 83), 6),\n",
       " ((93, 89), 6),\n",
       " ((95, 117), 6),\n",
       " ((106, 127), 5),\n",
       " ((101, 94), 5),\n",
       " ((102, 99), 5),\n",
       " ((102, 76), 5),\n",
       " ((91, 86), 5),\n",
       " ((93, 79), 5),\n",
       " ((98, 120), 5),\n",
       " ((102, 117), 5),\n",
       " ((102, 82), 5),\n",
       " ((101, 181), 4),\n",
       " ((101, 74), 4),\n",
       " ((101, 83), 4),\n",
       " ((101, 240), 4),\n",
       " ((94, 114), 4),\n",
       " ((102, 104), 4),\n",
       " ((106, 135), 4),\n",
       " ((102, 171), 4),\n",
       " ((106, 137), 4),\n",
       " ((112, 185), 4),\n",
       " ((102, 144), 4),\n",
       " ((101, 115), 4),\n",
       " ((102, 100), 4),\n",
       " ((98, 105), 4),\n",
       " ((107, 144), 4),\n",
       " ((106, 133), 4),\n",
       " ((100, 92), 4),\n",
       " ((96, 118), 4),\n",
       " ((101, 102), 3),\n",
       " ((96, 102), 3),\n",
       " ((97, 102), 3),\n",
       " ((101, 95), 3),\n",
       " ((96, 99), 3),\n",
       " ((97, 75), 3),\n",
       " ((101, 76), 3),\n",
       " ((97, 77), 3),\n",
       " ((97, 79), 3),\n",
       " ((97, 78), 3),\n",
       " ((101, 157), 3),\n",
       " ((99, 134), 3),\n",
       " ((105, 140), 3),\n",
       " ((101, 103), 3),\n",
       " ((102, 95), 3),\n",
       " ((101, 105), 3),\n",
       " ((98, 102), 3),\n",
       " ((102, 103), 3),\n",
       " ((97, 101), 3),\n",
       " ((102, 225), 3),\n",
       " ((93, 83), 3),\n",
       " ((97, 76), 3),\n",
       " ((98, 77), 3),\n",
       " ((93, 82), 3),\n",
       " ((97, 106), 3),\n",
       " ((97, 104), 3),\n",
       " ((105, 142), 3),\n",
       " ((102, 114), 3),\n",
       " ((98, 111), 3),\n",
       " ((96, 79), 3),\n",
       " ((96, 119), 3),\n",
       " ((101, 104), 2),\n",
       " ((96, 97), 2),\n",
       " ((101, 97), 2),\n",
       " ((107, 137), 2),\n",
       " ((101, 162), 2),\n",
       " ((107, 126), 2),\n",
       " ((106, 136), 2),\n",
       " ((105, 137), 2),\n",
       " ((107, 127), 2),\n",
       " ((113, 185), 2),\n",
       " ((103, 137), 2),\n",
       " ((94, 100), 2),\n",
       " ((94, 83), 2),\n",
       " ((98, 107), 2),\n",
       " ((97, 105), 2),\n",
       " ((97, 100), 2),\n",
       " ((100, 109), 2),\n",
       " ((98, 104), 2),\n",
       " ((98, 101), 2),\n",
       " ((100, 108), 2),\n",
       " ((102, 224), 2),\n",
       " ((102, 112), 2),\n",
       " ((91, 89), 2),\n",
       " ((104, 138), 2),\n",
       " ((104, 139), 2),\n",
       " ((107, 134), 2),\n",
       " ((97, 74), 2),\n",
       " ((97, 111), 2),\n",
       " ((102, 113), 2),\n",
       " ((98, 112), 2),\n",
       " ((98, 79), 2),\n",
       " ((98, 78), 2),\n",
       " ((101, 84), 2),\n",
       " ((96, 82), 2),\n",
       " ((97, 99), 2),\n",
       " ((96, 120), 2),\n",
       " ((102, 223), 2),\n",
       " ((93, 74), 2),\n",
       " ((101, 163), 1),\n",
       " ((101, 180), 1),\n",
       " ((101, 182), 1),\n",
       " ((101, 167), 1),\n",
       " ((102, 180), 1),\n",
       " ((102, 182), 1),\n",
       " ((102, 167), 1),\n",
       " ((94, 102), 1),\n",
       " ((102, 160), 1),\n",
       " ((102, 156), 1),\n",
       " ((98, 133), 1),\n",
       " ((99, 133), 1),\n",
       " ((99, 122), 1),\n",
       " ((102, 161), 1),\n",
       " ((105, 129), 1),\n",
       " ((105, 130), 1),\n",
       " ((112, 177), 1),\n",
       " ((112, 183), 1),\n",
       " ((95, 100), 1),\n",
       " ((94, 96), 1),\n",
       " ((100, 107), 1),\n",
       " ((94, 82), 1),\n",
       " ((94, 79), 1),\n",
       " ((102, 102), 1),\n",
       " ((102, 226), 1),\n",
       " ((102, 227), 1),\n",
       " ((91, 78), 1),\n",
       " ((93, 75), 1),\n",
       " ((93, 76), 1),\n",
       " ((96, 101), 1),\n",
       " ((101, 145), 1),\n",
       " ((104, 137), 1),\n",
       " ((105, 144), 1),\n",
       " ((98, 75), 1),\n",
       " ((98, 73), 1),\n",
       " ((98, 74), 1),\n",
       " ((101, 114), 1),\n",
       " ((97, 113), 1),\n",
       " ((101, 117), 1),\n",
       " ((96, 74), 1),\n",
       " ((98, 113), 1),\n",
       " ((101, 112), 1),\n",
       " ((96, 71), 1),\n",
       " ((97, 110), 1),\n",
       " ((101, 113), 1),\n",
       " ((96, 73), 1),\n",
       " ((98, 76), 1),\n",
       " ((96, 111), 1),\n",
       " ((101, 222), 1),\n",
       " ((101, 225), 1),\n",
       " ((102, 237), 1),\n",
       " ((94, 90), 1),\n",
       " ((93, 78), 1),\n",
       " ((102, 84), 1),\n",
       " ((101, 116), 1),\n",
       " ((102, 136), 1),\n",
       " ((102, 141), 1),\n",
       " ((95, 149), 1),\n",
       " ((94, 142), 1)]"
      ]
     },
     "execution_count": 24,
     "metadata": {},
     "output_type": "execute_result"
    }
   ],
   "source": [
    "from collections import Counter\n",
    "\n",
    "size_counter = Counter(size_list)\n",
    "\n",
    "size_counter_sorted = sorted(size_counter.items(), key=lambda x: x[1], reverse=True)\n",
    "\n",
    "size_counter_sorted"
   ]
  },
  {
   "cell_type": "code",
   "execution_count": 32,
   "metadata": {},
   "outputs": [
    {
     "data": {
      "text/plain": [
       "0.9773455248416092"
      ]
     },
     "execution_count": 32,
     "metadata": {},
     "output_type": "execute_result"
    }
   ],
   "source": [
    "K = 100\n",
    "sum(list(map( lambda x: x[1], size_counter_sorted[:K] ))) / len(jng_img_paths)"
   ]
  },
  {
   "cell_type": "code",
   "execution_count": 33,
   "metadata": {},
   "outputs": [
    {
     "data": {
      "text/plain": [
       "[(102, 139),\n",
       " (102, 138),\n",
       " (102, 91),\n",
       " (101, 138),\n",
       " (101, 91),\n",
       " (102, 119),\n",
       " (101, 139),\n",
       " (101, 119),\n",
       " (102, 120),\n",
       " (101, 120),\n",
       " (102, 137),\n",
       " (102, 92),\n",
       " (101, 92),\n",
       " (102, 118),\n",
       " (102, 108),\n",
       " (106, 139),\n",
       " (101, 108),\n",
       " (101, 118),\n",
       " (101, 137),\n",
       " (106, 140),\n",
       " (102, 107),\n",
       " (102, 109),\n",
       " (101, 109),\n",
       " (106, 138),\n",
       " (93, 91),\n",
       " (97, 87),\n",
       " (101, 133),\n",
       " (97, 91),\n",
       " (106, 143),\n",
       " (96, 91),\n",
       " (102, 133),\n",
       " (101, 107),\n",
       " (98, 87),\n",
       " (107, 139),\n",
       " (97, 116),\n",
       " (97, 115),\n",
       " (102, 93),\n",
       " (102, 146),\n",
       " (94, 108),\n",
       " (93, 92),\n",
       " (94, 91),\n",
       " (102, 127),\n",
       " (97, 88),\n",
       " (97, 92),\n",
       " (107, 140),\n",
       " (102, 90),\n",
       " (101, 170),\n",
       " (102, 125),\n",
       " (101, 153),\n",
       " (106, 142),\n",
       " (96, 92),\n",
       " (98, 116),\n",
       " (98, 115),\n",
       " (95, 108),\n",
       " (101, 132),\n",
       " (98, 88),\n",
       " (102, 147),\n",
       " (102, 126),\n",
       " (101, 93),\n",
       " (101, 169),\n",
       " (97, 114),\n",
       " (102, 124),\n",
       " (102, 123),\n",
       " (102, 132),\n",
       " (101, 154),\n",
       " (107, 138),\n",
       " (94, 119),\n",
       " (94, 92),\n",
       " (101, 125),\n",
       " (101, 127),\n",
       " (95, 119),\n",
       " (94, 107),\n",
       " (102, 145),\n",
       " (101, 152),\n",
       " (94, 109),\n",
       " (101, 126),\n",
       " (102, 128),\n",
       " (95, 107),\n",
       " (98, 114),\n",
       " (101, 128),\n",
       " (96, 116),\n",
       " (97, 122),\n",
       " (94, 155),\n",
       " (106, 130),\n",
       " (96, 115),\n",
       " (94, 118),\n",
       " (102, 170),\n",
       " (98, 122),\n",
       " (101, 90),\n",
       " (106, 144),\n",
       " (101, 131),\n",
       " (98, 121),\n",
       " (95, 109),\n",
       " (91, 87),\n",
       " (102, 153),\n",
       " (96, 87),\n",
       " (101, 124),\n",
       " (101, 123),\n",
       " (93, 87),\n",
       " (95, 118)]"
      ]
     },
     "execution_count": 33,
     "metadata": {},
     "output_type": "execute_result"
    }
   ],
   "source": [
    "list(map( lambda x: x[0], size_counter_sorted[:K] ))"
   ]
  },
  {
   "cell_type": "markdown",
   "metadata": {},
   "source": [
    "# Img Random Exp"
   ]
  },
  {
   "cell_type": "markdown",
   "metadata": {},
   "source": [
    "**memo**\n",
    "\n",
    "* width\n",
    "    * init width: 100\n",
    "    * width noise: -10 ~ 13\n",
    "\n",
    "* ratio\n",
    "    * init ratio: 1.4\n",
    "    * ratio noise: -0.7 ~ 1.0"
   ]
  },
  {
   "cell_type": "markdown",
   "metadata": {},
   "source": [
    "### exp: size random noise "
   ]
  },
  {
   "cell_type": "code",
   "execution_count": 70,
   "metadata": {},
   "outputs": [
    {
     "name": "stdout",
     "output_type": "stream",
     "text": [
      "widths:  [90, 91, 92, 93, 94, 95, 96, 97, 98, 99, 100, 101, 102, 103, 104, 105, 106, 107, 108, 109, 110, 111, 112, 113]\n",
      "ratios:  [0.7, 0.8, 0.9, 1.0, 1.1, 1.2, 1.3, 1.4, 1.5, 1.6, 1.7, 1.8, 1.9, 2.0, 2.1, 2.2, 2.3, 2.4]\n"
     ]
    },
    {
     "data": {
      "text/plain": [
       "<BarContainer object of 18 artists>"
      ]
     },
     "execution_count": 70,
     "metadata": {},
     "output_type": "execute_result"
    },
    {
     "data": {
      "image/png": "[encoded data removed]",
      "text/plain": [
       "<Figure size 1000x1000 with 2 Axes>"
      ]
     },
     "metadata": {},
     "output_type": "display_data"
    }
   ],
   "source": [
    "from collections import Counter\n",
    "\n",
    "INIT_WIDTH = 100\n",
    "WIDTH_NOISE_SIG = 3.34\n",
    "WIDTH_NOISE_MIN = -10\n",
    "WIDTH_NOISE_MAX = 13\n",
    "\n",
    "INIT_RATIO = 1.4\n",
    "RATIO_NOISE_SIG = 0.3\n",
    "RATIO_NOISE_MIN = -0.7\n",
    "RATIO_NOISE_MAX = 1.0\n",
    "\n",
    "random_widths = Counter(map(lambda x: INIT_WIDTH + round(min(WIDTH_NOISE_MAX, max(WIDTH_NOISE_MIN, x))), np.random.normal(0, WIDTH_NOISE_SIG, 140000).tolist()))\n",
    "\n",
    "random_ratios = Counter(\n",
    "  map(\n",
    "    lambda x: round(INIT_RATIO + min(RATIO_NOISE_MAX, max(RATIO_NOISE_MIN, x)), 1), \n",
    "    np.random.normal(0, RATIO_NOISE_SIG, 140000).tolist()\n",
    "  )\n",
    ")\n",
    "\n",
    "print('widths: ', sorted(random_widths))\n",
    "print('ratios: ', sorted(random_ratios))\n",
    "\n",
    "\n",
    "plt.figure(figsize=(10, 10))\n",
    "\n",
    "plt.subplot(2, 2, (1, 2))\n",
    "plt.bar(random_widths.keys(), random_widths.values(), 0.5)\n",
    "\n",
    "plt.subplot(2, 2, (3, 4))\n",
    "plt.bar(random_ratios.keys(), random_ratios.values(), 0.05)"
   ]
  }
 ],
 "metadata": {
  "kernelspec": {
   "display_name": "jeongganbo-omr-ftFKYzOH",
   "language": "python",
   "name": "python3"
  },
  "language_info": {
   "codemirror_mode": {
    "name": "ipython",
    "version": 3
   },
   "file_extension": ".py",
   "mimetype": "text/x-python",
   "name": "python",
   "nbconvert_exporter": "python",
   "pygments_lexer": "ipython3",
   "version": "3.8.10"
  }
 },
 "nbformat": 4,
 "nbformat_minor": 2
}
