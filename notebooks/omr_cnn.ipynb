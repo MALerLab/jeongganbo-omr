{
 "cells": [
  {
   "cell_type": "code",
   "execution_count": 2,
   "metadata": {},
   "outputs": [
    {
     "name": "stdout",
     "output_type": "stream",
     "text": [
      "/home/teo/userdata/git_libraries/jgb-omr\n"
     ]
    }
   ],
   "source": [
    "%cd ..\n",
    "%load_ext autoreload\n",
    "%autoreload 2"
   ]
  },
  {
   "cell_type": "code",
   "execution_count": 1,

   "metadata": {},
   "outputs": [],
   "source": [
    "import torch\n",
    "import torch.nn as nn\n",
    "import pandas as pd\n",
    "import cv2\n",
    "from pathlib import Path\n",
    "import matplotlib.pyplot as plt\n",
    "from torchvision import transforms\n",
    "import random\n",
    "import re\n",
    "from tqdm.auto import tqdm\n",
    "from torch.utils.data import DataLoader"
   ]
  },
  {
   "cell_type": "code",
   "execution_count": 10,
   "metadata": {},
   "outputs": [
    {
     "data": {
      "text/plain": [
       "(tensor([[[[0.0000, 0.0000, 0.0000,  ..., 0.0000, 0.0000, 0.0000],\n",
       "           [0.0000, 0.0000, 0.0000,  ..., 0.0000, 0.0000, 0.0000],\n",
       "           [0.0000, 0.0000, 0.0000,  ..., 0.0000, 0.0000, 0.0000],\n",
       "           ...,\n",
       "           [0.0000, 0.0000, 0.0000,  ..., 0.0000, 0.0000, 0.0000],\n",
       "           [0.0000, 0.0000, 0.0000,  ..., 0.0000, 0.0000, 0.0000],\n",
       "           [0.0000, 0.0000, 0.0000,  ..., 0.0000, 0.0000, 0.0000]]],\n",
       " \n",
       " \n",
       "         [[[0.0000, 0.0000, 0.0000,  ..., 0.0000, 0.0000, 0.0000],\n",
       "           [0.0000, 0.0000, 0.0000,  ..., 0.0000, 0.0000, 0.0000],\n",
       "           [0.0000, 0.0000, 0.0000,  ..., 0.0000, 0.0000, 0.0000],\n",
       "           ...,\n",
       "           [0.0000, 0.0000, 0.0000,  ..., 0.0000, 0.0000, 0.0000],\n",
       "           [0.0000, 0.0000, 0.0000,  ..., 0.0000, 0.0000, 0.0000],\n",
       "           [0.0000, 0.0000, 0.0000,  ..., 0.0000, 0.0000, 0.0000]]],\n",
       " \n",
       " \n",
       "         [[[0.0000, 0.0000, 0.0000,  ..., 0.0000, 0.0000, 0.0000],\n",
       "           [0.8810, 0.8787, 0.8810,  ..., 0.8787, 0.8787, 0.0000],\n",
       "           [0.8787, 0.8787, 0.6568,  ..., 0.6568, 0.8787, 0.0000],\n",
       "           ...,\n",
       "           [0.8787, 0.4663, 0.0040,  ..., 0.0040, 0.4663, 0.0000],\n",
       "           [0.0000, 0.0000, 0.0000,  ..., 0.0000, 0.0000, 0.0000],\n",
       "           [0.0000, 0.0000, 0.0000,  ..., 0.0000, 0.0000, 0.0000]]],\n",

       " \n",
       " \n",
       "         ...,\n",
       " \n",
       " \n",
       "         [[[0.0000, 0.0000, 0.0000,  ..., 0.0000, 0.0000, 0.0000],\n",
       "           [0.0000, 0.0000, 0.0000,  ..., 0.0000, 0.0000, 0.0000],\n",
       "           [0.0000, 0.0000, 0.8782,  ..., 0.0000, 0.0000, 0.0000],\n",
       "           ...,\n",
       "           [0.0000, 0.0000, 0.8782,  ..., 0.0000, 0.0000, 0.0000],\n",
       "           [0.0000, 0.0000, 0.0000,  ..., 0.0000, 0.0000, 0.0000],\n",
       "           [0.0000, 0.0000, 0.0000,  ..., 0.0000, 0.0000, 0.0000]]],\n",
       " \n",
       " \n",
       "         [[[0.0000, 0.0000, 0.0000,  ..., 0.0000, 0.0000, 0.0000],\n",
       "           [0.0000, 0.0000, 0.0000,  ..., 0.0000, 0.0000, 0.0000],\n",
       "           [0.0000, 0.0000, 0.0000,  ..., 0.0000, 0.0000, 0.0000],\n",
       "           ...,\n",
       "           [0.0000, 0.0000, 0.0000,  ..., 0.0000, 0.0000, 0.0000],\n",
       "           [0.0000, 0.0000, 0.0000,  ..., 0.0000, 0.0000, 0.0000],\n",
       "           [0.0000, 0.0000, 0.0000,  ..., 0.0000, 0.0000, 0.0000]]],\n",
       " \n",
       " \n",
       "         [[[0.0000, 0.0000, 0.0000,  ..., 0.0000, 0.0000, 0.0000],\n",
       "           [0.0000, 0.0000, 0.0000,  ..., 0.0000, 0.0000, 0.0000],\n",
       "           [0.0000, 0.0000, 0.0000,  ..., 0.0000, 0.0000, 0.0000],\n",
       "           ...,\n",
       "           [0.0000, 0.0000, 0.0000,  ..., 0.0000, 0.0000, 0.0000],\n",
       "           [0.0000, 0.0000, 0.0000,  ..., 0.0000, 0.0000, 0.0000],\n",
       "           [0.0000, 0.0000, 0.0000,  ..., 0.0000, 0.0000, 0.0000]]]]),\n",
       " tensor([[  1,   4,  13,   3,   4,  16,   3,  86,  73,  19,   2,   0,   0,   0,\n",
       "            0,   0],\n",
       "         [  1,  80,   9,   3, 120,  10,   3,  80,  11,   3, 120,  12,   2,   0,\n",
       "            0,   0],\n",
       "         [  1, 107,  39,   6,   3, 108,  14,   3,  95,  45,  39,  16,   3,   4,\n",
       "           19,   2],\n",
       "         [  1,  95,  48,  16,   2,   0,   0,   0,   0,   0,   0,   0,   0,   0,\n",
       "            0,   0],\n",
       "         [  1, 130,   6,   3, 120,  14,   3,   4,  16,   3,   4,  18,   3, 100,\n",
       "           20,   2],\n",
       "         [  1, 107,  16,   2,   0,   0,   0,   0,   0,   0,   0,   0,   0,   0,\n",
       "            0,   0],\n",
       "         [  1, 113,  13,   3,   4,  16,   3,  79,  18,   3,  81,  20,   2,   0,\n",
       "            0,   0],\n",
       "         [  1, 108,  13,   3,   4,  16,   3,  89,  19,   2,   0,   0,   0,   0,\n",
       "            0,   0],\n",
       "         [  1, 124,  13,   3,   4,  16,   3, 122,  19,   2,   0,   0,   0,   0,\n",
       "            0,   0],\n",
       "         [  1, 120,  16,   2,   0,   0,   0,   0,   0,   0,   0,   0,   0,   0,\n",
       "            0,   0],\n",
       "         [  1,  82,  13,   3,   4,  16,   3,  83,  19,   2,   0,   0,   0,   0,\n",
       "            0,   0],\n",
       "         [  1, 130,  13,   3,   4,  16,   3, 120,  19,   2,   0,   0,   0,   0,\n",
       "            0,   0],\n",
       "         [  1,  95,  38,  13,   3,   4,  15,   3,  83,  17,   3, 108,  19,   2,\n",
       "            0,   0],\n",
       "         [  1,  82,  13,   3,   4,  15,   3,  88,  17,   3, 107,  18,   3,  82,\n",
       "           20,   2],\n",
       "         [  1, 100,  67,  13,   3,   4,  16,   3,   4,  19,   2,   0,   0,   0,\n",
       "            0,   0],\n",
       "         [  1, 103,  13,   3,   4,  16,   3,   4,  18,   3, 102,  20,   2,   0,\n",
       "            0,   0],\n",
       "         [  1, 120,  49,  13,   3,   4,  16,   3,   4,  18,   3, 100,  39,  20,\n",
       "            2,   0],\n",
       "         [  1, 107,  73,  16,   2,   0,   0,   0,   0,   0,   0,   0,   0,   0,\n",
       "            0,   0],\n",
       "         [  1,   4,  73,  13,   3,   4,  16,   3,  88,  19,   2,   0,   0,   0,\n",
       "            0,   0],\n",
       "         [  1,  95,  72,  13,   3,   4,  15,   3,  87,  17,   3,  83,  18,   3,\n",
       "          107,  20],\n",
       "         [  1,  80,  13,   3,   4,  16,   3, 107,  72,  19,   2,   0,   0,   0,\n",
       "            0,   0],\n",
       "         [  1,   4,  13,   3,   4,  16,   3,  88,  19,   2,   0,   0,   0,   0,\n",
       "            0,   0],\n",
       "         [  1,   4,  13,   3,   4,  16,   3,  87,  19,   2,   0,   0,   0,   0,\n",
       "            0,   0],\n",
       "         [  1,   4,   7,   3,  95,  50,   8,   2,   0,   0,   0,   0,   0,   0,\n",
       "            0,   0],\n",
       "         [  1, 130,  13,   3, 120,  73,  16,   3,   4,  18,   3, 100,  39,  20,\n",
       "            2,   0],\n",
       "         [  1, 101,   6,   3,  97,  14,   3,   4,  16,   3,   4,  19,   2,   0,\n",
       "            0,   0],\n",
       "         [  1,   4,  73,  13,   3,   4,  16,   3,  88,  19,   2,   0,   0,   0,\n",
       "            0,   0],\n",
       "         [  1,   4,  13,   3,   4,  16,   3,  88,  19,   2,   0,   0,   0,   0,\n",
       "            0,   0],\n",
       "         [  1, 113,  53,  13,   3,   4,  16,   3,  88,  19,   2,   0,   0,   0,\n",
       "            0,   0],\n",
       "         [  1, 130,  13,   3,   4,  16,   3, 100,  68,  26,  19,   2,   0,   0,\n",
       "            0,   0],\n",
       "         [  1,  98,  13,   3,   4,  15,   3, 101,  17,   3,  98,  19,   2,   0,\n",
       "            0,   0],\n",
       "         [  1, 129,  16,   2,   0,   0,   0,   0,   0,   0,   0,   0,   0,   0,\n",
       "            0,   0]]),\n",
       " tensor([[  4,  13,   3,   4,  16,   3,  86,  73,  19,   2,   0,   0,   0,   0,\n",
       "            0,   0],\n",
       "         [ 80,   9,   3, 120,  10,   3,  80,  11,   3, 120,  12,   2,   0,   0,\n",
       "            0,   0],\n",
       "         [107,  39,   6,   3, 108,  14,   3,  95,  45,  39,  16,   3,   4,  19,\n",
       "            2,   0],\n",
       "         [ 95,  48,  16,   2,   0,   0,   0,   0,   0,   0,   0,   0,   0,   0,\n",
       "            0,   0],\n",
       "         [130,   6,   3, 120,  14,   3,   4,  16,   3,   4,  18,   3, 100,  20,\n",
       "            2,   0],\n",
       "         [107,  16,   2,   0,   0,   0,   0,   0,   0,   0,   0,   0,   0,   0,\n",
       "            0,   0],\n",
       "         [113,  13,   3,   4,  16,   3,  79,  18,   3,  81,  20,   2,   0,   0,\n",
       "            0,   0],\n",
       "         [108,  13,   3,   4,  16,   3,  89,  19,   2,   0,   0,   0,   0,   0,\n",
       "            0,   0],\n",
       "         [124,  13,   3,   4,  16,   3, 122,  19,   2,   0,   0,   0,   0,   0,\n",
       "            0,   0],\n",
       "         [120,  16,   2,   0,   0,   0,   0,   0,   0,   0,   0,   0,   0,   0,\n",
       "            0,   0],\n",
       "         [ 82,  13,   3,   4,  16,   3,  83,  19,   2,   0,   0,   0,   0,   0,\n",
       "            0,   0],\n",
       "         [130,  13,   3,   4,  16,   3, 120,  19,   2,   0,   0,   0,   0,   0,\n",
       "            0,   0],\n",
       "         [ 95,  38,  13,   3,   4,  15,   3,  83,  17,   3, 108,  19,   2,   0,\n",
       "            0,   0],\n",
       "         [ 82,  13,   3,   4,  15,   3,  88,  17,   3, 107,  18,   3,  82,  20,\n",
       "            2,   0],\n",
       "         [100,  67,  13,   3,   4,  16,   3,   4,  19,   2,   0,   0,   0,   0,\n",
       "            0,   0],\n",
       "         [103,  13,   3,   4,  16,   3,   4,  18,   3, 102,  20,   2,   0,   0,\n",
       "            0,   0],\n",
       "         [120,  49,  13,   3,   4,  16,   3,   4,  18,   3, 100,  39,  20,   2,\n",
       "            0,   0],\n",
       "         [107,  73,  16,   2,   0,   0,   0,   0,   0,   0,   0,   0,   0,   0,\n",
       "            0,   0],\n",
       "         [  4,  73,  13,   3,   4,  16,   3,  88,  19,   2,   0,   0,   0,   0,\n",
       "            0,   0],\n",
       "         [ 95,  72,  13,   3,   4,  15,   3,  87,  17,   3,  83,  18,   3, 107,\n",
       "           20,   2],\n",
       "         [ 80,  13,   3,   4,  16,   3, 107,  72,  19,   2,   0,   0,   0,   0,\n",
       "            0,   0],\n",
       "         [  4,  13,   3,   4,  16,   3,  88,  19,   2,   0,   0,   0,   0,   0,\n",
       "            0,   0],\n",
       "         [  4,  13,   3,   4,  16,   3,  87,  19,   2,   0,   0,   0,   0,   0,\n",
       "            0,   0],\n",
       "         [  4,   7,   3,  95,  50,   8,   2,   0,   0,   0,   0,   0,   0,   0,\n",
       "            0,   0],\n",
       "         [130,  13,   3, 120,  73,  16,   3,   4,  18,   3, 100,  39,  20,   2,\n",
       "            0,   0],\n",
       "         [101,   6,   3,  97,  14,   3,   4,  16,   3,   4,  19,   2,   0,   0,\n",
       "            0,   0],\n",
       "         [  4,  73,  13,   3,   4,  16,   3,  88,  19,   2,   0,   0,   0,   0,\n",
       "            0,   0],\n",
       "         [  4,  13,   3,   4,  16,   3,  88,  19,   2,   0,   0,   0,   0,   0,\n",
       "            0,   0],\n",
       "         [113,  53,  13,   3,   4,  16,   3,  88,  19,   2,   0,   0,   0,   0,\n",
       "            0,   0],\n",
       "         [130,  13,   3,   4,  16,   3, 100,  68,  26,  19,   2,   0,   0,   0,\n",
       "            0,   0],\n",
       "         [ 98,  13,   3,   4,  15,   3, 101,  17,   3,  98,  19,   2,   0,   0,\n",
       "            0,   0],\n",
       "         [129,  16,   2,   0,   0,   0,   0,   0,   0,   0,   0,   0,   0,   0,\n",
       "            0,   0]]))"
      ]
     },
     "execution_count": 10,
     "metadata": {},
     "output_type": "execute_result"
    }
   ],
   "source": [
    "# Old Version\n",
    "\n",
    "'''\n",
    "class RandomBoundaryDrop:\n",
    "  def __init__(self, amount=3) -> None:\n",
    "    self.amount = amount\n",
    "  \n",
    "  def __call__(self, img):\n",
    "    rand_num = random.random()\n",
    "    boundary_amount = random.randint(1, self.amount)\n",
    "    if rand_num < 0.25:\n",
    "      return img[:, :-boundary_amount] \n",
    "    elif rand_num < 0.5:\n",
    "      return img[:, boundary_amount:]\n",
    "    elif rand_num < 0.75:\n",
    "      return img[:-boundary_amount, :]\n",
    "    else:\n",
    "      return img[boundary_amount:, :]\n",
    "\n",
    "class Tokenizer:\n",
    "  def __init__(self, entire_strs) -> None:\n",
    "    self.entire_strs = entire_strs\n",
    "    self.vocab = self.get_vocab()\n",
    "    self.tok2idx = {tok: idx for idx, tok in enumerate(self.vocab)}\n",
    "\n",
    "  def get_vocab(self):\n",
    "    vocabs = {'\\n', ','}\n",
    "    for label in self.entire_strs:\n",
    "      words = re.split(' |\\n', label)\n",
    "      words = [word.replace(',', '') for word in words]\n",
    "      words = [word for word in words if word != '']\n",
    "      vocabs.update(words)\n",
    "    list_vocabs = sorted(list(vocabs))\n",
    "    return ['<pad>', '<start>', '<end>'] + list_vocabs\n",
    "\n",
    "  def __call__(self, label):\n",
    "    label = label.replace('\\n', ' \\n ')\n",
    "    label = label.replace(',', ' , ')\n",
    "    words = label.split(' ')\n",
    "    words = [word for word in words if word != '']\n",
    "    words = ['<start>'] + words + ['<end>']\n",
    "    return [self.tok2idx[word] for word in words]\n",
    "  \n",
    "  def __add__(self, other):\n",
    "    return Tokenizer(self.entire_strs + other.entire_strs)\n",
    "\n",
    "  def decode(self, labels):\n",
    "    return ' '.join([self.vocab[idx] for idx in labels])\n",
    "\n",
    "class Dataset:\n",
    "  def __init__(self, csv_path, img_dir) -> None:\n",
    "    self.df = pd.read_csv(csv_path)\n",
    "    self.img_dir = Path(img_dir)\n",
    "    self.transform = transforms.Compose([\n",
    "    RandomBoundaryDrop(4),\n",
    "    transforms.ToTensor(),\n",
    "    transforms.Grayscale(num_output_channels=1),\n",
    "    transforms.Lambda(lambda x: 1-x),\n",
    "    # transforms.Resize((160, 140)),\n",
    "    ])\n",
    "    self.tokenizer = self._make_tokenizer()\n",
    "\n",
    "  def _make_tokenizer(self):\n",
    "    return Tokenizer(self.df['Annotations'].values.tolist())\n",
    "  \n",
    "  def __len__(self):\n",
    "    return len(self.df)\n",
    "  \n",
    "  def __getitem__(self, idx):\n",
    "    row = self.df.iloc[idx]\n",
    "    img = cv2.imread( str(self.img_dir / row['Filename']))\n",
    "    annotations = row['Annotations']\n",
    "    img = self.transform(img)\n",
    "    return img, self.tokenizer(annotations)\n",
    "  \n",
    "\n",
    "\n",
    "\n",
    "def pad_collate(raw_batch):\n",
    "  # raw batch is a list of tuples (img, annotation)\n",
    "  # img is torch tensor with shape (1, H, W)\n",
    "  # pad to same width by adding 0s to the left and right\n",
    "  # pad to same height by adding 0s to the top and bottom\n",
    "\n",
    "  # find max width and height\n",
    "  max_width = max([img.shape[2] for img, _ in raw_batch])\n",
    "  max_height = max([img.shape[1] for img, _ in raw_batch])\n",
    "\n",
    "  img_batch = torch.zeros((len(raw_batch), 1, max_height, max_width))\n",
    "  for i, (img, _) in enumerate(raw_batch):\n",
    "    h, w = img.shape[1], img.shape[2]\n",
    "    left_pad = (max_width - w) // 2\n",
    "    top_pad = (max_height - h) // 2\n",
    "    img_batch[i, :, top_pad:top_pad+h, left_pad:left_pad+w] = img\n",
    "\n",
    "  \n",
    "  max_token_length = max([len(label) for _, label in raw_batch])\n",
    "  label_batch = torch.zeros((len(raw_batch), max_token_length), dtype=torch.long)\n",
    "  for i, (_, label) in enumerate(raw_batch):\n",
    "    label_batch[i, :len(label)] = torch.tensor(label)\n",
    "  \n",
    "\n",
    "  return img_batch, label_batch[:, :-1], label_batch[:, 1:]\n",
    "'''\n",
    "\n",
    "\n",
    "class RandomBoundaryDrop:\n",
    "  def __init__(self, amount=3) -> None:\n",
    "    self.amount = amount\n",
    "  \n",
    "  def __call__(self, img):\n",
    "    rand_num = random.random()\n",
    "    boundary_amount = random.randint(1, self.amount)\n",
    "    if rand_num < 0.25:\n",
    "      return img[:, :-boundary_amount] \n",
    "    elif rand_num < 0.5:\n",
    "      return img[:, boundary_amount:]\n",
    "    elif rand_num < 0.75:\n",
    "      return img[:-boundary_amount, :]\n",
    "    else:\n",
    "      return img[boundary_amount:, :]\n",
    "\n",
    "class Tokenizer:\n",
    "  def __init__(self, entire_strs) -> None:\n",
    "    self.entire_strs = entire_strs\n",
    "    self.vocab = self.get_vocab()\n",
    "    self.tok2idx = {tok: idx for idx, tok in enumerate(self.vocab)}\n",
    "\n",
    "  \n",
    "  def tokenize_music_notation(self, notation):\n",
    "    # Adjust the regex pattern to match:\n",
    "    # - single spaces as separate tokens\n",
    "    # - hyphens and colon-number pairs\n",
    "    # - sequences of non-space, non-colon characters not starting with an underscore\n",
    "    # - individual underscores followed by non-space, non-colon characters\n",
    "    pattern = r'( +|[^_\\s:]+|_+[^_\\s:]+|:\\d+|[-])'\n",
    "\n",
    "    # Use re.findall to extract all matching tokens, including spaces\n",
    "    tokens = re.findall(pattern, notation)\n",
    "    return tokens\n",
    "\n",
    "  def get_vocab(self):\n",
    "    # vocabs = {'\\n', ','}\n",
    "    vocabs = set()\n",
    "    for label in self.entire_strs:\n",
    "      # words = re.split(' |\\n', label)\n",
    "      # words = [word.replace(',', '') for word in words]\n",
    "      # words = [word for word in words if word != '']\n",
    "      # vocabs.update(words)\n",
    "      words = self.tokenize_music_notation(label)\n",
    "      vocabs.update(words)\n",
    "    list_vocabs = sorted(list(vocabs))\n",
    "    return ['<pad>', '<start>', '<end>'] + list_vocabs\n",
    "\n",
    "  def __call__(self, label):\n",
    "    # label = label.replace('\\n', ' \\n ')\n",
    "    # label = label.replace(',', ' , ')\n",
    "    # words = label.split(' ')\n",
    "    # words = [word for word in words if word != '']\n",
    "    words = self.tokenize_music_notation(label)\n",
    "    words = ['<start>'] + words + ['<end>']\n",
    "    return [self.tok2idx[word] for word in words]\n",
    "  \n",
    "  def __add__(self, other):\n",
    "    return Tokenizer(self.entire_strs + other.entire_strs)\n",
    "\n",
    "  def decode(self, labels):\n",
    "    return ''.join([self.vocab[idx] for idx in labels if self.vocab[idx] != '<pad>'])\n",
    "\n",
    "class Dataset:\n",
    "  def __init__(self, csv_path, img_dir) -> None:\n",
    "    self.df = pd.read_csv(csv_path)\n",
    "    self.img_dir = Path(img_dir)\n",
    "    self.transform = transforms.Compose([\n",
    "    RandomBoundaryDrop(4),\n",
    "    transforms.ToTensor(),\n",
    "    transforms.Grayscale(num_output_channels=1),\n",
    "    transforms.Lambda(lambda x: 1-x),\n",
    "    # transforms.Resize((160, 140)),\n",
    "    ])\n",
    "    self.tokenizer = self._make_tokenizer()\n",
    "\n",
    "  def _make_tokenizer(self):\n",
    "    return Tokenizer(self.df['label'].values.tolist())\n",
    "  \n",
    "  def __len__(self):\n",
    "    return len(self.df)\n",
    "  \n",
    "  def __getitem__(self, idx):\n",
    "    row = self.df.iloc[idx]\n",
    "    img = cv2.imread( str(self.img_dir / row['filename']))\n",
    "    annotations = row['label']\n",
    "    img = self.transform(img)\n",
    "    return img, self.tokenizer(annotations)\n",
    "  \n",
    "\n",
    "\n",
    "\n",
    "def pad_collate(raw_batch):\n",
    "  # raw batch is a list of tuples (img, annotation)\n",
    "  # img is torch tensor with shape (1, H, W)\n",
    "  # pad to same width by adding 0s to the left and right\n",
    "  # pad to same height by adding 0s to the top and bottom\n",
    "\n",
    "  # find max width and height\n",
    "  max_width = max([img.shape[2] for img, _ in raw_batch])\n",
    "  max_height = max([img.shape[1] for img, _ in raw_batch])\n",
    "\n",
    "  img_batch = torch.zeros((len(raw_batch), 1, max_height, max_width))\n",
    "  for i, (img, _) in enumerate(raw_batch):\n",
    "    h, w = img.shape[1], img.shape[2]\n",
    "    left_pad = (max_width - w) // 2\n",
    "    top_pad = (max_height - h) // 2\n",
    "    img_batch[i, :, top_pad:top_pad+h, left_pad:left_pad+w] = img\n",
    "\n",
    "  \n",
    "  max_token_length = max([len(label) for _, label in raw_batch])\n",
    "  label_batch = torch.zeros((len(raw_batch), max_token_length), dtype=torch.long)\n",
    "  for i, (_, label) in enumerate(raw_batch):\n",
    "    label_batch[i, :len(label)] = torch.tensor(label)\n",
    "  \n",
    "  return img_batch, label_batch[:, :-1], label_batch[:, 1:]\n",
    "\n",
    "dataset = Dataset('labels_from_ls.csv', 'jeongganbo-png/unique-char-pngs/')\n",
    "pre_dataset = Dataset('cv_label.csv', 'jeongganbo-png/splited-pngs/')\n",
    "\n",
    "tokenizer = dataset.tokenizer + pre_dataset.tokenizer\n",
    "pre_dataset.tokenizer = tokenizer\n",
    "dataset.tokenizer = tokenizer\n",
    "\n",
    "\n",
    "data_loader = torch.utils.data.DataLoader(dataset, batch_size=32, shuffle=True, collate_fn=pad_collate)\n",
    "\n",
    "batch = next(iter(data_loader)) \n",
    "batch\n",
    "# dataset.tokenizer.vocab"
   ]
  },
  {
   "cell_type": "code",
   "execution_count": 7,
   "metadata": {},
   "outputs": [],
   "source": [
    "import koreanize_matplotlib"
   ]
  },
  {
   "cell_type": "code",
   "execution_count": 18,
   "metadata": {},
   "outputs": [
    {
     "data": {
      "image/png": "[encoded data removed]",
      "text/plain": [
       "<Figure size 1440x720 with 32 Axes>"
      ]
     },
     "metadata": {
      "needs_background": "light"
     },
     "output_type": "display_data"
    }
   ],
   "source": [
    "# data_loader = torch.utils.data.DataLoader(pre_dataset, batch_size=32, shuffle=True, collate_fn=pad_collate)\n",
    "data_loader = torch.utils.data.DataLoader(dataset, batch_size=32, shuffle=True, collate_fn=pad_collate)\n",
    "\n",
    "batch = next(iter(data_loader))\n",
    "imgs, labels, labels_shifted = batch\n",
    "\n",
    "idx = 1\n",
    "plt.figure(figsize=(20, 10))\n",
    "for img, label, label_shifted in zip(imgs, labels, labels_shifted):\n",
    "  plt.subplot(4, 8, idx)\n",
    "  plt.imshow(img.squeeze().numpy(), cmap='gray')\n",
    "  plt.title(tokenizer.decode(label[1:]))\n",
    "  idx += 1"
   ]
  },
  {
   "cell_type": "code",
   "execution_count": 33,
   "metadata": {},
   "outputs": [
    {
     "data": {
      "text/plain": [
       "'<start>임_노니로:2 -:4 노:6 무_느니르:8<end>'"
      ]
     },
     "execution_count": 33,
     "metadata": {},
     "output_type": "execute_result"
    }
   ],
   "source": [
    "dataset.tokenizer.decode(label)"
   ]
  },
  {
   "cell_type": "code",
   "execution_count": 18,
   "metadata": {},
   "outputs": [
    {
     "data": {
      "text/plain": [
       "<matplotlib.image.AxesImage at 0x7feb00215160>"
      ]
     },
     "execution_count": 18,
     "metadata": {},
     "output_type": "execute_result"
    },
    {
     "data": {
      "image/png": "[encoded data removed]",
      "text/plain": [
       "<Figure size 432x288 with 1 Axes>"
      ]
     },
     "metadata": {
      "needs_background": "light"
     },
     "output_type": "display_data"
    }
   ],
   "source": [
    "plt.imshow(img[0])"
   ]
  },
  {
   "cell_type": "code",
   "execution_count": 18,
   "metadata": {},
   "outputs": [
    {
     "data": {
      "text/plain": [
       "['청고', '_니레', ':10', '-', ':14', '청태', ':15']"
      ]
     },
     "execution_count": 18,
     "metadata": {},
     "output_type": "execute_result"
    }
   ],
   "source": []
  },
  {
   "cell_type": "code",
   "execution_count": 15,
   "metadata": {},
   "outputs": [
    {
     "data": {
      "text/plain": [
       "'무:2 -:5 황:8'"
      ]
     },
     "execution_count": 15,
     "metadata": {},
     "output_type": "execute_result"
    }
   ],
   "source": [
    "dataset.df['label'].values.tolist()[5]"
   ]
  },
  {
   "cell_type": "code",
   "execution_count": 42,
   "metadata": {},
   "outputs": [],
   "source": [
    "import shutil\n",
    "import os\n",
    "\n",
    "src_dir = \"jeongganbo-png/splited-pngs/unique-char-pngs\"\n",
    "dst_dir = \"jeongganbo-png/splited-pngs\"\n",
    "\n",
    "# Get the list of files in the source directory\n",
    "file_list = os.listdir(src_dir)\n",
    "\n",
    "# Move each file to the destination directory\n",
    "for file_name in file_list:\n",
    "  src_path = os.path.join(src_dir, file_name)\n",
    "  dst_path = os.path.join(dst_dir, file_name)\n",
    "  shutil.move(src_path, dst_path)\n"
   ]
  },
  {
   "cell_type": "code",
   "execution_count": 54,
   "metadata": {},
   "outputs": [],
   "source": [
    "class CVDataset(Dataset):\n",
    "  def __getitem__(self, idx):\n",
    "    row = self.df.iloc[idx]\n",
    "    img = cv2.imread( str(self.img_dir / row['filename']))\n",
    "    annotations = row['label']\n",
    "    annotations = annotations.split(':')[0]\n",
    "    img = self.transform(img)\n",
    "    return img, self.tokenizer(annotations)\n",
    "  \n",
    "  def _make_tokenizer(self):\n",
    "    chars = self.df['label'].values.tolist()\n",
    "    chars = [char.split(':')[0] for char in chars]\n",
    "    return Tokenizer(chars)\n",
    "\n",
    "dataset = Dataset('pairs.csv', 'jeongganbo-png/unique-char-pngs/')\n",
    "cv_dataset = CVDataset('cv_label.csv', 'jeongganbo-png/splited-pngs/')\n",
    "tokenizer = dataset.tokenizer + cv_dataset.tokenizer\n",
    "cv_dataset.tokenizer = tokenizer\n",
    "dataset.tokenizer = tokenizer\n",
    "# cv_dataset.df \n",
    "\n",
    "cv_data_loader = torch.utils.data.DataLoader(cv_dataset, batch_size=256, shuffle=True, collate_fn=pad_collate)"
   ]
  },
  {
   "cell_type": "code",
   "execution_count": 56,
   "metadata": {},
   "outputs": [
    {
     "name": "stderr",
     "output_type": "stream",
     "text": [
      "/usr/local/lib/python3.8/dist-packages/torch/nn/modules/rnn.py:62: UserWarning: dropout option adds dropout after all but last recurrent layer, so non-zero dropout expects num_layers greater than 1, but got dropout=0.2 and num_layers=1\n",
      "  warnings.warn(\"dropout option adds dropout after all but last \"\n"
     ]
    },
    {
     "data": {
      "text/plain": [
       "torch.Size([32, 13, 117])"
      ]
     },
     "execution_count": 56,
     "metadata": {},
     "output_type": "execute_result"
    }
   ],
   "source": [
    "\n",
    "class ConvBlock(nn.Module):\n",
    "  def __init__(self, in_channels, out_channels, kernel_size, stride, padding):\n",
    "    super().__init__()\n",
    "    self.conv = nn.Conv2d(in_channels, out_channels, kernel_size, stride, padding)\n",
    "    # self.bn = nn.BatchNorm2d(out_channels)\n",
    "    self.relu = nn.GELU()\n",
    "\n",
    "  def forward(self, x):\n",
    "    x = self.conv(x)\n",
    "    # x = self.bn(x)\n",
    "    x = self.relu(x)\n",
    "    return x\n",
    "\n",
    "\n",
    "class ContextAttention(nn.Module):\n",
    "  def __init__(self, size, num_head):\n",
    "    super(ContextAttention, self).__init__()\n",
    "    self.attention_net = nn.Linear(size, size)\n",
    "    self.num_head = num_head\n",
    "\n",
    "    if size % num_head != 0:\n",
    "        raise ValueError(\"size must be dividable by num_head\", size, num_head)\n",
    "    self.head_size = int(size/num_head)\n",
    "    self.context_vector = torch.nn.Parameter(torch.Tensor(num_head, self.head_size, 1))\n",
    "    nn.init.uniform_(self.context_vector, a=-1, b=1)\n",
    "\n",
    "  def get_attention(self, x):\n",
    "    attention = self.attention_net(x)\n",
    "    attention_tanh = torch.tanh(attention)\n",
    "    attention_split = torch.stack(attention_tanh.split(split_size=self.head_size, dim=2), dim=0)\n",
    "    similarity = torch.bmm(attention_split.view(self.num_head, -1, self.head_size), self.context_vector)\n",
    "    similarity = similarity.view(self.num_head, x.shape[0], -1).permute(1,2,0)\n",
    "    return similarity\n",
    "\n",
    "  def forward(self, x):\n",
    "    attention = self.attention_net(x)\n",
    "    attention_tanh = torch.tanh(attention)\n",
    "    if self.head_size != 1:\n",
    "      attention_split = torch.stack(attention_tanh.split(split_size=self.head_size, dim=2), dim=0)\n",
    "      similarity = torch.bmm(attention_split.view(self.num_head, -1, self.head_size), self.context_vector)\n",
    "      similarity = similarity.view(self.num_head, x.shape[0], -1).permute(1,2,0)\n",
    "      similarity[x.sum(-1)==0] = -1e10 # mask out zero padded_ones\n",
    "      softmax_weight = torch.softmax(similarity, dim=1)\n",
    "\n",
    "      x_split = torch.stack(x.split(split_size=self.head_size, dim=2), dim=2)\n",
    "      weighted_x = x_split * softmax_weight.unsqueeze(-1).repeat(1,1,1, x_split.shape[-1])\n",
    "      attention = weighted_x.view(x_split.shape[0], x_split.shape[1], x.shape[-1])\n",
    "    else:\n",
    "      softmax_weight = torch.softmax(attention, dim=1)\n",
    "      attention = softmax_weight * x\n",
    "\n",
    "    sum_attention = torch.sum(attention, dim=1)\n",
    "    return sum_attention\n",
    "\n",
    "class OMRModel(nn.Module):\n",
    "  def __init__(self, hidden_size, vocab_size, num_gru_layers=2):\n",
    "    super().__init__()\n",
    "\n",
    "    self.layers = nn.Sequential(\n",
    "          ConvBlock(1, hidden_size//4, 3, 1, 1),\n",
    "          nn.MaxPool2d(2, 2),\n",
    "          ConvBlock(hidden_size//4, hidden_size//4, 3, 1, 1),\n",
    "          nn.MaxPool2d(2, 2),\n",
    "          ConvBlock(hidden_size//4, hidden_size//2, 3, 1, 1),\n",
    "          nn.MaxPool2d(2, 2),\n",
    "          ConvBlock(hidden_size//2, hidden_size//2, 3, 1, 1),\n",
    "          nn.MaxPool2d(2, 2),\n",
    "          ConvBlock(hidden_size//2, hidden_size, 3, 1, 1),\n",
    "          nn.MaxPool2d(2, 2),\n",
    "          ConvBlock(hidden_size, hidden_size, 3, 1, 1),\n",
    "    )\n",
    "    \n",
    "    self.context_attention = ContextAttention(hidden_size, 4)\n",
    "    self.cont2hidden = nn.Linear(hidden_size, hidden_size*num_gru_layers)\n",
    "    self.cnn_gru = nn.GRU(hidden_size, hidden_size//2, 1, batch_first=True, dropout = 0.2, bidirectional=True)\n",
    "\n",
    "    self.kv = nn.Linear(hidden_size, hidden_size*2)\n",
    "    self.q = nn.Linear(hidden_size, hidden_size)\n",
    "    self.num_head = 4\n",
    "\n",
    "    self.emb = nn.Embedding(vocab_size, hidden_size)\n",
    "    self.gru = nn.GRU(hidden_size, hidden_size, num_gru_layers, batch_first=True, dropout = 0.2)\n",
    "    self.mlp = nn.Sequential(\n",
    "        nn.Linear(hidden_size, hidden_size * 4),\n",
    "        nn.GELU(),\n",
    "        nn.Linear(hidden_size * 4, hidden_size),\n",
    "    )\n",
    "\n",
    "    self.proj = nn.Linear(hidden_size*2, vocab_size)\n",
    "\n",
    "  def run_img_cnn(self, x):\n",
    "    x = self.layers(x)\n",
    "    x = x.permute(0, 2, 3, 1)\n",
    "    x = x.reshape(x.shape[0], -1, x.shape[-1])\n",
    "    x = x.contiguous()\n",
    "    x, _ = self.cnn_gru(x)\n",
    "\n",
    "    context_vector = self.context_attention(x)\n",
    "    context_vector = self.cont2hidden(context_vector.relu())\n",
    "    context_vector = context_vector.reshape(x.shape[0], -1, context_vector.shape[-1]//2).permute(1,0,2)\n",
    "    context_vector = context_vector.contiguous()\n",
    "\n",
    "    return x, context_vector\n",
    "\n",
    "  \n",
    "  def forward(self, x, y):\n",
    "    x, context_vector = self.run_img_cnn(x)\n",
    "    y = self.emb(y)\n",
    "    gru_out, _ = self.gru(y, context_vector)\n",
    "    kv = self.kv(x)\n",
    "    k, v = torch.split(kv, kv.shape[-1]//2, dim=-1)\n",
    "    q = self.q(gru_out)\n",
    "    attention_score = torch.bmm(q, k.permute(0,2,1))\n",
    "    attention_score = torch.softmax(attention_score, dim=-1)\n",
    "\n",
    "    attention = torch.bmm(attention_score, v)\n",
    "    attention = self.mlp(attention)\n",
    "\n",
    "    cat_out = torch.cat([gru_out, attention], dim=-1)\n",
    "    logit = self.proj(cat_out)\n",
    "\n",
    "    return logit\n",
    "\n",
    "  @torch.inference_mode()  \n",
    "  def inference(self, x):\n",
    "    assert x.shape[0] == 1 # batch size must be 1\n",
    "\n",
    "    x, last_hidden = self.run_img_cnn(x)\n",
    "    kv = self.kv(x)\n",
    "    k, v = torch.split(kv, kv.shape[-1]//2, dim=-1)\n",
    "\n",
    "    y = torch.ones((1, 1), dtype=torch.long).to(x.device)\n",
    "    outputs = []\n",
    "    for _ in range(100):\n",
    "      y = self.emb(y)\n",
    "      gru_out, last_hidden = self.gru(y, last_hidden)\n",
    "      q = self.q(gru_out)\n",
    "      attention_score = torch.bmm(q, k.permute(0,2,1))\n",
    "      attention_score = torch.softmax(attention_score, dim=-1)\n",
    "\n",
    "      attention = torch.bmm(attention_score, v)\n",
    "      attention = self.mlp(attention)\n",
    "\n",
    "      cat_out = torch.cat([gru_out, attention], dim=-1)\n",
    "      logit = self.proj(cat_out)\n",
    "      y = torch.argmax(logit, dim=-1)\n",
    "      if y == 2:\n",
    "        break\n",
    "      outputs.append(y.item())\n",
    "    return outputs\n",
    "\n",
    "\n",
    "model = OMRModel(128, vocab_size=len(tokenizer.vocab))\n",
    "batch = next(iter(data_loader))\n",
    "img, label, shifted_label = batch\n",
    "out = model(img, label)\n",
    "out.shape"
   ]
  },
  {
   "cell_type": "code",
   "execution_count": 59,
   "metadata": {},
   "outputs": [
    {
     "name": "stderr",
     "output_type": "stream",
     "text": [
      "/usr/local/lib/python3.8/dist-packages/torch/nn/modules/rnn.py:62: UserWarning: dropout option adds dropout after all but last recurrent layer, so non-zero dropout expects num_layers greater than 1, but got dropout=0.2 and num_layers=1\n",
      "  warnings.warn(\"dropout option adds dropout after all but last \"\n"
     ]
    }
   ],
   "source": [
    "class Trainer:\n",
    "  def __init__(self, model, optimizer, loss_fn, train_loader, valid_loader, device, model_name='nmt_model'):\n",
    "    self.model = model\n",
    "    self.optimizer = optimizer\n",
    "    self.loss_fn = loss_fn\n",
    "    self.train_loader = train_loader\n",
    "    self.valid_loader = valid_loader\n",
    "    \n",
    "    self.model.to(device)\n",
    "    \n",
    "    self.grad_clip = 1.0\n",
    "    self.best_valid_accuracy = 0\n",
    "    self.device = device\n",
    "    \n",
    "    self.training_loss = []\n",
    "    self.validation_loss = []\n",
    "    self.validation_acc = []\n",
    "    self.model_name = model_name\n",
    "\n",
    "  def save_model(self, path):\n",
    "    torch.save({'model':self.model.state_dict(), 'optim':self.optimizer.state_dict()}, path)\n",
    "    \n",
    "  def train_by_num_epoch(self, num_epochs):\n",
    "    for epoch in tqdm(range(num_epochs)):\n",
    "      self.model.train()\n",
    "      for batch in tqdm(self.train_loader, leave=False):\n",
    "        loss_value = self._train_by_single_batch(batch)\n",
    "        self.training_loss.append(loss_value)\n",
    "      self.model.eval()\n",
    "      validation_loss, validation_acc = self.validate()\n",
    "      self.validation_loss.append(validation_loss)\n",
    "      self.validation_acc.append(validation_acc)\n",
    "      \n",
    "      if validation_acc > self.best_valid_accuracy:\n",
    "        print(f\"Saving the model with best validation accuracy: Epoch {epoch+1}, Acc: {validation_acc:.4f} \")\n",
    "        self.save_model(f'{self.model_name}_best.pt')\n",
    "      else:\n",
    "        self.save_model(f'{self.model_name}_last.pt')\n",
    "      self.best_valid_accuracy = max(validation_acc, self.best_valid_accuracy)\n",
    "\n",
    "      \n",
    "  def _train_by_single_batch(self, batch):\n",
    "    '''\n",
    "    This method updates self.model's parameter with a given batch\n",
    "    \n",
    "    batch (tuple): (batch_of_input_text, batch_of_label)\n",
    "    \n",
    "    You have to use variables below:\n",
    "    \n",
    "    self.model (Translator/torch.nn.Module): A neural network model\n",
    "    self.optimizer (torch.optim.adam.Adam): Adam optimizer that optimizes model's parameter\n",
    "    self.loss_fn (function): function for calculating BCE loss for a given prediction and target\n",
    "    self.device (str): 'cuda' or 'cpu'\n",
    "\n",
    "    output: loss (float): Mean binary cross entropy value for every sample in the training batch\n",
    "    The model's parameters, optimizer's steps has to be updated inside this method\n",
    "    '''\n",
    "    \n",
    "    src, tgt_i, tgt_o = batch\n",
    "    pred = self.model(src.to(self.device), tgt_i.to(self.device))\n",
    "    loss = self.loss_fn(pred, tgt_o)\n",
    "    loss.backward()\n",
    "    torch.nn.utils.clip_grad_norm_(self.model.parameters(), self.grad_clip)\n",
    "    self.optimizer.step()\n",
    "    self.optimizer.zero_grad()\n",
    "    \n",
    "    return loss.item()\n",
    "\n",
    "    \n",
    "  def validate(self, external_loader=None):\n",
    "    '''\n",
    "    This method calculates accuracy and loss for given data loader.\n",
    "    It can be used for validation step, or to get test set result\n",
    "    \n",
    "    input:\n",
    "      data_loader: If there is no data_loader given, use self.valid_loader as default.\n",
    "      \n",
    "    output: \n",
    "      validation_loss (float): Mean Binary Cross Entropy value for every sample in validation set\n",
    "      validation_accuracy (float): Mean Accuracy value for every sample in validation set\n",
    "    '''\n",
    "    \n",
    "    ### Don't change this part\n",
    "    if external_loader and isinstance(external_loader, DataLoader):\n",
    "      loader = external_loader\n",
    "      print('An arbitrary loader is used instead of Validation loader')\n",
    "    else:\n",
    "      loader = self.valid_loader\n",
    "      \n",
    "    self.model.eval()\n",
    "    \n",
    "    '''\n",
    "    Write your code from here, using loader, self.model, self.loss_fn.\n",
    "    '''\n",
    "    validation_loss = 0\n",
    "    validation_acc = 0\n",
    "    num_total_tokens = 0\n",
    "    with torch.no_grad():\n",
    "      for batch in tqdm(loader, leave=False):\n",
    "        \n",
    "        src, tgt_i, tgt_o = batch\n",
    "        pred = self.model(src.to(self.device), tgt_i.to(self.device))\n",
    "        loss = self.loss_fn(pred, tgt_o)\n",
    "        num_tokens = (tgt_o != 0).sum().item()\n",
    "        validation_loss += loss.item() * num_tokens\n",
    "        num_total_tokens += num_tokens\n",
    "        \n",
    "        acc = torch.argmax(pred, dim=-1) == tgt_o.to(self.device)\n",
    "        acc = acc[tgt_o != 0].sum()\n",
    "        validation_acc += acc.item()\n",
    "        \n",
    "    return validation_loss / num_total_tokens, validation_acc / num_total_tokens\n",
    "\n",
    "def get_nll_loss(predicted_prob_distribution, indices_of_correct_token, eps=1e-10, ignore_index=0):\n",
    "  '''\n",
    "  for PackedSequence, the input is 2D tensor\n",
    "  \n",
    "  predicted_prob_distribution has a shape of [num_entire_tokens_in_the_batch x vocab_size]\n",
    "  indices_of_correct_token has a shape of [num_entire_tokens_in_the_batch]\n",
    "  '''\n",
    "\n",
    "  if predicted_prob_distribution.ndim == 3:\n",
    "    predicted_prob_distribution = predicted_prob_distribution.reshape(-1, predicted_prob_distribution.shape[-1])\n",
    "    indices_of_correct_token = indices_of_correct_token.reshape(-1)\n",
    "\n",
    "\n",
    "  prob_of_correct_next_word = torch.log_softmax(predicted_prob_distribution, dim=-1)[torch.arange(len(predicted_prob_distribution)), indices_of_correct_token]\n",
    "  filtered_prob = prob_of_correct_next_word[indices_of_correct_token != ignore_index]\n",
    "  loss = -filtered_prob\n",
    "  return loss.mean()\n",
    "\n",
    "  \n",
    "model = OMRModel(128, vocab_size=len(dataset.tokenizer.vocab))\n",
    "optimizer = torch.optim.Adam(model.parameters(), lr=1e-3)\n",
    "\n",
    "train_set, valid_set, test_set = torch.utils.data.random_split(dataset, \n",
    "                                                               [int(len(dataset)*0.8), \n",
    "                                                                int(len(dataset)*0.1), \n",
    "                                                                len(dataset) - int(len(dataset)*0.8)  - int(len(dataset)*0.1)] )\n",
    "\n",
    "pre_train_loader = DataLoader(cv_dataset, batch_size=256, shuffle=True, collate_fn=pad_collate)\n",
    "train_loader = DataLoader(train_set, batch_size=64, shuffle=True, collate_fn=pad_collate)\n",
    "valid_loader = DataLoader(valid_set, batch_size=32, shuffle=False, collate_fn=pad_collate)\n",
    "test_loader = DataLoader(test_set, batch_size=32, shuffle=False, collate_fn=pad_collate)\n",
    "\n",
    "trainer = Trainer(model, torch.optim.Adam(model.parameters(), lr=1e-3), get_nll_loss, train_loader, valid_loader, 'cuda')"
   ]
  },
  {
   "cell_type": "code",
   "execution_count": 60,
   "metadata": {},
   "outputs": [
    {
     "data": {
      "application/vnd.jupyter.widget-view+json": {
       "model_id": "6bccc8a6a4b34372a64bde0c292c081a",
       "version_major": 2,
       "version_minor": 0
      },
      "text/plain": [
       "  0%|          | 0/5 [00:00<?, ?it/s]"
      ]
     },
     "metadata": {},
     "output_type": "display_data"
    },
    {
     "data": {
      "application/vnd.jupyter.widget-view+json": {
       "model_id": "589e05536724464d867a03b5b775e867",
       "version_major": 2,
       "version_minor": 0
      },
      "text/plain": [
       "  0%|          | 0/267 [00:00<?, ?it/s]"
      ]
     },
     "metadata": {},
     "output_type": "display_data"
    },
    {
     "data": {
      "application/vnd.jupyter.widget-view+json": {
       "model_id": "b7b62af30cae46cc9b0c45edea4cf639",
       "version_major": 2,
       "version_minor": 0
      },
      "text/plain": [
       "  0%|          | 0/3 [00:00<?, ?it/s]"
      ]
     },
     "metadata": {},
     "output_type": "display_data"
    },
    {
     "name": "stdout",
     "output_type": "stream",
     "text": [
      "Saving the model with best validation accuracy: Epoch 1, Acc: 0.1501 \n"
     ]
    },
    {
     "data": {
      "application/vnd.jupyter.widget-view+json": {
       "model_id": "1109b034346347f8a4d41e863204abbb",
       "version_major": 2,
       "version_minor": 0
      },
      "text/plain": [
       "  0%|          | 0/267 [00:00<?, ?it/s]"
      ]
     },
     "metadata": {},
     "output_type": "display_data"
    },
    {
     "data": {
      "application/vnd.jupyter.widget-view+json": {
       "model_id": "b2fa38f2d7e44e78ae50bf4e1329df60",
       "version_major": 2,
       "version_minor": 0
      },
      "text/plain": [
       "  0%|          | 0/3 [00:00<?, ?it/s]"
      ]
     },
     "metadata": {},
     "output_type": "display_data"
    },
    {
     "name": "stdout",
     "output_type": "stream",
     "text": [
      "Saving the model with best validation accuracy: Epoch 2, Acc: 0.1715 \n"
     ]
    },
    {
     "data": {
      "application/vnd.jupyter.widget-view+json": {
       "model_id": "2174cf9906894b6ca62c96e7c2b033d8",
       "version_major": 2,
       "version_minor": 0
      },
      "text/plain": [
       "  0%|          | 0/267 [00:00<?, ?it/s]"
      ]
     },
     "metadata": {},
     "output_type": "display_data"
    },
    {
     "data": {
      "application/vnd.jupyter.widget-view+json": {
       "model_id": "78de9f0254b44842a5847660063bbb59",
       "version_major": 2,
       "version_minor": 0
      },
      "text/plain": [
       "  0%|          | 0/3 [00:00<?, ?it/s]"
      ]
     },
     "metadata": {},
     "output_type": "display_data"
    },
    {
     "data": {
      "application/vnd.jupyter.widget-view+json": {
       "model_id": "cc76a664420a4736a7105ffaee747acd",
       "version_major": 2,
       "version_minor": 0
      },
      "text/plain": [
       "  0%|          | 0/267 [00:00<?, ?it/s]"
      ]
     },
     "metadata": {},
     "output_type": "display_data"
    },
    {
     "data": {
      "application/vnd.jupyter.widget-view+json": {
       "model_id": "9f9fe013d12f43a198938429ab96ba4e",
       "version_major": 2,
       "version_minor": 0
      },
      "text/plain": [
       "  0%|          | 0/3 [00:00<?, ?it/s]"
      ]
     },
     "metadata": {},
     "output_type": "display_data"
    },
    {
     "name": "stdout",
     "output_type": "stream",
     "text": [
      "Saving the model with best validation accuracy: Epoch 4, Acc: 0.1746 \n"
     ]
    },
    {
     "data": {
      "application/vnd.jupyter.widget-view+json": {
       "model_id": "01ebdfc5903843d9bcadeafba60ae9c4",
       "version_major": 2,
       "version_minor": 0
      },
      "text/plain": [
       "  0%|          | 0/267 [00:00<?, ?it/s]"
      ]
     },
     "metadata": {},
     "output_type": "display_data"
    },
    {
     "data": {
      "application/vnd.jupyter.widget-view+json": {
       "model_id": "5878b8624bab4c0e8e50f42e7d92be4c",
       "version_major": 2,
       "version_minor": 0
      },
      "text/plain": [
       "  0%|          | 0/3 [00:00<?, ?it/s]"
      ]
     },
     "metadata": {},
     "output_type": "display_data"
    },
    {
     "name": "stdout",
     "output_type": "stream",
     "text": [
      "Saving the model with best validation accuracy: Epoch 5, Acc: 0.1776 \n"
     ]
    }
   ],
   "source": [
    "pre_train_loader = DataLoader(cv_dataset, batch_size=256, shuffle=True, collate_fn=pad_collate)\n",
    "optimizer = torch.optim.Adam(model.parameters(), lr=1e-3)\n",
    "\n",
    "trainer = Trainer(model, optimizer, lr=1e-3), get_nll_loss, pre_train_loader, valid_loader, 'cuda')\n",
    "trainer.train_by_num_epoch(5)"
   ]
  },
  {
   "cell_type": "code",
   "execution_count": 62,
   "metadata": {},
   "outputs": [
    {
     "data": {
      "application/vnd.jupyter.widget-view+json": {
       "model_id": "b6cf659b7db64304b0702f6ffca3296e",
       "version_major": 2,
       "version_minor": 0
      },
      "text/plain": [
       "  0%|          | 0/100 [00:00<?, ?it/s]"
      ]
     },
     "metadata": {},
     "output_type": "display_data"
    },
    {
     "data": {
      "application/vnd.jupyter.widget-view+json": {
       "model_id": "54c68e10228e4ff1b898a896c8ab656a",
       "version_major": 2,
       "version_minor": 0
      },
      "text/plain": [
       "  0%|          | 0/12 [00:00<?, ?it/s]"
      ]
     },
     "metadata": {},
     "output_type": "display_data"
    },
    {
     "data": {
      "application/vnd.jupyter.widget-view+json": {
       "model_id": "2284a6877efc4d109ddf81cec9f697f4",
       "version_major": 2,
       "version_minor": 0
      },
      "text/plain": [
       "  0%|          | 0/3 [00:00<?, ?it/s]"
      ]
     },
     "metadata": {},
     "output_type": "display_data"
    },
    {
     "name": "stdout",
     "output_type": "stream",
     "text": [
      "Saving the model with best validation accuracy: Epoch 1, Acc: 0.2956 \n"
     ]
    },
    {
     "data": {
      "application/vnd.jupyter.widget-view+json": {
       "model_id": "abe9403f2e734b68af94d5c7b4a0ab0f",
       "version_major": 2,
       "version_minor": 0
      },
      "text/plain": [
       "  0%|          | 0/12 [00:00<?, ?it/s]"
      ]
     },
     "metadata": {},
     "output_type": "display_data"
    },
    {
     "data": {
      "application/vnd.jupyter.widget-view+json": {
       "model_id": "0dc29839aca1491a9cdbe4e6ea62c11d",
       "version_major": 2,
       "version_minor": 0
      },
      "text/plain": [
       "  0%|          | 0/3 [00:00<?, ?it/s]"
      ]
     },
     "metadata": {},
     "output_type": "display_data"
    },
    {
     "name": "stdout",
     "output_type": "stream",
     "text": [
      "Saving the model with best validation accuracy: Epoch 2, Acc: 0.4900 \n"
     ]
    },
    {
     "data": {
      "application/vnd.jupyter.widget-view+json": {
       "model_id": "127a4786ab614bf2a039d13bd76b478c",
       "version_major": 2,
       "version_minor": 0
      },
      "text/plain": [
       "  0%|          | 0/12 [00:00<?, ?it/s]"
      ]
     },
     "metadata": {},
     "output_type": "display_data"
    },
    {
     "data": {
      "application/vnd.jupyter.widget-view+json": {
       "model_id": "47855d4c865e47e2adbc54700dffb0c9",
       "version_major": 2,
       "version_minor": 0
      },
      "text/plain": [
       "  0%|          | 0/3 [00:00<?, ?it/s]"
      ]
     },
     "metadata": {},
     "output_type": "display_data"
    },
    {
     "name": "stdout",
     "output_type": "stream",
     "text": [
      "Saving the model with best validation accuracy: Epoch 3, Acc: 0.5498 \n"
     ]
    },
    {
     "data": {
      "application/vnd.jupyter.widget-view+json": {
       "model_id": "667aeea49cd346778d274d4dd3002325",
       "version_major": 2,
       "version_minor": 0
      },
      "text/plain": [
       "  0%|          | 0/12 [00:00<?, ?it/s]"
      ]
     },
     "metadata": {},
     "output_type": "display_data"
    },
    {
     "data": {
      "application/vnd.jupyter.widget-view+json": {
       "model_id": "650c8775c0694a7894ad61b43e2c1d41",
       "version_major": 2,
       "version_minor": 0
      },
      "text/plain": [
       "  0%|          | 0/3 [00:00<?, ?it/s]"
      ]
     },
     "metadata": {},
     "output_type": "display_data"
    },
    {
     "name": "stdout",
     "output_type": "stream",
     "text": [
      "Saving the model with best validation accuracy: Epoch 4, Acc: 0.5911 \n"
     ]
    },
    {
     "data": {
      "application/vnd.jupyter.widget-view+json": {
       "model_id": "7a2f44c9f1b640deadc3a9862284f6d5",
       "version_major": 2,
       "version_minor": 0
      },
      "text/plain": [
       "  0%|          | 0/12 [00:00<?, ?it/s]"
      ]
     },
     "metadata": {},
     "output_type": "display_data"
    },
    {
     "data": {
      "application/vnd.jupyter.widget-view+json": {
       "model_id": "ed8df047b63b4059a3bc0f953ec434a0",
       "version_major": 2,
       "version_minor": 0
      },
      "text/plain": [
       "  0%|          | 0/3 [00:00<?, ?it/s]"
      ]
     },
     "metadata": {},
     "output_type": "display_data"
    },
    {
     "name": "stdout",
     "output_type": "stream",
     "text": [
      "Saving the model with best validation accuracy: Epoch 5, Acc: 0.6263 \n"
     ]
    },
    {
     "data": {
      "application/vnd.jupyter.widget-view+json": {
       "model_id": "42cbc9aa3532480e86cc6fc72c31f98c",
       "version_major": 2,
       "version_minor": 0
      },
      "text/plain": [
       "  0%|          | 0/12 [00:00<?, ?it/s]"
      ]
     },
     "metadata": {},
     "output_type": "display_data"
    },
    {
     "data": {
      "application/vnd.jupyter.widget-view+json": {
       "model_id": "ebd7b7990b5742c3ba70815ad44c4c1b",
       "version_major": 2,
       "version_minor": 0
      },
      "text/plain": [
       "  0%|          | 0/3 [00:00<?, ?it/s]"
      ]
     },
     "metadata": {},
     "output_type": "display_data"
    },
    {
     "name": "stdout",
     "output_type": "stream",
     "text": [
      "Saving the model with best validation accuracy: Epoch 6, Acc: 0.6386 \n"
     ]
    },
    {
     "data": {
      "application/vnd.jupyter.widget-view+json": {
       "model_id": "eeabe1a6676e4d9c93beca2b87ec06ab",
       "version_major": 2,
       "version_minor": 0
      },
      "text/plain": [
       "  0%|          | 0/12 [00:00<?, ?it/s]"
      ]
     },
     "metadata": {},
     "output_type": "display_data"
    },
    {
     "data": {
      "application/vnd.jupyter.widget-view+json": {
       "model_id": "2531b584a3d04e558a58381b0a471bee",
       "version_major": 2,
       "version_minor": 0
      },
      "text/plain": [
       "  0%|          | 0/3 [00:00<?, ?it/s]"
      ]
     },
     "metadata": {},
     "output_type": "display_data"
    },
    {
     "name": "stdout",
     "output_type": "stream",
     "text": [
      "Saving the model with best validation accuracy: Epoch 7, Acc: 0.6830 \n"
     ]
    },
    {
     "data": {
      "application/vnd.jupyter.widget-view+json": {
       "model_id": "c718761d175f4e3d999a709c51eb7f45",
       "version_major": 2,
       "version_minor": 0
      },
      "text/plain": [
       "  0%|          | 0/12 [00:00<?, ?it/s]"
      ]
     },
     "metadata": {},
     "output_type": "display_data"
    },
    {
     "data": {
      "application/vnd.jupyter.widget-view+json": {
       "model_id": "b1adab60611449818de14a2add3f186a",
       "version_major": 2,
       "version_minor": 0
      },
      "text/plain": [
       "  0%|          | 0/3 [00:00<?, ?it/s]"
      ]
     },
     "metadata": {},
     "output_type": "display_data"
    },
    {
     "name": "stdout",
     "output_type": "stream",
     "text": [
      "Saving the model with best validation accuracy: Epoch 8, Acc: 0.6876 \n"
     ]
    },
    {
     "data": {
      "application/vnd.jupyter.widget-view+json": {
       "model_id": "bc23e12d5afd4387b493e373ea2c8b71",
       "version_major": 2,
       "version_minor": 0
      },
      "text/plain": [
       "  0%|          | 0/12 [00:00<?, ?it/s]"
      ]
     },
     "metadata": {},
     "output_type": "display_data"
    },
    {
     "data": {
      "application/vnd.jupyter.widget-view+json": {
       "model_id": "9239f22d1344439fa4195437cd5972d2",
       "version_major": 2,
       "version_minor": 0
      },
      "text/plain": [
       "  0%|          | 0/3 [00:00<?, ?it/s]"
      ]
     },
     "metadata": {},
     "output_type": "display_data"
    },
    {
     "name": "stdout",
     "output_type": "stream",
     "text": [
      "Saving the model with best validation accuracy: Epoch 9, Acc: 0.6922 \n"
     ]
    },
    {
     "data": {
      "application/vnd.jupyter.widget-view+json": {
       "model_id": "95fa1a8b3175413cbd27020a0f2cd21a",
       "version_major": 2,
       "version_minor": 0
      },
      "text/plain": [
       "  0%|          | 0/12 [00:00<?, ?it/s]"
      ]
     },
     "metadata": {},
     "output_type": "display_data"
    },
    {
     "data": {
      "application/vnd.jupyter.widget-view+json": {
       "model_id": "c87361255b6e4af69eb7276f92078842",
       "version_major": 2,
       "version_minor": 0
      },
      "text/plain": [
       "  0%|          | 0/3 [00:00<?, ?it/s]"
      ]
     },
     "metadata": {},
     "output_type": "display_data"
    },
    {
     "data": {
      "application/vnd.jupyter.widget-view+json": {
       "model_id": "36a8d20400374e998ba61b28d2a2b39e",
       "version_major": 2,
       "version_minor": 0
      },
      "text/plain": [
       "  0%|          | 0/12 [00:00<?, ?it/s]"
      ]
     },
     "metadata": {},
     "output_type": "display_data"
    },
    {
     "data": {
      "application/vnd.jupyter.widget-view+json": {
       "model_id": "c23418e40ed24f339b2da00bf30b7ee0",
       "version_major": 2,
       "version_minor": 0
      },
      "text/plain": [
       "  0%|          | 0/3 [00:00<?, ?it/s]"
      ]
     },
     "metadata": {},
     "output_type": "display_data"
    },
    {
     "name": "stdout",
     "output_type": "stream",
     "text": [
      "Saving the model with best validation accuracy: Epoch 11, Acc: 0.6998 \n"
     ]
    },
    {
     "data": {
      "application/vnd.jupyter.widget-view+json": {
       "model_id": "a8c327a1dd474f8c8eddae74a6a06b8f",
       "version_major": 2,
       "version_minor": 0
      },
      "text/plain": [
       "  0%|          | 0/12 [00:00<?, ?it/s]"
      ]
     },
     "metadata": {},
     "output_type": "display_data"
    },
    {
     "data": {
      "application/vnd.jupyter.widget-view+json": {
       "model_id": "85fb5b3dd51b428c8db867fd2a705075",
       "version_major": 2,
       "version_minor": 0
      },
      "text/plain": [
       "  0%|          | 0/3 [00:00<?, ?it/s]"
      ]
     },
     "metadata": {},
     "output_type": "display_data"
    },
    {
     "name": "stdout",
     "output_type": "stream",
     "text": [
      "Saving the model with best validation accuracy: Epoch 12, Acc: 0.7044 \n"
     ]
    },
    {
     "data": {
      "application/vnd.jupyter.widget-view+json": {
       "model_id": "189c8c26a4eb46c6a282ed1d5d52cb34",
       "version_major": 2,
       "version_minor": 0
      },
      "text/plain": [
       "  0%|          | 0/12 [00:00<?, ?it/s]"
      ]
     },
     "metadata": {},
     "output_type": "display_data"
    },
    {
     "data": {
      "application/vnd.jupyter.widget-view+json": {
       "model_id": "a22d743c7d354fa5ac014219546eae1b",
       "version_major": 2,
       "version_minor": 0
      },
      "text/plain": [
       "  0%|          | 0/3 [00:00<?, ?it/s]"
      ]
     },
     "metadata": {},
     "output_type": "display_data"
    },
    {
     "name": "stdout",
     "output_type": "stream",
     "text": [
      "Saving the model with best validation accuracy: Epoch 13, Acc: 0.7305 \n"
     ]
    },
    {
     "data": {
      "application/vnd.jupyter.widget-view+json": {
       "model_id": "25dcadb5db6e4bfbbbf00d1a58b95c2d",
       "version_major": 2,
       "version_minor": 0
      },
      "text/plain": [
       "  0%|          | 0/12 [00:00<?, ?it/s]"
      ]
     },
     "metadata": {},
     "output_type": "display_data"
    },
    {
     "data": {
      "application/vnd.jupyter.widget-view+json": {
       "model_id": "65ff950b827d4b18bb750e38fe98fe83",
       "version_major": 2,
       "version_minor": 0
      },
      "text/plain": [
       "  0%|          | 0/3 [00:00<?, ?it/s]"
      ]
     },
     "metadata": {},
     "output_type": "display_data"
    },
    {
     "name": "stdout",
     "output_type": "stream",
     "text": [
      "Saving the model with best validation accuracy: Epoch 14, Acc: 0.7443 \n"
     ]
    },
    {
     "data": {
      "application/vnd.jupyter.widget-view+json": {
       "model_id": "43c2427a26de4f2e9b3e842fee71b085",
       "version_major": 2,
       "version_minor": 0
      },
      "text/plain": [
       "  0%|          | 0/12 [00:00<?, ?it/s]"
      ]
     },
     "metadata": {},
     "output_type": "display_data"
    },
    {
     "data": {
      "application/vnd.jupyter.widget-view+json": {
       "model_id": "78aeca4c708e44829d7faacde0a093c4",
       "version_major": 2,
       "version_minor": 0
      },
      "text/plain": [
       "  0%|          | 0/3 [00:00<?, ?it/s]"
      ]
     },
     "metadata": {},
     "output_type": "display_data"
    },
    {
     "data": {
      "application/vnd.jupyter.widget-view+json": {
       "model_id": "8d7c08b5205f433c822155f7471fae55",
       "version_major": 2,
       "version_minor": 0
      },
      "text/plain": [
       "  0%|          | 0/12 [00:00<?, ?it/s]"
      ]
     },
     "metadata": {},
     "output_type": "display_data"
    },
    {
     "data": {
      "application/vnd.jupyter.widget-view+json": {
       "model_id": "6d4d964c18d343a6a4a2ce828a68db33",
       "version_major": 2,
       "version_minor": 0
      },
      "text/plain": [
       "  0%|          | 0/3 [00:00<?, ?it/s]"
      ]
     },
     "metadata": {},
     "output_type": "display_data"
    },
    {
     "name": "stdout",
     "output_type": "stream",
     "text": [
      "Saving the model with best validation accuracy: Epoch 16, Acc: 0.7642 \n"
     ]
    },
    {
     "data": {
      "application/vnd.jupyter.widget-view+json": {
       "model_id": "1c0ec7f066f1489f89317d885b2dbd2b",
       "version_major": 2,
       "version_minor": 0
      },
      "text/plain": [
       "  0%|          | 0/12 [00:00<?, ?it/s]"
      ]
     },
     "metadata": {},
     "output_type": "display_data"
    },
    {
     "data": {
      "application/vnd.jupyter.widget-view+json": {
       "model_id": "5fcb270c61fc4c228a1f820e9995dcc9",
       "version_major": 2,
       "version_minor": 0
      },
      "text/plain": [
       "  0%|          | 0/3 [00:00<?, ?it/s]"
      ]
     },
     "metadata": {},
     "output_type": "display_data"
    },
    {
     "data": {
      "application/vnd.jupyter.widget-view+json": {
       "model_id": "183327f9bce549829df94f8afdcfe4e8",
       "version_major": 2,
       "version_minor": 0
      },
      "text/plain": [
       "  0%|          | 0/12 [00:00<?, ?it/s]"
      ]
     },
     "metadata": {},
     "output_type": "display_data"
    },
    {
     "data": {
      "application/vnd.jupyter.widget-view+json": {
       "model_id": "242d541100c84c3f869e13e6c984f758",
       "version_major": 2,
       "version_minor": 0
      },
      "text/plain": [
       "  0%|          | 0/3 [00:00<?, ?it/s]"
      ]
     },
     "metadata": {},
     "output_type": "display_data"
    },
    {
     "name": "stdout",
     "output_type": "stream",
     "text": [
      "Saving the model with best validation accuracy: Epoch 18, Acc: 0.7902 \n"
     ]
    },
    {
     "data": {
      "application/vnd.jupyter.widget-view+json": {
       "model_id": "579a3d1a1e4e4f28b372b297851716bb",
       "version_major": 2,
       "version_minor": 0
      },
      "text/plain": [
       "  0%|          | 0/12 [00:00<?, ?it/s]"
      ]
     },
     "metadata": {},
     "output_type": "display_data"
    },
    {
     "data": {
      "application/vnd.jupyter.widget-view+json": {
       "model_id": "3cab92376c1645dfa3c645c32e46281f",
       "version_major": 2,
       "version_minor": 0
      },
      "text/plain": [
       "  0%|          | 0/3 [00:00<?, ?it/s]"
      ]
     },
     "metadata": {},
     "output_type": "display_data"
    },
    {
     "data": {
      "application/vnd.jupyter.widget-view+json": {
       "model_id": "fb0edc596cb24038a152fa851bf16ba3",
       "version_major": 2,
       "version_minor": 0
      },
      "text/plain": [
       "  0%|          | 0/12 [00:00<?, ?it/s]"
      ]
     },
     "metadata": {},
     "output_type": "display_data"
    },
    {
     "data": {
      "application/vnd.jupyter.widget-view+json": {
       "model_id": "014284028e3e4583b760e02c649a6c35",
       "version_major": 2,
       "version_minor": 0
      },
      "text/plain": [
       "  0%|          | 0/3 [00:00<?, ?it/s]"
      ]
     },
     "metadata": {},
     "output_type": "display_data"
    },
    {
     "data": {
      "application/vnd.jupyter.widget-view+json": {
       "model_id": "2a16c14711294374a0f20ef4fc85efb3",
       "version_major": 2,
       "version_minor": 0
      },
      "text/plain": [
       "  0%|          | 0/12 [00:00<?, ?it/s]"
      ]
     },
     "metadata": {},
     "output_type": "display_data"
    },
    {
     "data": {
      "application/vnd.jupyter.widget-view+json": {
       "model_id": "8b3b8b67620345a683aab80a81905605",
       "version_major": 2,
       "version_minor": 0
      },
      "text/plain": [
       "  0%|          | 0/3 [00:00<?, ?it/s]"
      ]
     },
     "metadata": {},
     "output_type": "display_data"
    },
    {
     "name": "stdout",
     "output_type": "stream",
     "text": [
      "Saving the model with best validation accuracy: Epoch 21, Acc: 0.7933 \n"
     ]
    },
    {
     "data": {
      "application/vnd.jupyter.widget-view+json": {
       "model_id": "7d529a466c2b46d596f40f18300b3e23",
       "version_major": 2,
       "version_minor": 0
      },
      "text/plain": [
       "  0%|          | 0/12 [00:00<?, ?it/s]"
      ]
     },
     "metadata": {},
     "output_type": "display_data"
    },
    {
     "data": {
      "application/vnd.jupyter.widget-view+json": {
       "model_id": "68303632de304374a5cfaa5a17f6814f",
       "version_major": 2,
       "version_minor": 0
      },
      "text/plain": [
       "  0%|          | 0/3 [00:00<?, ?it/s]"
      ]
     },
     "metadata": {},
     "output_type": "display_data"
    },
    {
     "name": "stdout",
     "output_type": "stream",
     "text": [
      "Saving the model with best validation accuracy: Epoch 22, Acc: 0.8040 \n"
     ]
    },
    {
     "data": {
      "application/vnd.jupyter.widget-view+json": {
       "model_id": "7017faf362324178bdba9eb4d2e10442",
       "version_major": 2,
       "version_minor": 0
      },
      "text/plain": [
       "  0%|          | 0/12 [00:00<?, ?it/s]"
      ]
     },
     "metadata": {},
     "output_type": "display_data"
    },
    {
     "data": {
      "application/vnd.jupyter.widget-view+json": {
       "model_id": "baee97eb743c4dfbb75b3436d4a95dc2",
       "version_major": 2,
       "version_minor": 0
      },
      "text/plain": [
       "  0%|          | 0/3 [00:00<?, ?it/s]"
      ]
     },
     "metadata": {},
     "output_type": "display_data"
    },
    {
     "data": {
      "application/vnd.jupyter.widget-view+json": {
       "model_id": "b7118a3228b6441ebb34f9da9daed29c",
       "version_major": 2,
       "version_minor": 0
      },
      "text/plain": [
       "  0%|          | 0/12 [00:00<?, ?it/s]"
      ]
     },
     "metadata": {},
     "output_type": "display_data"
    },
    {
     "data": {
      "application/vnd.jupyter.widget-view+json": {
       "model_id": "e92f8ba5d186436b965d237ba07eaef9",
       "version_major": 2,
       "version_minor": 0
      },
      "text/plain": [
       "  0%|          | 0/3 [00:00<?, ?it/s]"
      ]
     },
     "metadata": {},
     "output_type": "display_data"
    },
    {
     "name": "stdout",
     "output_type": "stream",
     "text": [
      "Saving the model with best validation accuracy: Epoch 24, Acc: 0.8147 \n"
     ]
    },
    {
     "data": {
      "application/vnd.jupyter.widget-view+json": {
       "model_id": "ce06c145727843bf80eb3e567c7dcaa6",
       "version_major": 2,
       "version_minor": 0
      },
      "text/plain": [
       "  0%|          | 0/12 [00:00<?, ?it/s]"
      ]
     },
     "metadata": {},
     "output_type": "display_data"
    },
    {
     "data": {
      "application/vnd.jupyter.widget-view+json": {
       "model_id": "0ce14a6ad41c412bae62a6e37e973271",
       "version_major": 2,
       "version_minor": 0
      },
      "text/plain": [
       "  0%|          | 0/3 [00:00<?, ?it/s]"
      ]
     },
     "metadata": {},
     "output_type": "display_data"
    },
    {
     "name": "stdout",
     "output_type": "stream",
     "text": [
      "Saving the model with best validation accuracy: Epoch 25, Acc: 0.8193 \n"
     ]
    },
    {
     "data": {
      "application/vnd.jupyter.widget-view+json": {
       "model_id": "089281e53883486f86ab9f647db748ba",
       "version_major": 2,
       "version_minor": 0
      },
      "text/plain": [
       "  0%|          | 0/12 [00:00<?, ?it/s]"
      ]
     },
     "metadata": {},
     "output_type": "display_data"
    },
    {
     "data": {
      "application/vnd.jupyter.widget-view+json": {
       "model_id": "334a53fd06a84426bc39e68f21d0334b",
       "version_major": 2,
       "version_minor": 0
      },
      "text/plain": [
       "  0%|          | 0/3 [00:00<?, ?it/s]"
      ]
     },
     "metadata": {},
     "output_type": "display_data"
    },
    {
     "data": {
      "application/vnd.jupyter.widget-view+json": {
       "model_id": "3fc26e0ba6d648daa3aea26525d8a7b4",
       "version_major": 2,
       "version_minor": 0
      },
      "text/plain": [
       "  0%|          | 0/12 [00:00<?, ?it/s]"
      ]
     },
     "metadata": {},
     "output_type": "display_data"
    },
    {
     "data": {
      "application/vnd.jupyter.widget-view+json": {
       "model_id": "138c3158766e40aebc31282d01fb352d",
       "version_major": 2,
       "version_minor": 0
      },
      "text/plain": [
       "  0%|          | 0/3 [00:00<?, ?it/s]"
      ]
     },
     "metadata": {},
     "output_type": "display_data"
    },
    {
     "data": {
      "application/vnd.jupyter.widget-view+json": {
       "model_id": "68ac0bcfb27241c5a84169e38c1e46a1",
       "version_major": 2,
       "version_minor": 0
      },
      "text/plain": [
       "  0%|          | 0/12 [00:00<?, ?it/s]"
      ]
     },
     "metadata": {},
     "output_type": "display_data"
    },
    {
     "data": {
      "application/vnd.jupyter.widget-view+json": {
       "model_id": "4f81a759f40e46e9b48c543c9ad7e306",
       "version_major": 2,
       "version_minor": 0
      },
      "text/plain": [
       "  0%|          | 0/3 [00:00<?, ?it/s]"
      ]
     },
     "metadata": {},
     "output_type": "display_data"
    },
    {
     "name": "stdout",
     "output_type": "stream",
     "text": [
      "Saving the model with best validation accuracy: Epoch 28, Acc: 0.8315 \n"
     ]
    },
    {
     "data": {
      "application/vnd.jupyter.widget-view+json": {
       "model_id": "1282f138b68d481e8786a03d246047cc",
       "version_major": 2,
       "version_minor": 0
      },
      "text/plain": [
       "  0%|          | 0/12 [00:00<?, ?it/s]"
      ]
     },
     "metadata": {},
     "output_type": "display_data"
    },
    {
     "data": {
      "application/vnd.jupyter.widget-view+json": {
       "model_id": "b52525c15a8b4bc3bd8f9576abc6e113",
       "version_major": 2,
       "version_minor": 0
      },
      "text/plain": [
       "  0%|          | 0/3 [00:00<?, ?it/s]"
      ]
     },
     "metadata": {},
     "output_type": "display_data"
    },
    {
     "name": "stdout",
     "output_type": "stream",
     "text": [
      "Saving the model with best validation accuracy: Epoch 29, Acc: 0.8392 \n"
     ]
    },
    {
     "data": {
      "application/vnd.jupyter.widget-view+json": {
       "model_id": "65ff6c7048024bd892b580bccce72e62",
       "version_major": 2,
       "version_minor": 0
      },
      "text/plain": [
       "  0%|          | 0/12 [00:00<?, ?it/s]"
      ]
     },
     "metadata": {},
     "output_type": "display_data"
    },
    {
     "data": {
      "application/vnd.jupyter.widget-view+json": {
       "model_id": "5854d0b24edd47cd8e6dbccca609368d",
       "version_major": 2,
       "version_minor": 0
      },
      "text/plain": [
       "  0%|          | 0/3 [00:00<?, ?it/s]"
      ]
     },
     "metadata": {},
     "output_type": "display_data"
    },
    {
     "data": {
      "application/vnd.jupyter.widget-view+json": {
       "model_id": "98563929e3ed48719a87b77a14698d20",
       "version_major": 2,
       "version_minor": 0
      },
      "text/plain": [
       "  0%|          | 0/12 [00:00<?, ?it/s]"
      ]
     },
     "metadata": {},
     "output_type": "display_data"
    },
    {
     "data": {
      "application/vnd.jupyter.widget-view+json": {
       "model_id": "63cf0dee68484e7c9da3cef86ac3a985",
       "version_major": 2,
       "version_minor": 0
      },
      "text/plain": [
       "  0%|          | 0/3 [00:00<?, ?it/s]"
      ]
     },
     "metadata": {},
     "output_type": "display_data"
    },
    {
     "name": "stdout",
     "output_type": "stream",
     "text": [
      "Saving the model with best validation accuracy: Epoch 31, Acc: 0.8560 \n"
     ]
    },
    {
     "data": {
      "application/vnd.jupyter.widget-view+json": {
       "model_id": "8ed2085454a547eeabe6582ea9d3fd99",
       "version_major": 2,
       "version_minor": 0
      },
      "text/plain": [
       "  0%|          | 0/12 [00:00<?, ?it/s]"
      ]
     },
     "metadata": {},
     "output_type": "display_data"
    },
    {
     "data": {
      "application/vnd.jupyter.widget-view+json": {
       "model_id": "97f80bd96b6e4802803653519b350238",
       "version_major": 2,
       "version_minor": 0
      },
      "text/plain": [
       "  0%|          | 0/3 [00:00<?, ?it/s]"
      ]
     },
     "metadata": {},
     "output_type": "display_data"
    },
    {
     "data": {
      "application/vnd.jupyter.widget-view+json": {
       "model_id": "4ae8a72ff1ab450e97a93c7fbf6b5b10",
       "version_major": 2,
       "version_minor": 0
      },
      "text/plain": [
       "  0%|          | 0/12 [00:00<?, ?it/s]"
      ]
     },
     "metadata": {},
     "output_type": "display_data"
    },
    {
     "data": {
      "application/vnd.jupyter.widget-view+json": {
       "model_id": "f98a894acf664788a561bc4b7c5fd433",
       "version_major": 2,
       "version_minor": 0
      },
      "text/plain": [
       "  0%|          | 0/3 [00:00<?, ?it/s]"
      ]
     },
     "metadata": {},
     "output_type": "display_data"
    },
    {
     "data": {
      "application/vnd.jupyter.widget-view+json": {
       "model_id": "d78b4835399f4127b3a87e83937a0c1f",
       "version_major": 2,
       "version_minor": 0
      },
      "text/plain": [
       "  0%|          | 0/12 [00:00<?, ?it/s]"
      ]
     },
     "metadata": {},
     "output_type": "display_data"
    },
    {
     "data": {
      "application/vnd.jupyter.widget-view+json": {
       "model_id": "54db6ffeed274d41a15eafc4a9d7c094",
       "version_major": 2,
       "version_minor": 0
      },
      "text/plain": [
       "  0%|          | 0/3 [00:00<?, ?it/s]"
      ]
     },
     "metadata": {},
     "output_type": "display_data"
    },
    {
     "data": {
      "application/vnd.jupyter.widget-view+json": {
       "model_id": "d64593721ac64667a655cfb91b8ed1bd",
       "version_major": 2,
       "version_minor": 0
      },
      "text/plain": [
       "  0%|          | 0/12 [00:00<?, ?it/s]"
      ]
     },
     "metadata": {},
     "output_type": "display_data"
    },
    {
     "data": {
      "application/vnd.jupyter.widget-view+json": {
       "model_id": "80987566c0b4485ea0947979fc051455",
       "version_major": 2,
       "version_minor": 0
      },
      "text/plain": [
       "  0%|          | 0/3 [00:00<?, ?it/s]"
      ]
     },
     "metadata": {},
     "output_type": "display_data"
    },
    {
     "data": {
      "application/vnd.jupyter.widget-view+json": {
       "model_id": "c36021e531174c1ca2216f1e169a11e7",
       "version_major": 2,
       "version_minor": 0
      },
      "text/plain": [
       "  0%|          | 0/12 [00:00<?, ?it/s]"
      ]
     },
     "metadata": {},
     "output_type": "display_data"
    },
    {
     "data": {
      "application/vnd.jupyter.widget-view+json": {
       "model_id": "49da1f346d7640d2bec66d33bfbe89e5",
       "version_major": 2,
       "version_minor": 0
      },
      "text/plain": [
       "  0%|          | 0/3 [00:00<?, ?it/s]"
      ]
     },
     "metadata": {},
     "output_type": "display_data"
    },
    {
     "data": {
      "application/vnd.jupyter.widget-view+json": {
       "model_id": "79f7504d726d41a5ba5cb712657b0624",
       "version_major": 2,
       "version_minor": 0
      },
      "text/plain": [
       "  0%|          | 0/12 [00:00<?, ?it/s]"
      ]
     },
     "metadata": {},
     "output_type": "display_data"
    },
    {
     "data": {
      "application/vnd.jupyter.widget-view+json": {
       "model_id": "f2a90bbf0d55492a8a4f66707f0a65eb",
       "version_major": 2,
       "version_minor": 0
      },
      "text/plain": [
       "  0%|          | 0/3 [00:00<?, ?it/s]"
      ]
     },
     "metadata": {},
     "output_type": "display_data"
    },
    {
     "data": {
      "application/vnd.jupyter.widget-view+json": {
       "model_id": "8eee86352c9441a8b2f6dca8d805fe04",
       "version_major": 2,
       "version_minor": 0
      },
      "text/plain": [
       "  0%|          | 0/12 [00:00<?, ?it/s]"
      ]
     },
     "metadata": {},
     "output_type": "display_data"
    },
    {
     "data": {
      "application/vnd.jupyter.widget-view+json": {
       "model_id": "75c23f0a432d4ac4a274a66a3f9ff69d",
       "version_major": 2,
       "version_minor": 0
      },
      "text/plain": [
       "  0%|          | 0/3 [00:00<?, ?it/s]"
      ]
     },
     "metadata": {},
     "output_type": "display_data"
    },
    {
     "data": {
      "application/vnd.jupyter.widget-view+json": {
       "model_id": "cd1ed4e83ffd4f0bad21630961a8b5b0",
       "version_major": 2,
       "version_minor": 0
      },
      "text/plain": [
       "  0%|          | 0/12 [00:00<?, ?it/s]"
      ]
     },
     "metadata": {},
     "output_type": "display_data"
    },
    {
     "data": {
      "application/vnd.jupyter.widget-view+json": {
       "model_id": "d85f4478750a4256ac17f5ffbc4b4573",
       "version_major": 2,
       "version_minor": 0
      },
      "text/plain": [
       "  0%|          | 0/3 [00:00<?, ?it/s]"
      ]
     },
     "metadata": {},
     "output_type": "display_data"
    },
    {
     "data": {
      "application/vnd.jupyter.widget-view+json": {
       "model_id": "8c5e243651f74fe39ba4e4cd130811d3",
       "version_major": 2,
       "version_minor": 0
      },
      "text/plain": [
       "  0%|          | 0/12 [00:00<?, ?it/s]"
      ]
     },
     "metadata": {},
     "output_type": "display_data"
    },
    {
     "data": {
      "application/vnd.jupyter.widget-view+json": {
       "model_id": "ccc57238eef547168cfb471896a62173",
       "version_major": 2,
       "version_minor": 0
      },
      "text/plain": [
       "  0%|          | 0/3 [00:00<?, ?it/s]"
      ]
     },
     "metadata": {},
     "output_type": "display_data"
    },
    {
     "data": {
      "application/vnd.jupyter.widget-view+json": {
       "model_id": "64d6115020e542729523de9067e13cf5",
       "version_major": 2,
       "version_minor": 0
      },
      "text/plain": [
       "  0%|          | 0/12 [00:00<?, ?it/s]"
      ]
     },
     "metadata": {},
     "output_type": "display_data"
    },
    {
     "data": {
      "application/vnd.jupyter.widget-view+json": {
       "model_id": "3ee5758c8d48415e8e5de88fdc612c35",
       "version_major": 2,
       "version_minor": 0
      },
      "text/plain": [
       "  0%|          | 0/3 [00:00<?, ?it/s]"
      ]
     },
     "metadata": {},
     "output_type": "display_data"
    },
    {
     "data": {
      "application/vnd.jupyter.widget-view+json": {
       "model_id": "f0c34321c99c438da7e9fb273b8a0190",
       "version_major": 2,
       "version_minor": 0
      },
      "text/plain": [
       "  0%|          | 0/12 [00:00<?, ?it/s]"
      ]
     },
     "metadata": {},
     "output_type": "display_data"
    },
    {
     "data": {
      "application/vnd.jupyter.widget-view+json": {
       "model_id": "0aab0cbc011a4cdd9e98d22ff6a28d02",
       "version_major": 2,
       "version_minor": 0
      },
      "text/plain": [
       "  0%|          | 0/3 [00:00<?, ?it/s]"
      ]
     },
     "metadata": {},
     "output_type": "display_data"
    },
    {
     "data": {
      "application/vnd.jupyter.widget-view+json": {
       "model_id": "ee2007e296cf4d548b38d7d9e7690d77",
       "version_major": 2,
       "version_minor": 0
      },
      "text/plain": [
       "  0%|          | 0/12 [00:00<?, ?it/s]"
      ]
     },
     "metadata": {},
     "output_type": "display_data"
    },
    {
     "data": {
      "application/vnd.jupyter.widget-view+json": {
       "model_id": "7a1438aade6348029973437f3a889e89",
       "version_major": 2,
       "version_minor": 0
      },
      "text/plain": [
       "  0%|          | 0/3 [00:00<?, ?it/s]"
      ]
     },
     "metadata": {},
     "output_type": "display_data"
    },
    {
     "data": {
      "application/vnd.jupyter.widget-view+json": {
       "model_id": "8981a62b9acf4491a14f314c757b6a19",
       "version_major": 2,
       "version_minor": 0
      },
      "text/plain": [
       "  0%|          | 0/12 [00:00<?, ?it/s]"
      ]
     },
     "metadata": {},
     "output_type": "display_data"
    },
    {
     "data": {
      "application/vnd.jupyter.widget-view+json": {
       "model_id": "32bcb848fee745278cf32af70373709b",
       "version_major": 2,
       "version_minor": 0
      },
      "text/plain": [
       "  0%|          | 0/3 [00:00<?, ?it/s]"
      ]
     },
     "metadata": {},
     "output_type": "display_data"
    },
    {
     "data": {
      "application/vnd.jupyter.widget-view+json": {
       "model_id": "6b993f3254114710bab3ee5e6d9a4898",
       "version_major": 2,
       "version_minor": 0
      },
      "text/plain": [
       "  0%|          | 0/12 [00:00<?, ?it/s]"
      ]
     },
     "metadata": {},
     "output_type": "display_data"
    },
    {
     "data": {
      "application/vnd.jupyter.widget-view+json": {
       "model_id": "ba0ca81c50c64aeca8a54277dca18947",
       "version_major": 2,
       "version_minor": 0
      },
      "text/plain": [
       "  0%|          | 0/3 [00:00<?, ?it/s]"
      ]
     },
     "metadata": {},
     "output_type": "display_data"
    },
    {
     "data": {
      "application/vnd.jupyter.widget-view+json": {
       "model_id": "5a666bd1094c4024a39de02e8913e3dd",
       "version_major": 2,
       "version_minor": 0
      },
      "text/plain": [
       "  0%|          | 0/12 [00:00<?, ?it/s]"
      ]
     },
     "metadata": {},
     "output_type": "display_data"
    },
    {
     "data": {
      "application/vnd.jupyter.widget-view+json": {
       "model_id": "dc11334fe9af41f1b93429289b168d2f",
       "version_major": 2,
       "version_minor": 0
      },
      "text/plain": [
       "  0%|          | 0/3 [00:00<?, ?it/s]"
      ]
     },
     "metadata": {},
     "output_type": "display_data"
    },
    {
     "name": "stdout",
     "output_type": "stream",
     "text": [
      "Saving the model with best validation accuracy: Epoch 46, Acc: 0.8637 \n"
     ]
    },
    {
     "data": {
      "application/vnd.jupyter.widget-view+json": {
       "model_id": "7f51e278343b45018573ed01df5d13bb",
       "version_major": 2,
       "version_minor": 0
      },
      "text/plain": [
       "  0%|          | 0/12 [00:00<?, ?it/s]"
      ]
     },
     "metadata": {},
     "output_type": "display_data"
    },
    {
     "data": {
      "application/vnd.jupyter.widget-view+json": {
       "model_id": "a671231998f44050831b6da0f2a2ffea",
       "version_major": 2,
       "version_minor": 0
      },
      "text/plain": [
       "  0%|          | 0/3 [00:00<?, ?it/s]"
      ]
     },
     "metadata": {},
     "output_type": "display_data"
    },
    {
     "data": {
      "application/vnd.jupyter.widget-view+json": {
       "model_id": "6eff7ef5abb847e283f72c00245ee889",
       "version_major": 2,
       "version_minor": 0
      },
      "text/plain": [
       "  0%|          | 0/12 [00:00<?, ?it/s]"
      ]
     },
     "metadata": {},
     "output_type": "display_data"
    },
    {
     "data": {
      "application/vnd.jupyter.widget-view+json": {
       "model_id": "2d5b3fcc438141228fad7f07938e32bd",
       "version_major": 2,
       "version_minor": 0
      },
      "text/plain": [
       "  0%|          | 0/3 [00:00<?, ?it/s]"
      ]
     },
     "metadata": {},
     "output_type": "display_data"
    },
    {
     "data": {
      "application/vnd.jupyter.widget-view+json": {
       "model_id": "a5c70881d4aa4047a7fd4e58f815ed57",
       "version_major": 2,
       "version_minor": 0
      },
      "text/plain": [
       "  0%|          | 0/12 [00:00<?, ?it/s]"
      ]
     },
     "metadata": {},
     "output_type": "display_data"
    },
    {
     "data": {
      "application/vnd.jupyter.widget-view+json": {
       "model_id": "9606254e43ca4ec8a71cc2ccff67e184",
       "version_major": 2,
       "version_minor": 0
      },
      "text/plain": [
       "  0%|          | 0/3 [00:00<?, ?it/s]"
      ]
     },
     "metadata": {},
     "output_type": "display_data"
    },
    {
     "data": {
      "application/vnd.jupyter.widget-view+json": {
       "model_id": "f4af8eb058224a6a878e0889889b3e08",
       "version_major": 2,
       "version_minor": 0
      },
      "text/plain": [
       "  0%|          | 0/12 [00:00<?, ?it/s]"
      ]
     },
     "metadata": {},
     "output_type": "display_data"
    },
    {
     "data": {
      "application/vnd.jupyter.widget-view+json": {
       "model_id": "58166fcc504941f2aac1bbe3199b3368",
       "version_major": 2,
       "version_minor": 0
      },
      "text/plain": [
       "  0%|          | 0/3 [00:00<?, ?it/s]"
      ]
     },
     "metadata": {},
     "output_type": "display_data"
    },
    {
     "data": {
      "application/vnd.jupyter.widget-view+json": {
       "model_id": "c3630b51c5214df2a14e0bf859493388",
       "version_major": 2,
       "version_minor": 0
      },
      "text/plain": [
       "  0%|          | 0/12 [00:00<?, ?it/s]"
      ]
     },
     "metadata": {},
     "output_type": "display_data"
    },
    {
     "data": {
      "application/vnd.jupyter.widget-view+json": {
       "model_id": "17619c33631c4bb38a7a45e7ad6af8d3",
       "version_major": 2,
       "version_minor": 0
      },
      "text/plain": [
       "  0%|          | 0/3 [00:00<?, ?it/s]"
      ]
     },
     "metadata": {},
     "output_type": "display_data"
    },
    {
     "data": {
      "application/vnd.jupyter.widget-view+json": {
       "model_id": "5d762395e832465a84d8209b4e825324",
       "version_major": 2,
       "version_minor": 0
      },
      "text/plain": [
       "  0%|          | 0/12 [00:00<?, ?it/s]"
      ]
     },
     "metadata": {},
     "output_type": "display_data"
    },
    {
     "data": {
      "application/vnd.jupyter.widget-view+json": {
       "model_id": "d47d45cc65d9423db5250c57cd344a0e",
       "version_major": 2,
       "version_minor": 0
      },
      "text/plain": [
       "  0%|          | 0/3 [00:00<?, ?it/s]"
      ]
     },
     "metadata": {},
     "output_type": "display_data"
    },
    {
     "data": {
      "application/vnd.jupyter.widget-view+json": {
       "model_id": "d8824fb5d9ae4aba9103a7d6f657e480",
       "version_major": 2,
       "version_minor": 0
      },
      "text/plain": [
       "  0%|          | 0/12 [00:00<?, ?it/s]"
      ]
     },
     "metadata": {},
     "output_type": "display_data"
    },
    {
     "data": {
      "application/vnd.jupyter.widget-view+json": {
       "model_id": "6832aaf602ca4e2e90d8e5dba03e5b3f",
       "version_major": 2,
       "version_minor": 0
      },
      "text/plain": [
       "  0%|          | 0/3 [00:00<?, ?it/s]"
      ]
     },
     "metadata": {},
     "output_type": "display_data"
    },
    {
     "data": {
      "application/vnd.jupyter.widget-view+json": {
       "model_id": "26cdbe4a138643989608ead181d7f505",
       "version_major": 2,
       "version_minor": 0
      },
      "text/plain": [
       "  0%|          | 0/12 [00:00<?, ?it/s]"
      ]
     },
     "metadata": {},
     "output_type": "display_data"
    },
    {
     "data": {
      "application/vnd.jupyter.widget-view+json": {
       "model_id": "f9a4ca3c0180461cb1d42ff23ad2bade",
       "version_major": 2,
       "version_minor": 0
      },
      "text/plain": [
       "  0%|          | 0/3 [00:00<?, ?it/s]"
      ]
     },
     "metadata": {},
     "output_type": "display_data"
    },
    {
     "data": {
      "application/vnd.jupyter.widget-view+json": {
       "model_id": "5068c2b20ac147cab19bcebc3f481288",
       "version_major": 2,
       "version_minor": 0
      },
      "text/plain": [
       "  0%|          | 0/12 [00:00<?, ?it/s]"
      ]
     },
     "metadata": {},
     "output_type": "display_data"
    },
    {
     "data": {
      "application/vnd.jupyter.widget-view+json": {
       "model_id": "3d227b827a2144bfb814f7d872dddf4a",
       "version_major": 2,
       "version_minor": 0
      },
      "text/plain": [
       "  0%|          | 0/3 [00:00<?, ?it/s]"
      ]
     },
     "metadata": {},
     "output_type": "display_data"
    },
    {
     "data": {
      "application/vnd.jupyter.widget-view+json": {
       "model_id": "38ffe5b0a99c421da73600eb0fae284d",
       "version_major": 2,
       "version_minor": 0
      },
      "text/plain": [
       "  0%|          | 0/12 [00:00<?, ?it/s]"
      ]
     },
     "metadata": {},
     "output_type": "display_data"
    },
    {
     "data": {
      "application/vnd.jupyter.widget-view+json": {
       "model_id": "08ba4c72ecc34c309570177aa4e3e883",
       "version_major": 2,
       "version_minor": 0
      },
      "text/plain": [
       "  0%|          | 0/3 [00:00<?, ?it/s]"
      ]
     },
     "metadata": {},
     "output_type": "display_data"
    },
    {
     "data": {
      "application/vnd.jupyter.widget-view+json": {
       "model_id": "45021d3d1fa8493b8a1928f3bf91b8b2",
       "version_major": 2,
       "version_minor": 0
      },
      "text/plain": [
       "  0%|          | 0/12 [00:00<?, ?it/s]"
      ]
     },
     "metadata": {},
     "output_type": "display_data"
    },
    {
     "data": {
      "application/vnd.jupyter.widget-view+json": {
       "model_id": "49f28725dd474dc3bc3e47be4606398e",
       "version_major": 2,
       "version_minor": 0
      },
      "text/plain": [
       "  0%|          | 0/3 [00:00<?, ?it/s]"
      ]
     },
     "metadata": {},
     "output_type": "display_data"
    },
    {
     "data": {
      "application/vnd.jupyter.widget-view+json": {
       "model_id": "f0fa1e9fdfaa4027b37320d1648dcf75",
       "version_major": 2,
       "version_minor": 0
      },
      "text/plain": [
       "  0%|          | 0/12 [00:00<?, ?it/s]"
      ]
     },
     "metadata": {},
     "output_type": "display_data"
    },
    {
     "data": {
      "application/vnd.jupyter.widget-view+json": {
       "model_id": "9281812ca6de4f56a046b03805feca81",
       "version_major": 2,
       "version_minor": 0
      },
      "text/plain": [
       "  0%|          | 0/3 [00:00<?, ?it/s]"
      ]
     },
     "metadata": {},
     "output_type": "display_data"
    },
    {
     "data": {
      "application/vnd.jupyter.widget-view+json": {
       "model_id": "b0b78cec5ece49fbab0fb59c440ef397",
       "version_major": 2,
       "version_minor": 0
      },
      "text/plain": [
       "  0%|          | 0/12 [00:00<?, ?it/s]"
      ]
     },
     "metadata": {},
     "output_type": "display_data"
    },
    {
     "data": {
      "application/vnd.jupyter.widget-view+json": {
       "model_id": "5312ecc99de74d2a89ee00cc44da5a12",
       "version_major": 2,
       "version_minor": 0
      },
      "text/plain": [
       "  0%|          | 0/3 [00:00<?, ?it/s]"
      ]
     },
     "metadata": {},
     "output_type": "display_data"
    },
    {
     "data": {
      "application/vnd.jupyter.widget-view+json": {
       "model_id": "37d43ee9cee142a4bd7615bb0fcbd2b0",
       "version_major": 2,
       "version_minor": 0
      },
      "text/plain": [
       "  0%|          | 0/12 [00:00<?, ?it/s]"
      ]
     },
     "metadata": {},
     "output_type": "display_data"
    },
    {
     "data": {
      "application/vnd.jupyter.widget-view+json": {
       "model_id": "aa3ffb55ee8649ccb4eeaee6cd4d6582",
       "version_major": 2,
       "version_minor": 0
      },
      "text/plain": [
       "  0%|          | 0/3 [00:00<?, ?it/s]"
      ]
     },
     "metadata": {},
     "output_type": "display_data"
    },
    {
     "data": {
      "application/vnd.jupyter.widget-view+json": {
       "model_id": "e7af4e0bb92a4f2b9d657a0c148d69ac",
       "version_major": 2,
       "version_minor": 0
      },
      "text/plain": [
       "  0%|          | 0/12 [00:00<?, ?it/s]"
      ]
     },
     "metadata": {},
     "output_type": "display_data"
    },
    {
     "data": {
      "application/vnd.jupyter.widget-view+json": {
       "model_id": "faa820a50fbf42db88ed7a4529580dac",
       "version_major": 2,
       "version_minor": 0
      },
      "text/plain": [
       "  0%|          | 0/3 [00:00<?, ?it/s]"
      ]
     },
     "metadata": {},
     "output_type": "display_data"
    },
    {
     "name": "stdout",
     "output_type": "stream",
     "text": [
      "Saving the model with best validation accuracy: Epoch 61, Acc: 0.8668 \n"
     ]
    },
    {
     "data": {
      "application/vnd.jupyter.widget-view+json": {
       "model_id": "fd1c65dbc0aa43f0bdb6ef67cddff0a3",
       "version_major": 2,
       "version_minor": 0
      },
      "text/plain": [
       "  0%|          | 0/12 [00:00<?, ?it/s]"
      ]
     },
     "metadata": {},
     "output_type": "display_data"
    },
    {
     "data": {
      "application/vnd.jupyter.widget-view+json": {
       "model_id": "3a9400b0d67e47de9acf29eb999fd324",
       "version_major": 2,
       "version_minor": 0
      },
      "text/plain": [
       "  0%|          | 0/3 [00:00<?, ?it/s]"
      ]
     },
     "metadata": {},
     "output_type": "display_data"
    },
    {
     "data": {
      "application/vnd.jupyter.widget-view+json": {
       "model_id": "e022b39dbfbd4884bd2a28750698b12b",
       "version_major": 2,
       "version_minor": 0
      },
      "text/plain": [
       "  0%|          | 0/12 [00:00<?, ?it/s]"
      ]
     },
     "metadata": {},
     "output_type": "display_data"
    },
    {
     "data": {
      "application/vnd.jupyter.widget-view+json": {
       "model_id": "c5d59304155f45b5a2f0da35887be1ae",
       "version_major": 2,
       "version_minor": 0
      },
      "text/plain": [
       "  0%|          | 0/3 [00:00<?, ?it/s]"
      ]
     },
     "metadata": {},
     "output_type": "display_data"
    },
    {
     "data": {
      "application/vnd.jupyter.widget-view+json": {
       "model_id": "99e0c7234c824279aed14392a6b69d55",
       "version_major": 2,
       "version_minor": 0
      },
      "text/plain": [
       "  0%|          | 0/12 [00:00<?, ?it/s]"
      ]
     },
     "metadata": {},
     "output_type": "display_data"
    },
    {
     "data": {
      "application/vnd.jupyter.widget-view+json": {
       "model_id": "360b20b0a32f4e3384eb6776a4274a72",
       "version_major": 2,
       "version_minor": 0
      },
      "text/plain": [
       "  0%|          | 0/3 [00:00<?, ?it/s]"
      ]
     },
     "metadata": {},
     "output_type": "display_data"
    },
    {
     "data": {
      "application/vnd.jupyter.widget-view+json": {
       "model_id": "ce35a01e51d140648bd87d95b63ec921",
       "version_major": 2,
       "version_minor": 0
      },
      "text/plain": [
       "  0%|          | 0/12 [00:00<?, ?it/s]"
      ]
     },
     "metadata": {},
     "output_type": "display_data"
    },
    {
     "data": {
      "application/vnd.jupyter.widget-view+json": {
       "model_id": "9dcaa1c585b444f699587f01c9017020",
       "version_major": 2,
       "version_minor": 0
      },
      "text/plain": [
       "  0%|          | 0/3 [00:00<?, ?it/s]"
      ]
     },
     "metadata": {},
     "output_type": "display_data"
    },
    {
     "data": {
      "application/vnd.jupyter.widget-view+json": {
       "model_id": "2ecd154189cf4800991f70a41ffcf86b",
       "version_major": 2,
       "version_minor": 0
      },
      "text/plain": [
       "  0%|          | 0/12 [00:00<?, ?it/s]"
      ]
     },
     "metadata": {},
     "output_type": "display_data"
    },
    {
     "data": {
      "application/vnd.jupyter.widget-view+json": {
       "model_id": "0c2107601df2476c86a55ef1b2240809",
       "version_major": 2,
       "version_minor": 0
      },
      "text/plain": [
       "  0%|          | 0/3 [00:00<?, ?it/s]"
      ]
     },
     "metadata": {},
     "output_type": "display_data"
    },
    {
     "name": "stdout",
     "output_type": "stream",
     "text": [
      "Saving the model with best validation accuracy: Epoch 66, Acc: 0.8683 \n"
     ]
    },
    {
     "data": {
      "application/vnd.jupyter.widget-view+json": {
       "model_id": "f9713bcf5d9d4195ac42c8fdac2b6944",
       "version_major": 2,
       "version_minor": 0
      },
      "text/plain": [
       "  0%|          | 0/12 [00:00<?, ?it/s]"
      ]
     },
     "metadata": {},
     "output_type": "display_data"
    },
    {
     "data": {
      "application/vnd.jupyter.widget-view+json": {
       "model_id": "cbf2978c252440f8bda49e32d79e0d51",
       "version_major": 2,
       "version_minor": 0
      },
      "text/plain": [
       "  0%|          | 0/3 [00:00<?, ?it/s]"
      ]
     },
     "metadata": {},
     "output_type": "display_data"
    },
    {
     "data": {
      "application/vnd.jupyter.widget-view+json": {
       "model_id": "c815a1581476431da59b89bfae13d708",
       "version_major": 2,
       "version_minor": 0
      },
      "text/plain": [
       "  0%|          | 0/12 [00:00<?, ?it/s]"
      ]
     },
     "metadata": {},
     "output_type": "display_data"
    },
    {
     "data": {
      "application/vnd.jupyter.widget-view+json": {
       "model_id": "cc3504296b674a5fa2a3f547191ffe6b",
       "version_major": 2,
       "version_minor": 0
      },
      "text/plain": [
       "  0%|          | 0/3 [00:00<?, ?it/s]"
      ]
     },
     "metadata": {},
     "output_type": "display_data"
    },
    {
     "data": {
      "application/vnd.jupyter.widget-view+json": {
       "model_id": "ab439dfdd28841c8835db03ec188101a",
       "version_major": 2,
       "version_minor": 0
      },
      "text/plain": [
       "  0%|          | 0/12 [00:00<?, ?it/s]"
      ]
     },
     "metadata": {},
     "output_type": "display_data"
    },
    {
     "data": {
      "application/vnd.jupyter.widget-view+json": {
       "model_id": "07bc3b5da60e4ea0884ed8507dc6ff22",
       "version_major": 2,
       "version_minor": 0
      },
      "text/plain": [
       "  0%|          | 0/3 [00:00<?, ?it/s]"
      ]
     },
     "metadata": {},
     "output_type": "display_data"
    },
    {
     "data": {
      "application/vnd.jupyter.widget-view+json": {
       "model_id": "0abd3938df4a482881c5212ec0d400b3",
       "version_major": 2,
       "version_minor": 0
      },
      "text/plain": [
       "  0%|          | 0/12 [00:00<?, ?it/s]"
      ]
     },
     "metadata": {},
     "output_type": "display_data"
    },
    {
     "data": {
      "application/vnd.jupyter.widget-view+json": {
       "model_id": "b0f2fea0c60f4bf49865a8d049387a64",
       "version_major": 2,
       "version_minor": 0
      },
      "text/plain": [
       "  0%|          | 0/3 [00:00<?, ?it/s]"
      ]
     },
     "metadata": {},
     "output_type": "display_data"
    },
    {
     "data": {
      "application/vnd.jupyter.widget-view+json": {
       "model_id": "9aaa5cf2fff4491296d0171728dafd48",
       "version_major": 2,
       "version_minor": 0
      },
      "text/plain": [
       "  0%|          | 0/12 [00:00<?, ?it/s]"
      ]
     },
     "metadata": {},
     "output_type": "display_data"
    },
    {
     "data": {
      "application/vnd.jupyter.widget-view+json": {
       "model_id": "563deafd94344c5f828b6be428c49c3e",
       "version_major": 2,
       "version_minor": 0
      },
      "text/plain": [
       "  0%|          | 0/3 [00:00<?, ?it/s]"
      ]
     },
     "metadata": {},
     "output_type": "display_data"
    },
    {
     "name": "stdout",
     "output_type": "stream",
     "text": [
      "Saving the model with best validation accuracy: Epoch 71, Acc: 0.8698 \n"
     ]
    },
    {
     "data": {
      "application/vnd.jupyter.widget-view+json": {
       "model_id": "cc4fb7d1554c4d59b4a11d2a7abefdbb",
       "version_major": 2,
       "version_minor": 0
      },
      "text/plain": [
       "  0%|          | 0/12 [00:00<?, ?it/s]"
      ]
     },
     "metadata": {},
     "output_type": "display_data"
    },
    {
     "data": {
      "application/vnd.jupyter.widget-view+json": {
       "model_id": "64414250261c4ff29846369efd17118b",
       "version_major": 2,
       "version_minor": 0
      },
      "text/plain": [
       "  0%|          | 0/3 [00:00<?, ?it/s]"
      ]
     },
     "metadata": {},
     "output_type": "display_data"
    },
    {
     "data": {
      "application/vnd.jupyter.widget-view+json": {
       "model_id": "dd3c17c9978444f6be9faacbcd7b63cc",
       "version_major": 2,
       "version_minor": 0
      },
      "text/plain": [
       "  0%|          | 0/12 [00:00<?, ?it/s]"
      ]
     },
     "metadata": {},
     "output_type": "display_data"
    },
    {
     "data": {
      "application/vnd.jupyter.widget-view+json": {
       "model_id": "28ecb84098a645209b44d7bf366167e1",
       "version_major": 2,
       "version_minor": 0
      },
      "text/plain": [
       "  0%|          | 0/3 [00:00<?, ?it/s]"
      ]
     },
     "metadata": {},
     "output_type": "display_data"
    },
    {
     "data": {
      "application/vnd.jupyter.widget-view+json": {
       "model_id": "d0ee31c098c746799173e4ad88bfb3c4",
       "version_major": 2,
       "version_minor": 0
      },
      "text/plain": [
       "  0%|          | 0/12 [00:00<?, ?it/s]"
      ]
     },
     "metadata": {},
     "output_type": "display_data"
    },
    {
     "data": {
      "application/vnd.jupyter.widget-view+json": {
       "model_id": "2adaf535f7d549ec867e6df394b0e66f",
       "version_major": 2,
       "version_minor": 0
      },
      "text/plain": [
       "  0%|          | 0/3 [00:00<?, ?it/s]"
      ]
     },
     "metadata": {},
     "output_type": "display_data"
    },
    {
     "data": {
      "application/vnd.jupyter.widget-view+json": {
       "model_id": "0e220a6417034446a3cfa4b7c4a0075e",
       "version_major": 2,
       "version_minor": 0
      },
      "text/plain": [
       "  0%|          | 0/12 [00:00<?, ?it/s]"
      ]
     },
     "metadata": {},
     "output_type": "display_data"
    },
    {
     "data": {
      "application/vnd.jupyter.widget-view+json": {
       "model_id": "793c0a1a274c4ddc9606254d6c6eb9f1",
       "version_major": 2,
       "version_minor": 0
      },
      "text/plain": [
       "  0%|          | 0/3 [00:00<?, ?it/s]"
      ]
     },
     "metadata": {},
     "output_type": "display_data"
    },
    {
     "name": "stdout",
     "output_type": "stream",
     "text": [
      "Saving the model with best validation accuracy: Epoch 75, Acc: 0.8760 \n"
     ]
    },
    {
     "data": {
      "application/vnd.jupyter.widget-view+json": {
       "model_id": "1d7040f7bc3f4e09b7e35e30e0e29b54",
       "version_major": 2,
       "version_minor": 0
      },
      "text/plain": [
       "  0%|          | 0/12 [00:00<?, ?it/s]"
      ]
     },
     "metadata": {},
     "output_type": "display_data"
    },
    {
     "data": {
      "application/vnd.jupyter.widget-view+json": {
       "model_id": "18e4549f8c974e8b882dc616d0362f22",
       "version_major": 2,
       "version_minor": 0
      },
      "text/plain": [
       "  0%|          | 0/3 [00:00<?, ?it/s]"
      ]
     },
     "metadata": {},
     "output_type": "display_data"
    },
    {
     "data": {
      "application/vnd.jupyter.widget-view+json": {
       "model_id": "ce1a99da6f724268adfff584fb6689d4",
       "version_major": 2,
       "version_minor": 0
      },
      "text/plain": [
       "  0%|          | 0/12 [00:00<?, ?it/s]"
      ]
     },
     "metadata": {},
     "output_type": "display_data"
    },
    {
     "data": {
      "application/vnd.jupyter.widget-view+json": {
       "model_id": "11992eb5c27d4f77a3c8b7a8fa9e1e95",
       "version_major": 2,
       "version_minor": 0
      },
      "text/plain": [
       "  0%|          | 0/3 [00:00<?, ?it/s]"
      ]
     },
     "metadata": {},
     "output_type": "display_data"
    },
    {
     "name": "stdout",
     "output_type": "stream",
     "text": [
      "Saving the model with best validation accuracy: Epoch 77, Acc: 0.8806 \n"
     ]
    },
    {
     "data": {
      "application/vnd.jupyter.widget-view+json": {
       "model_id": "3efce1b194724c5c8809a07556566347",
       "version_major": 2,
       "version_minor": 0
      },
      "text/plain": [
       "  0%|          | 0/12 [00:00<?, ?it/s]"
      ]
     },
     "metadata": {},
     "output_type": "display_data"
    },
    {
     "data": {
      "application/vnd.jupyter.widget-view+json": {
       "model_id": "c301793cfe0d4ed4b6ce61e75ccadb71",
       "version_major": 2,
       "version_minor": 0
      },
      "text/plain": [
       "  0%|          | 0/3 [00:00<?, ?it/s]"
      ]
     },
     "metadata": {},
     "output_type": "display_data"
    },
    {
     "data": {
      "application/vnd.jupyter.widget-view+json": {
       "model_id": "7748964d9f62406fa2f0c833c9757936",
       "version_major": 2,
       "version_minor": 0
      },
      "text/plain": [
       "  0%|          | 0/12 [00:00<?, ?it/s]"
      ]
     },
     "metadata": {},
     "output_type": "display_data"
    },
    {
     "data": {
      "application/vnd.jupyter.widget-view+json": {
       "model_id": "bf1d35dd9e8345ac99d95e1f3eadf646",
       "version_major": 2,
       "version_minor": 0
      },
      "text/plain": [
       "  0%|          | 0/3 [00:00<?, ?it/s]"
      ]
     },
     "metadata": {},
     "output_type": "display_data"
    },
    {
     "data": {
      "application/vnd.jupyter.widget-view+json": {
       "model_id": "e6f66529e0464ebfbad134f869e4bf16",
       "version_major": 2,
       "version_minor": 0
      },
      "text/plain": [
       "  0%|          | 0/12 [00:00<?, ?it/s]"
      ]
     },
     "metadata": {},
     "output_type": "display_data"
    },
    {
     "data": {
      "application/vnd.jupyter.widget-view+json": {
       "model_id": "13eb1a22d570423690fe2b955f6f7e38",
       "version_major": 2,
       "version_minor": 0
      },
      "text/plain": [
       "  0%|          | 0/3 [00:00<?, ?it/s]"
      ]
     },
     "metadata": {},
     "output_type": "display_data"
    },
    {
     "data": {
      "application/vnd.jupyter.widget-view+json": {
       "model_id": "153dbbbb047d436694d938a388fa6d65",
       "version_major": 2,
       "version_minor": 0
      },
      "text/plain": [
       "  0%|          | 0/12 [00:00<?, ?it/s]"
      ]
     },
     "metadata": {},
     "output_type": "display_data"
    },
    {
     "data": {
      "application/vnd.jupyter.widget-view+json": {
       "model_id": "4f5a8d34bf9c41f7b9de009141b4fe2b",
       "version_major": 2,
       "version_minor": 0
      },
      "text/plain": [
       "  0%|          | 0/3 [00:00<?, ?it/s]"
      ]
     },
     "metadata": {},
     "output_type": "display_data"
    },
    {
     "data": {
      "application/vnd.jupyter.widget-view+json": {
       "model_id": "630c2769b11d4e5fa09944cffdcec843",
       "version_major": 2,
       "version_minor": 0
      },
      "text/plain": [
       "  0%|          | 0/12 [00:00<?, ?it/s]"
      ]
     },
     "metadata": {},
     "output_type": "display_data"
    },
    {
     "data": {
      "application/vnd.jupyter.widget-view+json": {
       "model_id": "5dcc363c33084578a01aaea22bb255a5",
       "version_major": 2,
       "version_minor": 0
      },
      "text/plain": [
       "  0%|          | 0/3 [00:00<?, ?it/s]"
      ]
     },
     "metadata": {},
     "output_type": "display_data"
    },
    {
     "data": {
      "application/vnd.jupyter.widget-view+json": {
       "model_id": "df5035d58af340ab8a040630d9ff1f4b",
       "version_major": 2,
       "version_minor": 0
      },
      "text/plain": [
       "  0%|          | 0/12 [00:00<?, ?it/s]"
      ]
     },
     "metadata": {},
     "output_type": "display_data"
    },
    {
     "data": {
      "application/vnd.jupyter.widget-view+json": {
       "model_id": "0f4133c0a39a4452bea9ccd5893d54de",
       "version_major": 2,
       "version_minor": 0
      },
      "text/plain": [
       "  0%|          | 0/3 [00:00<?, ?it/s]"
      ]
     },
     "metadata": {},
     "output_type": "display_data"
    },
    {
     "data": {
      "application/vnd.jupyter.widget-view+json": {
       "model_id": "e2028b448a9d4027b7bf660ca251d9ac",
       "version_major": 2,
       "version_minor": 0
      },
      "text/plain": [
       "  0%|          | 0/12 [00:00<?, ?it/s]"
      ]
     },
     "metadata": {},
     "output_type": "display_data"
    },
    {
     "data": {
      "application/vnd.jupyter.widget-view+json": {
       "model_id": "ffaab8febca14fb79a618e1d83511077",
       "version_major": 2,
       "version_minor": 0
      },
      "text/plain": [
       "  0%|          | 0/3 [00:00<?, ?it/s]"
      ]
     },
     "metadata": {},
     "output_type": "display_data"
    },
    {
     "data": {
      "application/vnd.jupyter.widget-view+json": {
       "model_id": "825f1650a1ca4965b5b1ce76c752e99e",
       "version_major": 2,
       "version_minor": 0
      },
      "text/plain": [
       "  0%|          | 0/12 [00:00<?, ?it/s]"
      ]
     },
     "metadata": {},
     "output_type": "display_data"
    },
    {
     "data": {
      "application/vnd.jupyter.widget-view+json": {
       "model_id": "ae893fa18f754f60b2b59d01f4103fe0",
       "version_major": 2,
       "version_minor": 0
      },
      "text/plain": [
       "  0%|          | 0/3 [00:00<?, ?it/s]"
      ]
     },
     "metadata": {},
     "output_type": "display_data"
    },
    {
     "data": {
      "application/vnd.jupyter.widget-view+json": {
       "model_id": "7fb7f410662a42e7b2ccb94b67aafbbe",
       "version_major": 2,
       "version_minor": 0
      },
      "text/plain": [
       "  0%|          | 0/12 [00:00<?, ?it/s]"
      ]
     },
     "metadata": {},
     "output_type": "display_data"
    },
    {
     "data": {
      "application/vnd.jupyter.widget-view+json": {
       "model_id": "de17718a82c04b55a502404e77ea5dc0",
       "version_major": 2,
       "version_minor": 0
      },
      "text/plain": [
       "  0%|          | 0/3 [00:00<?, ?it/s]"
      ]
     },
     "metadata": {},
     "output_type": "display_data"
    },
    {
     "data": {
      "application/vnd.jupyter.widget-view+json": {
       "model_id": "5c2fc81e300a428db0519f2f1e4ec3cb",
       "version_major": 2,
       "version_minor": 0
      },
      "text/plain": [
       "  0%|          | 0/12 [00:00<?, ?it/s]"
      ]
     },
     "metadata": {},
     "output_type": "display_data"
    },
    {
     "data": {
      "application/vnd.jupyter.widget-view+json": {
       "model_id": "5b2ebd3535574789a36c64f2ca68ba11",
       "version_major": 2,
       "version_minor": 0
      },
      "text/plain": [
       "  0%|          | 0/3 [00:00<?, ?it/s]"
      ]
     },
     "metadata": {},
     "output_type": "display_data"
    },
    {
     "data": {
      "application/vnd.jupyter.widget-view+json": {
       "model_id": "fc2c5ff2e5494847bf973bef2fcdcf24",
       "version_major": 2,
       "version_minor": 0
      },
      "text/plain": [
       "  0%|          | 0/12 [00:00<?, ?it/s]"
      ]
     },
     "metadata": {},
     "output_type": "display_data"
    },
    {
     "data": {
      "application/vnd.jupyter.widget-view+json": {
       "model_id": "05c9791d82934a318c1e7f1d88f8ec2b",
       "version_major": 2,
       "version_minor": 0
      },
      "text/plain": [
       "  0%|          | 0/3 [00:00<?, ?it/s]"
      ]
     },
     "metadata": {},
     "output_type": "display_data"
    },
    {
     "data": {
      "application/vnd.jupyter.widget-view+json": {
       "model_id": "528c714ba4fb4e98952d281aa304da9e",
       "version_major": 2,
       "version_minor": 0
      },
      "text/plain": [
       "  0%|          | 0/12 [00:00<?, ?it/s]"
      ]
     },
     "metadata": {},
     "output_type": "display_data"
    },
    {
     "data": {
      "application/vnd.jupyter.widget-view+json": {
       "model_id": "6dac32be673d40fa989942c7a86f9d52",
       "version_major": 2,
       "version_minor": 0
      },
      "text/plain": [
       "  0%|          | 0/3 [00:00<?, ?it/s]"
      ]
     },
     "metadata": {},
     "output_type": "display_data"
    },
    {
     "data": {
      "application/vnd.jupyter.widget-view+json": {
       "model_id": "25bdbf167b814c3999f99dc2d248bd63",
       "version_major": 2,
       "version_minor": 0
      },
      "text/plain": [
       "  0%|          | 0/12 [00:00<?, ?it/s]"
      ]
     },
     "metadata": {},
     "output_type": "display_data"
    },
    {
     "data": {
      "application/vnd.jupyter.widget-view+json": {
       "model_id": "d9bf86c288e94fb5a5a82eaae63b84ae",
       "version_major": 2,
       "version_minor": 0
      },
      "text/plain": [
       "  0%|          | 0/3 [00:00<?, ?it/s]"
      ]
     },
     "metadata": {},
     "output_type": "display_data"
    },
    {
     "data": {
      "application/vnd.jupyter.widget-view+json": {
       "model_id": "d8f10886426d4c5baecb541bc0282b31",
       "version_major": 2,
       "version_minor": 0
      },
      "text/plain": [
       "  0%|          | 0/12 [00:00<?, ?it/s]"
      ]
     },
     "metadata": {},
     "output_type": "display_data"
    },
    {
     "data": {
      "application/vnd.jupyter.widget-view+json": {
       "model_id": "78d1039aa70b4f8bb95dabc02752cb60",
       "version_major": 2,
       "version_minor": 0
      },
      "text/plain": [
       "  0%|          | 0/3 [00:00<?, ?it/s]"
      ]
     },
     "metadata": {},
     "output_type": "display_data"
    },
    {
     "data": {
      "application/vnd.jupyter.widget-view+json": {
       "model_id": "334cf93fa986491b968d2ca809ca4e52",
       "version_major": 2,
       "version_minor": 0
      },
      "text/plain": [
       "  0%|          | 0/12 [00:00<?, ?it/s]"
      ]
     },
     "metadata": {},
     "output_type": "display_data"
    },
    {
     "data": {
      "application/vnd.jupyter.widget-view+json": {
       "model_id": "c995ac08c04840089d1a1790bf0c3062",
       "version_major": 2,
       "version_minor": 0
      },
      "text/plain": [
       "  0%|          | 0/3 [00:00<?, ?it/s]"
      ]
     },
     "metadata": {},
     "output_type": "display_data"
    },
    {
     "data": {
      "application/vnd.jupyter.widget-view+json": {
       "model_id": "3d743d598fa1464a992c7df7353210cc",
       "version_major": 2,
       "version_minor": 0
      },
      "text/plain": [
       "  0%|          | 0/12 [00:00<?, ?it/s]"
      ]
     },
     "metadata": {},
     "output_type": "display_data"
    },
    {
     "data": {
      "application/vnd.jupyter.widget-view+json": {
       "model_id": "2a3671fc3a724f91bca24f9e9c76670e",
       "version_major": 2,
       "version_minor": 0
      },
      "text/plain": [
       "  0%|          | 0/3 [00:00<?, ?it/s]"
      ]
     },
     "metadata": {},
     "output_type": "display_data"
    },
    {
     "data": {
      "application/vnd.jupyter.widget-view+json": {
       "model_id": "25bce95e4bd74d88ac5f32f0eb938463",
       "version_major": 2,
       "version_minor": 0
      },
      "text/plain": [
       "  0%|          | 0/12 [00:00<?, ?it/s]"
      ]
     },
     "metadata": {},
     "output_type": "display_data"
    },
    {
     "data": {
      "application/vnd.jupyter.widget-view+json": {
       "model_id": "a7c2be51287d4615a630450c20aad651",
       "version_major": 2,
       "version_minor": 0
      },
      "text/plain": [
       "  0%|          | 0/3 [00:00<?, ?it/s]"
      ]
     },
     "metadata": {},
     "output_type": "display_data"
    },
    {
     "data": {
      "application/vnd.jupyter.widget-view+json": {
       "model_id": "7e48305d9d354c0ba52a93616543ae60",
       "version_major": 2,
       "version_minor": 0
      },
      "text/plain": [
       "  0%|          | 0/12 [00:00<?, ?it/s]"
      ]
     },
     "metadata": {},
     "output_type": "display_data"
    },
    {
     "data": {
      "application/vnd.jupyter.widget-view+json": {
       "model_id": "c5d83ad0761949c39a4d642733189818",
       "version_major": 2,
       "version_minor": 0
      },
      "text/plain": [
       "  0%|          | 0/3 [00:00<?, ?it/s]"
      ]
     },
     "metadata": {},
     "output_type": "display_data"
    },
    {
     "data": {
      "application/vnd.jupyter.widget-view+json": {
       "model_id": "ba53b6be94b3460a8f01f6e9a37f162b",
       "version_major": 2,
       "version_minor": 0
      },
      "text/plain": [
       "  0%|          | 0/12 [00:00<?, ?it/s]"
      ]
     },
     "metadata": {},
     "output_type": "display_data"
    },
    {
     "data": {
      "application/vnd.jupyter.widget-view+json": {
       "model_id": "0a3b49eff98741b9bb2b97d7b1c8f4ba",
       "version_major": 2,
       "version_minor": 0
      },
      "text/plain": [
       "  0%|          | 0/3 [00:00<?, ?it/s]"
      ]
     },
     "metadata": {},
     "output_type": "display_data"
    },
    {
     "data": {
      "application/vnd.jupyter.widget-view+json": {
       "model_id": "5a741f0c48b045978116f710096c1836",
       "version_major": 2,
       "version_minor": 0
      },
      "text/plain": [
       "  0%|          | 0/12 [00:00<?, ?it/s]"
      ]
     },
     "metadata": {},
     "output_type": "display_data"
    },
    {
     "data": {
      "application/vnd.jupyter.widget-view+json": {
       "model_id": "c7bc12d82c6c455f813574466a2f6cd3",
       "version_major": 2,
       "version_minor": 0
      },
      "text/plain": [
       "  0%|          | 0/3 [00:00<?, ?it/s]"
      ]
     },
     "metadata": {},
     "output_type": "display_data"
    },
    {
     "data": {
      "application/vnd.jupyter.widget-view+json": {
       "model_id": "59f638f5f9f84147bd3e5aac0a7af406",
       "version_major": 2,
       "version_minor": 0
      },
      "text/plain": [
       "  0%|          | 0/12 [00:00<?, ?it/s]"
      ]
     },
     "metadata": {},
     "output_type": "display_data"
    },
    {
     "data": {
      "application/vnd.jupyter.widget-view+json": {
       "model_id": "d214efdf83174759a79fc31322c65ba2",
       "version_major": 2,
       "version_minor": 0
      },
      "text/plain": [
       "  0%|          | 0/3 [00:00<?, ?it/s]"
      ]
     },
     "metadata": {},
     "output_type": "display_data"
    },
    {
     "data": {
      "application/vnd.jupyter.widget-view+json": {
       "model_id": "6eb4057e2ab1450eb4855b7ce6dd6b55",
       "version_major": 2,
       "version_minor": 0
      },
      "text/plain": [
       "  0%|          | 0/12 [00:00<?, ?it/s]"
      ]
     },
     "metadata": {},
     "output_type": "display_data"
    },
    {
     "data": {
      "application/vnd.jupyter.widget-view+json": {
       "model_id": "28536dac7a834ea18c5ec406828669df",
       "version_major": 2,
       "version_minor": 0
      },
      "text/plain": [
       "  0%|          | 0/3 [00:00<?, ?it/s]"
      ]
     },
     "metadata": {},
     "output_type": "display_data"
    },
    {
     "data": {
      "application/vnd.jupyter.widget-view+json": {
       "model_id": "deb4d7a233c143f8b6a7f6b6f7628a36",
       "version_major": 2,
       "version_minor": 0
      },
      "text/plain": [
       "  0%|          | 0/12 [00:00<?, ?it/s]"
      ]
     },
     "metadata": {},
     "output_type": "display_data"
    },
    {
     "data": {
      "application/vnd.jupyter.widget-view+json": {
       "model_id": "c43c2b46c7cf4543b49b6e30be6b8b2a",
       "version_major": 2,
       "version_minor": 0
      },
      "text/plain": [
       "  0%|          | 0/3 [00:00<?, ?it/s]"
      ]
     },
     "metadata": {},
     "output_type": "display_data"
    }
   ],
   "source": [
    "optimizer = torch.optim.Adam(model.parameters(), lr=1e-3)\n",
    "trainer = Trainer(model, optimizer, get_nll_loss, train_loader, valid_loader, 'cuda')\n",
    "trainer.train_by_num_epoch(100)"
   ]
  },
  {
   "cell_type": "code",
   "execution_count": null,
   "metadata": {},
   "outputs": [],
   "source": [
    "trainer.train_by_num_epoch(30)"
   ]
  },
  {
   "cell_type": "code",
   "execution_count": 66,
   "metadata": {},
   "outputs": [
    {
     "name": "stderr",
     "output_type": "stream",
     "text": [
      "/usr/local/lib/python3.8/dist-packages/torch/nn/modules/rnn.py:62: UserWarning: dropout option adds dropout after all but last recurrent layer, so non-zero dropout expects num_layers greater than 1, but got dropout=0.2 and num_layers=1\n",
      "  warnings.warn(\"dropout option adds dropout after all but last \"\n"
     ]
    },
    {
     "data": {
      "text/plain": [
       "'임 ^ \\n - , 노 \\n 중 )'"
      ]
     },
     "execution_count": 66,
     "metadata": {},
     "output_type": "execute_result"
    }
   ],
   "source": [
    "\n",
    "\n",
    "model = OMRModel(128, vocab_size=len(dataset.tokenizer.vocab))\n",
    "model.load_state_dict(torch.load('nmt_model_best.pt')['model'])\n",
    "tokenizer = dataset.tokenizer\n"
   ]
  },
  {
   "cell_type": "code",
   "execution_count": 86,
   "metadata": {},
   "outputs": [
    {
     "data": {
      "image/png": "[encoded data removed]",
      "text/plain": [
       "<Figure size 1440x1440 with 20 Axes>"
      ]
     },
     "metadata": {
      "needs_background": "light"
     },
     "output_type": "display_data"
    }
   ],
   "source": [
    "import koreanize_matplotlib\n",
    "\n",
    "test_img, test_label, _ = next(iter(test_loader))\n",
    "\n",
    "\n",
    "plt.figure(figsize=(20, 20))\n",
    "for idx in range(20):\n",
    "  plt.subplot(4, 5, idx+1)\n",
    "  plt.imshow(test_img[idx].squeeze().cpu().numpy(), cmap='gray')\n",
    "  output = tokenizer.decode(model.inference(test_img[idx:idx+1]))\n",
    "  plt.title(output)\n",
    "# test_img = test_img[idx:idx+1]\n",
    "# plt.imshow(test_img.squeeze().cpu().numpy(), cmap='gray')\n",
    "# tokenizer.decode(model.inference(test_img))"
   ]
  },
  {
   "cell_type": "code",
   "execution_count": 161,
   "metadata": {},
   "outputs": [
    {
     "data": {
      "text/plain": [
       "torch.Size([32, 10, 15])"
      ]
     },
     "execution_count": 161,
     "metadata": {},
     "output_type": "execute_result"
    }
   ],
   "source": [
    "out[1].shape"
   ]
  },
  {
   "cell_type": "code",
   "execution_count": 149,
   "metadata": {},
   "outputs": [
    {
     "data": {
      "text/plain": [
       "114"
      ]
     },
     "execution_count": 149,
     "metadata": {},
     "output_type": "execute_result"
    }
   ],
   "source": [
    "len(tokenizer.vocab)"
   ]
  },
  {
   "cell_type": "code",
   "execution_count": 61,
   "metadata": {},
   "outputs": [],
   "source": [
    "beat_data = {\n",
    "  \"CONTI\": 212169556,\n",
    "  \"Beat_0\": 5583647,\n",
    "  \"Beat_24\": 4881598,\n",
    "  \"Beat_48\": 4622496,\n",
    "  \"Beat_36\": 3906066,\n",
    "  \"Beat_12\": 3556798,\n",
    "  \"Beat_72\": 3451511,\n",
    "  \"Beat_60\": 3304495,\n",
    "  \"Beat_84\": 2610855,\n",
    "  \"Beat_18\": 1628296,\n",
    "  \"Beat_42\": 1505594,\n",
    "  \"Beat_30\": 1316891,\n",
    "  \"Beat_6\": 1257268,\n",
    "  \"Beat_66\": 1256408,\n",
    "  \"Beat_54\": 1173768,\n",
    "  \"Beat_90\": 1060454,\n",
    "  \"Beat_78\": 918478,\n",
    "  \"Beat_3\": 407912,\n",
    "  \"Beat_32\": 398408,\n",
    "  \"Beat_27\": 377336,\n",
    "  \"Beat_80\": 377333,\n",
    "  \"Beat_40\": 375687,\n",
    "  \"Beat_16\": 375410,\n",
    "  \"Beat_56\": 367981,\n",
    "  \"Beat_64\": 358478,\n",
    "  \"Beat_9\": 344600,\n",
    "  \"Beat_21\": 340496,\n",
    "  \"Beat_45\": 339248,\n",
    "  \"Beat_39\": 331842,\n",
    "  \"Beat_15\": 331254,\n",
    "  \"Beat_33\": 325980,\n",
    "  \"Beat_51\": 322220,\n",
    "  \"Beat_88\": 297531,\n",
    "  \"Beat_8\": 279619,\n",
    "  \"Beat_63\": 241304,\n",
    "  \"Beat_69\": 240925,\n",
    "  \"Beat_68\": 225544,\n",
    "  \"Beat_75\": 224415,\n",
    "  \"Beat_62\": 221215,\n",
    "  \"Beat_57\": 221140,\n",
    "  \"0\": 219895,\n",
    "  \"Beat_93\": 210042,\n",
    "  \"Beat_96\": 208814,\n",
    "  \"Beat_87\": 205708,\n",
    "  \"Beat_81\": 203494,\n",
    "  \"Beat_86\": 193551,\n",
    "  \"Beat_92\": 175828,\n",
    "  \"Beat_65\": 160676,\n",
    "  \"Beat_38\": 159217,\n",
    "  \"Beat_44\": 155677,\n",
    "  \"Beat_108\": 149121,\n",
    "  \"Beat_20\": 143004,\n",
    "  \"Beat_4\": 141009,\n",
    "  \"Beat_74\": 135743,\n",
    "  \"Beat_120\": 133632,\n",
    "  \"Beat_89\": 133229,\n",
    "  \"Beat_2\": 125770,\n",
    "  \"Beat_14\": 125103,\n",
    "  \"Beat_77\": 124371,\n",
    "  \"Beat_71\": 122703,\n",
    "  \"Beat_50\": 118322,\n",
    "  \"Beat_1\": 117779,\n",
    "  \"Beat_83\": 115479,\n",
    "  \"Beat_52\": 115161,\n",
    "  \"Beat_132\": 114791,\n",
    "  \"Beat_28\": 107023,\n",
    "  \"Beat_26\": 94203,\n",
    "  \"Beat_76\": 93548,\n",
    "  \"Beat_49\": 87607,\n",
    "  \"Beat_25\": 83008,\n",
    "  \"Beat_37\": 70893,\n",
    "  \"Beat_10\": 68280,\n",
    "  \"Beat_13\": 66471,\n",
    "  \"Beat_53\": 66354,\n",
    "  \"Beat_58\": 64695,\n",
    "  \"Beat_73\": 63473,\n",
    "  \"Beat_46\": 61832,\n",
    "  \"Beat_59\": 60061,\n",
    "  \"Beat_43\": 59487,\n",
    "  \"Beat_35\": 59347,\n",
    "  \"Beat_19\": 59118,\n",
    "  \"Beat_7\": 58761,\n",
    "  \"Beat_22\": 56667,\n",
    "  \"Beat_41\": 56290,\n",
    "  \"Beat_34\": 55510,\n",
    "  \"Beat_82\": 55489,\n",
    "  \"Beat_55\": 49424,\n",
    "  \"Beat_85\": 46249,\n",
    "  \"Beat_91\": 45130,\n",
    "  \"Beat_70\": 45111,\n",
    "  \"Beat_94\": 44892,\n",
    "  \"Beat_47\": 44766,\n",
    "  \"Beat_61\": 44227,\n",
    "  \"Beat_102\": 41087,\n",
    "  \"Beat_79\": 40652,\n",
    "  \"Beat_29\": 40207,\n",
    "  \"Beat_31\": 40170,\n",
    "  \"Beat_67\": 40044,\n",
    "  \"Beat_5\": 39332,\n",
    "  \"Beat_17\": 37164,\n",
    "  \"Beat_114\": 34961,\n",
    "  \"Beat_23\": 28952,\n",
    "  \"Beat_126\": 28790,\n",
    "  \"Beat_138\": 28043,\n",
    "  \"Beat_11\": 18731,\n",
    "  \"Beat_144\": 18085,\n",
    "  \"Beat_104\": 16959,\n",
    "  \"Beat_112\": 15720,\n",
    "  \"Beat_95\": 14708,\n",
    "  \"Beat_99\": 14601,\n",
    "  \"Beat_105\": 12004,\n",
    "  \"Beat_117\": 11641,\n",
    "  \"Beat_135\": 11309,\n",
    "  \"Beat_156\": 11046,\n",
    "  \"Beat_111\": 11038,\n",
    "  \"Beat_128\": 11002,\n",
    "  \"Beat_136\": 8900,\n",
    "  \"Beat_124\": 8314,\n",
    "  \"Beat_100\": 8289,\n",
    "  \"Beat_123\": 8250,\n",
    "  \"Beat_141\": 7827,\n",
    "  \"Beat_129\": 7783,\n",
    "  \"Beat_168\": 7609,\n",
    "  \"Beat_98\": 7098,\n",
    "  \"Beat_118\": 7013,\n",
    "  \"Beat_116\": 6928,\n",
    "  \"Beat_140\": 6761,\n",
    "  \"Beat_130\": 6711,\n",
    "  \"Beat_115\": 6186,\n",
    "  \"Beat_107\": 6000,\n",
    "  \"Beat_101\": 5860,\n",
    "  \"Beat_110\": 5699,\n",
    "  \"Beat_109\": 5360,\n",
    "  \"Beat_134\": 5144,\n",
    "  \"Beat_106\": 5073,\n",
    "  \"Beat_121\": 4608,\n",
    "  \"Beat_127\": 4449,\n",
    "  \"Beat_180\": 4185,\n",
    "  \"Beat_137\": 3752,\n",
    "  \"Beat_113\": 3727,\n",
    "  \"Beat_122\": 3659,\n",
    "  \"Beat_162\": 3479,\n",
    "  \"Beat_150\": 3442,\n",
    "  \"Beat_125\": 3212,\n",
    "  \"Beat_131\": 3070,\n",
    "  \"Beat_97\": 2904,\n",
    "  \"Beat_103\": 2895,\n",
    "  \"Beat_142\": 2326,\n",
    "  \"Beat_119\": 2249,\n",
    "  \"Beat_139\": 1850,\n",
    "  \"Beat_133\": 1694,\n",
    "  \"Beat_192\": 1645,\n",
    "  \"Beat_174\": 1311,\n",
    "  \"Beat_186\": 1152,\n",
    "  \"Beat_160\": 1022,\n",
    "  \"Beat_204\": 1004,\n",
    "  \"Beat_152\": 970,\n",
    "  \"Beat_143\": 894,\n",
    "  \"Beat_147\": 892,\n",
    "  \"Beat_158\": 779,\n",
    "  \"Beat_176\": 761,\n",
    "  \"Beat_159\": 759,\n",
    "  \"Beat_153\": 751,\n",
    "  \"Beat_165\": 718,\n",
    "  \"Beat_240\": 710,\n",
    "  \"Beat_164\": 651,\n",
    "  \"Beat_216\": 511,\n",
    "  \"Beat_198\": 474,\n",
    "  \"Beat_161\": 463,\n",
    "  \"Beat_148\": 451,\n",
    "  \"Beat_154\": 440,\n",
    "  \"Beat_146\": 432,\n",
    "  \"Beat_171\": 354,\n",
    "  \"Beat_184\": 353,\n",
    "  \"Beat_264\": 324,\n",
    "  \"Beat_252\": 318,\n",
    "  \"Beat_182\": 316,\n",
    "  \"Beat_177\": 304,\n",
    "  \"Beat_166\": 297,\n",
    "  \"Beat_210\": 287,\n",
    "  \"Beat_228\": 285,\n",
    "  \"Beat_149\": 268,\n",
    "  \"Beat_183\": 266,\n",
    "  \"Beat_157\": 263,\n",
    "  \"Beat_189\": 256,\n",
    "  \"Beat_155\": 243,\n",
    "  \"Beat_151\": 238,\n",
    "  \"Beat_179\": 236,\n",
    "  \"Beat_167\": 235,\n",
    "  \"Beat_173\": 224,\n",
    "  \"Beat_185\": 206,\n",
    "  \"Beat_170\": 195,\n",
    "  \"Beat_145\": 193,\n",
    "  \"Beat_246\": 187,\n",
    "  \"Beat_188\": 182,\n",
    "  \"Beat_163\": 131,\n",
    "  \"Beat_195\": 118,\n",
    "  \"Beat_213\": 106,\n",
    "  \"Beat_181\": 102,\n",
    "  \"Beat_222\": 101,\n",
    "  \"Beat_207\": 93,\n",
    "  \"Beat_201\": 85,\n",
    "  \"Beat_276\": 84,\n",
    "  \"Beat_172\": 83,\n",
    "  \"Beat_208\": 81,\n",
    "  \"Beat_178\": 80,\n",
    "  \"Beat_209\": 78,\n",
    "  \"Beat_200\": 71,\n",
    "  \"Beat_212\": 65,\n",
    "  \"Beat_206\": 64,\n",
    "  \"Beat_197\": 63,\n",
    "  \"Beat_243\": 62,\n",
    "  \"Beat_191\": 58,\n",
    "  \"Beat_234\": 58,\n",
    "  \"Beat_203\": 58,\n",
    "  \"Beat_194\": 55,\n",
    "  \"Beat_175\": 54,\n",
    "  \"Beat_258\": 52,\n",
    "  \"Beat_169\": 50,\n",
    "  \"Beat_288\": 46,\n",
    "  \"Beat_270\": 43,\n",
    "  \"Beat_312\": 42,\n",
    "  \"Beat_214\": 41,\n",
    "  \"Beat_219\": 39,\n",
    "  \"Beat_190\": 39,\n",
    "  \"Beat_187\": 38,\n",
    "  \"Beat_231\": 35,\n",
    "  \"Beat_255\": 34,\n",
    "  \"Beat_336\": 33,\n",
    "  \"Beat_237\": 30,\n",
    "  \"Beat_249\": 27,\n",
    "  \"Beat_324\": 26,\n",
    "  \"Beat_260\": 26,\n",
    "  \"Beat_267\": 24,\n",
    "  \"Beat_257\": 24,\n",
    "  \"Beat_318\": 23,\n",
    "  \"Beat_196\": 23,\n",
    "  \"Beat_225\": 22,\n",
    "  \"Beat_202\": 22,\n",
    "  \"Beat_215\": 22,\n",
    "  \"Beat_248\": 22,\n",
    "  \"Beat_254\": 22,\n",
    "  \"Beat_272\": 22,\n",
    "  \"Beat_282\": 21,\n",
    "  \"Beat_263\": 21,\n",
    "  \"Beat_261\": 19,\n",
    "  \"Beat_348\": 18,\n",
    "  \"Beat_226\": 17,\n",
    "  \"Beat_242\": 17,\n",
    "  \"Beat_266\": 17,\n",
    "  \"Beat_199\": 16,\n",
    "  \"Beat_233\": 16,\n",
    "  \"Beat_236\": 16,\n",
    "  \"Beat_193\": 16,\n",
    "  \"Beat_217\": 16,\n",
    "  \"Beat_211\": 16,\n",
    "  \"Beat_205\": 15,\n",
    "  \"Beat_223\": 15,\n",
    "  \"Beat_269\": 15,\n",
    "  \"Beat_275\": 15,\n",
    "  \"Beat_277\": 15,\n",
    "  \"Beat_224\": 15,\n",
    "  \"Beat_220\": 14,\n",
    "  \"Beat_230\": 14,\n",
    "  \"Beat_256\": 12,\n",
    "  \"Beat_273\": 11,\n",
    "  \"Beat_239\": 11,\n",
    "  \"Beat_245\": 11,\n",
    "  \"Beat_279\": 10,\n",
    "  \"Beat_285\": 10,\n",
    "  \"Beat_238\": 9,\n",
    "  \"Beat_244\": 9,\n",
    "  \"Beat_251\": 9,\n",
    "  \"Beat_268\": 9,\n",
    "  \"Beat_259\": 9,\n",
    "  \"Beat_342\": 8,\n",
    "  \"Beat_227\": 8,\n",
    "  \"Beat_247\": 8,\n",
    "  \"Beat_253\": 8,\n",
    "  \"Beat_271\": 8,\n",
    "  \"Beat_250\": 7,\n",
    "  \"Beat_281\": 7,\n",
    "  \"Beat_284\": 7,\n",
    "  \"Beat_323\": 7,\n",
    "  \"Beat_332\": 7,\n",
    "  \"Beat_232\": 7,\n",
    "  \"Beat_265\": 7,\n",
    "  \"Beat_291\": 6,\n",
    "  \"Beat_294\": 6,\n",
    "  \"Beat_297\": 6,\n",
    "  \"Beat_300\": 6,\n",
    "  \"Beat_303\": 6,\n",
    "  \"Beat_306\": 6,\n",
    "  \"Beat_309\": 6,\n",
    "  \"Beat_315\": 6,\n",
    "  \"Beat_262\": 6,\n",
    "  \"Beat_274\": 6,\n",
    "  \"Beat_298\": 6,\n",
    "  \"Beat_328\": 6,\n",
    "  \"Beat_278\": 6,\n",
    "  \"Beat_293\": 5,\n",
    "  \"Beat_337\": 5,\n",
    "  \"Beat_307\": 5,\n",
    "  \"Beat_321\": 4,\n",
    "  \"Beat_327\": 4,\n",
    "  \"Beat_330\": 4,\n",
    "  \"Beat_333\": 4,\n",
    "  \"Beat_339\": 4,\n",
    "  \"Beat_345\": 4,\n",
    "  \"Beat_351\": 4,\n",
    "  \"Beat_354\": 4,\n",
    "  \"Beat_357\": 4,\n",
    "  \"Beat_229\": 4,\n",
    "  \"Beat_280\": 4,\n",
    "  \"Beat_241\": 4,\n",
    "  \"Beat_235\": 4,\n",
    "  \"Beat_302\": 4,\n",
    "  \"Beat_286\": 3,\n",
    "  \"Beat_329\": 3,\n",
    "  \"Beat_338\": 3,\n",
    "  \"Beat_350\": 3,\n",
    "  \"Beat_326\": 3,\n",
    "  \"Beat_218\": 2,\n",
    "  \"Beat_283\": 2,\n",
    "  \"Beat_320\": 2,\n",
    "  \"Beat_335\": 2,\n",
    "  \"Beat_341\": 2,\n",
    "  \"Beat_344\": 2,\n",
    "  \"Beat_347\": 2,\n",
    "  \"Beat_353\": 2,\n",
    "  \"Beat_356\": 2,\n",
    "  \"Beat_290\": 1,\n",
    "  \"Beat_292\": 1,\n",
    "  \"Beat_295\": 1,\n",
    "  \"Beat_296\": 1,\n",
    "  \"Beat_299\": 1,\n",
    "  \"Beat_301\": 1,\n",
    "  \"Beat_305\": 1,\n",
    "  \"Beat_308\": 1,\n",
    "  \"Beat_310\": 1,\n",
    "  \"Beat_314\": 1,\n",
    "  \"Beat_316\": 1,\n",
    "  \"Beat_319\": 1,\n",
    "  \"Beat_325\": 1,\n",
    "  \"Beat_334\": 1,\n",
    "  \"Beat_349\": 1,\n",
    "  \"Beat_221\": 1,\n",
    "  \"Beat_317\": 1\n",
    "}\n"
   ]
  },
  {
   "cell_type": "code",
   "execution_count": 63,
   "metadata": {},
   "outputs": [],
   "source": [
    "from math import log2\n",
    "\n",
    "beat_data_int = {int(k.replace('Beat_', '')):v for k, v in beat_data.items() if 'Beat' in k}\n",
    "max_beat = max(beat_data_int.keys())\n",
    "beat_data = [log2(beat_data_int.get(i, 0)+1) for i in range(max_beat+1)]\n"
   ]
  },
  {
   "cell_type": "code",
   "execution_count": 64,
   "metadata": {},
   "outputs": [
    {
     "data": {
      "text/plain": [
       "Text(0, 0.5, 'frequency')"
      ]
     },
     "execution_count": 64,
     "metadata": {},
     "output_type": "execute_result"
    },
    {
     "data": {
      "image/png": "[encoded data removed]",
      "text/plain": [
       "<Figure size 2000x1000 with 1 Axes>"
      ]
     },
     "metadata": {},
     "output_type": "display_data"
    }
   ],
   "source": [
    "# draw histogram\n",
    "\n",
    "plt.figure(figsize=(20, 10))\n",
    "plt.bar(range(len(beat_data)), beat_data)\n",
    "plt.xlabel('beat')\n",
    "plt.ylabel('frequency')"
   ]
  }
 ],
 "metadata": {
  "kernelspec": {
   "display_name": "jgb-omr-AfDql38P",
   "language": "python",
   "name": "python3"
  },
  "language_info": {
   "codemirror_mode": {
    "name": "ipython",
    "version": 3
   },
   "file_extension": ".py",
   "mimetype": "text/x-python",
   "name": "python",
   "nbconvert_exporter": "python",
   "pygments_lexer": "ipython3",
   "version": "3.8.10"
  }
 },
 "nbformat": 4,
 "nbformat_minor": 2
}
