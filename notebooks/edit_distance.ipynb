{
 "cells": [
  {
   "cell_type": "code",
   "execution_count": 1,
   "metadata": {},
   "outputs": [
    {
     "name": "stdout",
     "output_type": "stream",
     "text": [
      "/home/dongmin/userdata/jeongganbo-omr\n"
     ]
    }
   ],
   "source": [
    "%cd /home/dongmin/23FW-NCG/jeongganbo-omr\n",
    "%load_ext autoreload\n",
    "%autoreload 2"
   ]
  },
  {
   "cell_type": "code",
   "execution_count": 2,
   "metadata": {},
   "outputs": [
    {
     "name": "stdout",
     "output_type": "stream",
     "text": [
      "Fri Jun 28 15:36:41 2024       \n",
      "+-----------------------------------------------------------------------------+\n",
      "| NVIDIA-SMI 525.147.05   Driver Version: 525.147.05   CUDA Version: 12.0     |\n",
      "|-------------------------------+----------------------+----------------------+\n",
      "| GPU  Name        Persistence-M| Bus-Id        Disp.A | Volatile Uncorr. ECC |\n",
      "| Fan  Temp  Perf  Pwr:Usage/Cap|         Memory-Usage | GPU-Util  Compute M. |\n",
      "|                               |                      |               MIG M. |\n",
      "|===============================+======================+======================|\n",
      "|   0  NVIDIA RTX A5000    Off  | 00000000:01:00.0 Off |                  Off |\n",
      "| 30%   36C    P8    16W / 230W |      1MiB / 24564MiB |      0%      Default |\n",
      "|                               |                      |                  N/A |\n",
      "+-------------------------------+----------------------+----------------------+\n",
      "|   1  NVIDIA RTX A5000    Off  | 00000000:02:00.0 Off |                  Off |\n",
      "| 30%   35C    P8    17W / 230W |      1MiB / 24564MiB |      0%      Default |\n",
      "|                               |                      |                  N/A |\n",
      "+-------------------------------+----------------------+----------------------+\n",
      "                                                                               \n",
      "+-----------------------------------------------------------------------------+\n",
      "| Processes:                                                                  |\n",
      "|  GPU   GI   CI        PID   Type   Process name                  GPU Memory |\n",
      "|        ID   ID                                                   Usage      |\n",
      "|=============================================================================|\n",
      "|  No running processes found                                                 |\n",
      "+-----------------------------------------------------------------------------+\n"
     ]
    }
   ],
   "source": [
    "!nvidia-smi"
   ]
  },
  {
   "cell_type": "code",
   "execution_count": 3,
   "metadata": {},
   "outputs": [
    {
     "name": "stderr",
     "output_type": "stream",
     "text": [
      "/home/dongmin/.local/share/virtualenvs/jeongganbo-omr-QQMBMPoZ/lib/python3.8/site-packages/tqdm/auto.py:21: TqdmWarning: IProgress not found. Please update jupyter and ipywidgets. See https://ipywidgets.readthedocs.io/en/stable/user_install.html\n",
      "  from .autonotebook import tqdm as notebook_tqdm\n"
     ]
    }
   ],
   "source": [
    "from time import time\n",
    "import csv\n",
    "import re\n",
    "import glob\n",
    "import json\n",
    "from random import randint, choice, uniform, seed\n",
    "from collections import defaultdict, Counter\n",
    "import pickle\n",
    "from pathlib import Path\n",
    "\n",
    "from tqdm import tqdm\n",
    "import matplotlib.pyplot as plt\n",
    "\n",
    "from omegaconf import OmegaConf\n",
    "\n",
    "import numpy as np\n",
    "import torch\n",
    "from torch.utils.data import DataLoader\n",
    "\n",
    "from exp_utils.model_zoo import TransformerOMR\n",
    "from exp_utils.train_utils import Trainer, Tokenizer, pad_collate, LabelStudioDataset\n",
    "\n",
    "from test_er import make_gt_pred_tuple_list\n",
    "import Levenshtein\n",
    "\n",
    "dprint = lambda d: print(json.dumps(d, indent=2))"
   ]
  },
  {
   "cell_type": "markdown",
   "metadata": {},
   "source": [
    "## Edit distance test"
   ]
  },
  {
   "cell_type": "markdown",
   "metadata": {},
   "source": [
    "### inference fn"
   ]
  },
  {
   "cell_type": "code",
   "execution_count": 15,
   "metadata": {},
   "outputs": [],
   "source": [
    "def calc_ed(project_root_dir, exp_dir):\n",
    "  conf = OmegaConf.load(exp_dir / '.hydra' / 'config.yaml')\n",
    "  device = torch.device(conf.general.device)\n",
    "\n",
    "  model_dir = exp_dir / 'model'\n",
    "\n",
    "  print('\\nload tokenizer')\n",
    "\n",
    "  tokenizer_vocab_fn = model_dir / f'{conf.general.model_name}_tokenizer.txt'\n",
    "  tokenizer = Tokenizer(vocab_txt_fn=tokenizer_vocab_fn)\n",
    "\n",
    "  print('COMPLETE: load tokenizer')\n",
    "\n",
    "\n",
    "  print('\\ndata_set loading...')\n",
    "\n",
    "  test_set = LabelStudioDataset(project_root_dir / conf.data_path.test, project_root_dir / 'jeongganbo-png/splited-pngs', remove_borders=conf.test_setting.remove_borders, is_valid=True)\n",
    "\n",
    "  test_set.tokenizer = tokenizer\n",
    "\n",
    "  test_loader = DataLoader(test_set, batch_size=1000, shuffle=False, collate_fn=pad_collate, num_workers=conf.dataloader.num_workers_load)\n",
    "\n",
    "  print('COMPLETE: data_set loading')\n",
    "\n",
    "\n",
    "  print('\\nmodel initializing...')\n",
    "  model = TransformerOMR(conf.model.dim, len(tokenizer.vocab), enc_depth=conf.model.enc_depth, dec_depth=conf.model.dec_depth, num_heads=conf.model.num_heads, dropout=conf.model.dropout)\n",
    "  model.load_state_dict(torch.load(model_dir / f'{conf.general.model_name}_HL_{conf.test_setting.target_metric}_best.pt', map_location='cpu')['model'])\n",
    "\n",
    "  tester = Trainer(model, \n",
    "                  None, #optimizer\n",
    "                  None, #loss_fn\n",
    "                  None, #train_loader\n",
    "                  test_loader, \n",
    "                  tokenizer,\n",
    "                  device=device, \n",
    "                  scheduler=None,\n",
    "                  aux_loader=None,\n",
    "                  aux_freq=None,\n",
    "                  mix_aux=None,\n",
    "                  aux_valid_loader=None,\n",
    "                  wandb=None, \n",
    "                  model_name=conf.general.model_name,\n",
    "                  model_save_path=model_dir,\n",
    "                  checkpoint_logger=None)\n",
    "\n",
    "  print('COMPLETE: model initializing')\n",
    "\n",
    "\n",
    "  print('\\nTesting...')\n",
    "\n",
    "  _, metric_dict, pred_tensor_list, _ = tester.validate(with_confidence=True)\n",
    "\n",
    "  print('COMPELETE: Testing')\n",
    "  \n",
    "  pred_list = []\n",
    "\n",
    "  for b_idx in range(len(pred_tensor_list)):\n",
    "    pred_list += pred_tensor_list[b_idx].tolist()\n",
    "\n",
    "  pred_list = list( enumerate(pred_list) )\n",
    "  pred_list = make_gt_pred_tuple_list(test_set, tokenizer, pred_list) \n",
    "  \n",
    "  dists = []\n",
    "  dist_ratios = []\n",
    "  \n",
    "  for case in pred_list:\n",
    "    label, pred = case[2:4]\n",
    "    \n",
    "    ed = Levenshtein.distance(pred, label)\n",
    "    \n",
    "    dists.append(ed)\n",
    "    dist_ratios.append(round(ed / len(label), 2))\n",
    "  \n",
    "  sorted_dists = sorted([ tup for tup in dict(Counter(dists)).items() ], key=lambda x: x[0])\n",
    "  sorted_ratios = sorted([ tup for tup in dict(Counter(dist_ratios)).items() ], key=lambda x: x[0])\n",
    "  \n",
    "  return metric_dict, len(pred_list), sorted_dists, sorted_ratios"
   ]
  },
  {
   "cell_type": "markdown",
   "metadata": {},
   "source": [
    "### process test result"
   ]
  },
  {
   "cell_type": "code",
   "execution_count": 16,
   "metadata": {},
   "outputs": [
    {
     "name": "stdout",
     "output_type": "stream",
     "text": [
      "\n",
      "load tokenizer\n",
      "COMPLETE: load tokenizer\n",
      "\n",
      "data_set loading...\n",
      "COMPLETE: data_set loading\n",
      "\n",
      "model initializing...\n",
      "COMPLETE: model initializing\n",
      "\n",
      "Testing...\n"
     ]
    },
    {
     "name": "stderr",
     "output_type": "stream",
     "text": [
      "                                             \r"
     ]
    },
    {
     "name": "stdout",
     "output_type": "stream",
     "text": [
      "COMPELETE: Testing\n",
      "\n",
      "load tokenizer\n",
      "COMPLETE: load tokenizer\n",
      "\n",
      "data_set loading...\n",
      "COMPLETE: data_set loading\n",
      "\n",
      "model initializing...\n",
      "COMPLETE: model initializing\n",
      "\n",
      "Testing...\n"
     ]
    },
    {
     "name": "stderr",
     "output_type": "stream",
     "text": [
      "                                             \r"
     ]
    },
    {
     "name": "stdout",
     "output_type": "stream",
     "text": [
      "COMPELETE: Testing\n",
      "\n",
      "load tokenizer\n",
      "COMPLETE: load tokenizer\n",
      "\n",
      "data_set loading...\n",
      "COMPLETE: data_set loading\n",
      "\n",
      "model initializing...\n",
      "COMPLETE: model initializing\n",
      "\n",
      "Testing...\n"
     ]
    },
    {
     "name": "stderr",
     "output_type": "stream",
     "text": [
      "                                             \r"
     ]
    },
    {
     "name": "stdout",
     "output_type": "stream",
     "text": [
      "COMPELETE: Testing\n"
     ]
    }
   ],
   "source": [
    "dir_date = '2024-05-04'\n",
    "dir_times = [\n",
    "  '09-35-37', \n",
    "  '10-22-54', \n",
    "  '15-50-51', \n",
    "]\n",
    "\n",
    "project_root_dir = Path('.')\n",
    "output_dir = project_root_dir / 'outputs'\n",
    "\n",
    "sorted_dists_ls = []\n",
    "\n",
    "for dir_time in dir_times:\n",
    "  exp_dir = output_dir / dir_date / dir_time  \n",
    "  _, num_cases, sorted_dists, _ = calc_ed(project_root_dir, exp_dir)\n",
    "  \n",
    "  sorted_dists_ls.append( (num_cases, sorted_dists) )"
   ]
  },
  {
   "cell_type": "markdown",
   "metadata": {},
   "source": [
    "## draw accumulative plot"
   ]
  },
  {
   "cell_type": "code",
   "execution_count": 31,
   "metadata": {},
   "outputs": [
    {
     "name": "stdout",
     "output_type": "stream",
     "text": [
      "[(0, 1272), (1, 162), (2, 49), (3, 10), (4, 23), (5, 8), (6, 5), (7, 1), (8, 1), (10, 1)] [0.83028721 0.93603133 0.96801567 0.97454308 0.98955614 0.99477807\n",
      " 0.99804178 0.99869452 0.99934726 1.        ] [1272, 162, 49, 10, 23, 8, 5, 1, 1, 1]\n",
      "[(0, 1318), (1, 131), (2, 38), (3, 7), (4, 24), (5, 7), (6, 4), (7, 1), (8, 1), (12, 1)] [0.86031332 0.94582245 0.97062663 0.97519582 0.99086162 0.99543081\n",
      " 0.99804178 0.99869452 0.99934726 1.        ] [1318, 131, 38, 7, 24, 7, 4, 1, 1, 1]\n",
      "[(0, 1394), (1, 72), (2, 29), (3, 2), (4, 23), (5, 8), (6, 3), (10, 1)] [0.90992167 0.95691906 0.97584856 0.97715405 0.9921671  0.99738903\n",
      " 0.99934726 1.        ] [1394, 72, 29, 2, 23, 8, 3, 1]\n"
     ]
    }
   ],
   "source": [
    "max_dist = []\n",
    "\n",
    "data = []\n",
    "\n",
    "for num_cases, sorted_dists in sorted_dists_ls:\n",
    "  num_ops = [ tup[0] for tup in sorted_dists ]\n",
    "\n",
    "  num_ex = [ tup[1] for tup in sorted_dists ]\n",
    "\n",
    "  num_ex_cumsum = np.cumsum(num_ex) / num_cases\n",
    "  \n",
    "  max_dist.append(max(num_ops))\n",
    "  data.append(list(zip(num_ops, num_ex_cumsum)))\n",
    "\n",
    "  print(sorted_dists, num_ex_cumsum, num_ex)\n",
    "\n",
    "max_dist = max(max_dist)"
   ]
  },
  {
   "cell_type": "code",
   "execution_count": 42,
   "metadata": {},
   "outputs": [
    {
     "data": {
      "text/plain": [
       "<matplotlib.legend.Legend at 0x758f44fefdf0>"
      ]
     },
     "execution_count": 42,
     "metadata": {},
     "output_type": "execute_result"
    },
    {
     "data": {
      "image/png": "[encoded data removed]",
      "text/plain": [
       "<Figure size 640x480 with 1 Axes>"
      ]
     },
     "metadata": {},
     "output_type": "display_data"
    }
   ],
   "source": [
    "settings = [('r', 'Base'), ('g', 'Alterations'), ('b', 'Complete')]\n",
    "\n",
    "plt.xticks(np.arange(max_dist+1))\n",
    "plt.xlabel('Edit distance')\n",
    "plt.ylabel('Number of samples(%)')\n",
    "\n",
    "for i, d in enumerate(data):\n",
    "  plt.plot([p[0] for p in d], [p[1] for p in d], settings[i][0]+'o-', label=settings[i][1] )\n",
    "\n",
    "plt.legend()"
   ]
  }
 ],
 "metadata": {
  "kernelspec": {
   "display_name": "jeongganbo-omr-QQMBMPoZ",
   "language": "python",
   "name": "python3"
  },
  "language_info": {
   "codemirror_mode": {
    "name": "ipython",
    "version": 3
   },
   "file_extension": ".py",
   "mimetype": "text/x-python",
   "name": "python",
   "nbconvert_exporter": "python",
   "pygments_lexer": "ipython3",
   "version": "3.8.10"
  }
 },
 "nbformat": 4,
 "nbformat_minor": 2
}
