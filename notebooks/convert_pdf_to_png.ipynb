{
 "cells": [
  {
   "cell_type": "code",
   "execution_count": 3,
   "metadata": {},
   "outputs": [
    {
     "name": "stderr",
     "output_type": "stream",
     "text": [
      "100%|██████████| 355/355 [02:27<00:00,  2.41it/s]\n"
     ]
    }
   ],
   "source": [
    "import pdfplumber\n",
    "from tqdm import tqdm\n",
    "\n",
    "instrument_name = 'piri'\n",
    "\n",
    "pdf_path = f'pdfs/{instrument_name}.pdf'\n",
    "pdf = pdfplumber.open(pdf_path)\n",
    "\n",
    "for page in tqdm(pdf.pages):\n",
    "  page_number = str(page.page_number).zfill(3)\n",
    "  image = page.to_image(resolution=300)\n",
    "  image.save(f'pngs/{instrument_name}_pg-{page_number}.png')\n",
    "\n",
    "\n",
    "\n"
   ]
  },
  {
   "cell_type": "code",
   "execution_count": null,
   "metadata": {},
   "outputs": [],
   "source": [
    "pdf_path = 'pdfs/daegeum.pdf'\n",
    "pdf = pdfplumber.open(pdf_path)\n",
    "\n",
    "for page in tqdm(pdf.pages):\n",
    "  page_number = str(page.page_number).zfill(3)\n",
    "  image = page.to_image(resolution=300)\n",
    "  image.save(f'pngs/daegeum_pg-{page_number}.png')"
   ]
  }
 ],
 "metadata": {
  "kernelspec": {
   "display_name": "jgb-omr-AfDql38P",
   "language": "python",
   "name": "python3"
  },
  "language_info": {
   "codemirror_mode": {
    "name": "ipython",
    "version": 3
   },
   "file_extension": ".py",
   "mimetype": "text/x-python",
   "name": "python",
   "nbconvert_exporter": "python",
   "pygments_lexer": "ipython3",
   "version": "3.8.10"
  },
  "orig_nbformat": 4
 },
 "nbformat": 4,
 "nbformat_minor": 2
}
